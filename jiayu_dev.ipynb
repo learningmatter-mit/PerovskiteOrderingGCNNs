{
 "cells": [
  {
   "cell_type": "code",
   "execution_count": 1,
   "metadata": {},
   "outputs": [
    {
     "name": "stderr",
     "output_type": "stream",
     "text": [
      "/home/jypeng/miniconda3/envs/Perovskite_ML_Environment/lib/python3.10/site-packages/tqdm/auto.py:21: TqdmWarning: IProgress not found. Please update jupyter and ipywidgets. See https://ipywidgets.readthedocs.io/en/stable/user_install.html\n",
      "  from .autonotebook import tqdm as notebook_tqdm\n"
     ]
    }
   ],
   "source": [
    "import pandas as pd\n",
    "from processing.utils import filter_data_by_properties, select_structures\n",
    "from processing.interpolation.Interpolation import apply_interpolation\n",
    "from processing.dataloader.dataloader import get_dataloader\n",
    "from processing.create_model.create_model import create_model\n",
    "from training.hyperparameters.default import get_default_cgcnn_hyperparameters, get_default_painn_hyperparameters, get_default_e3nn_hyperparameters\n",
    "from training.model_training.trainer import trainer"
   ]
  },
  {
   "cell_type": "code",
   "execution_count": 2,
   "metadata": {},
   "outputs": [],
   "source": [
    "perovskite_datasets = {}\n",
    "\n",
    "# dataset_names = ['training_set', 'validation_set', 'test_set', 'holdout_set_B_sites', 'holdout_set_series']\n",
    "dataset_names = ['training_set', 'validation_set']\n",
    "\n",
    "for dataset_name in dataset_names:\n",
    "    perovskite_datasets[dataset_name] = pd.read_json('./data/' + dataset_name + '.json')"
   ]
  },
  {
   "cell_type": "code",
   "execution_count": 3,
   "metadata": {},
   "outputs": [],
   "source": [
    "property = 'dft_e_hull'"
   ]
  },
  {
   "cell_type": "code",
   "execution_count": 4,
   "metadata": {},
   "outputs": [],
   "source": [
    "train_data = filter_data_by_properties(perovskite_datasets['training_set'][:100], property)\n",
    "val_data = filter_data_by_properties(perovskite_datasets['validation_set'][:100], property)\n",
    "\n",
    "train_data_unrelaxed = select_structures(train_data, 'unrelaxed')\n",
    "val_data_unrelaxed = select_structures(val_data, 'unrelaxed')\n",
    "\n",
    "train_data_unrelaxed = apply_interpolation(train_data_unrelaxed, property)\n",
    "val_data_unrelaxed = apply_interpolation(val_data_unrelaxed, property)"
   ]
  },
  {
   "cell_type": "code",
   "execution_count": 5,
   "metadata": {},
   "outputs": [],
   "source": [
    "gpu_num = 0\n",
    "model_type = 'e3nn_contrastive'\n",
    "OUTDIR = 'saved_models/' + model_type + '/Scrap2'"
   ]
  },
  {
   "cell_type": "code",
   "execution_count": 6,
   "metadata": {},
   "outputs": [
    {
     "name": "stderr",
     "output_type": "stream",
     "text": [
      "100%|██████████| 100/100 [00:00<00:00, 1562.61it/s]\n",
      "100%|██████████| 100/100 [00:00<00:00, 2379.46it/s]\n"
     ]
    }
   ],
   "source": [
    "train_loader = get_dataloader(train_data_unrelaxed, prop=\"dft_e_hull\", model_type=model_type, batch_size=10, interpolation=True)\n",
    "val_loader = get_dataloader(val_data_unrelaxed, prop=\"dft_e_hull\", model_type=model_type, batch_size=10, interpolation=True)"
   ]
  },
  {
   "cell_type": "code",
   "execution_count": 7,
   "metadata": {},
   "outputs": [
    {
     "name": "stdout",
     "output_type": "stream",
     "text": [
      "{'MaxEpochs': 100, 'log_lr': -3, 'reduceLR_patience': 10, 'len_embedding_feature_vector': 64, 'num_hidden_feature': 128, 'num_hidden_layer': 1, 'multiplicity_irreps': 32, 'num_conv': 1, 'num_radical_basis': 10, 'num_radial_neurons': 10}\n"
     ]
    },
    {
     "name": "stderr",
     "output_type": "stream",
     "text": [
      "/home/jypeng/miniconda3/envs/Perovskite_ML_Environment/lib/python3.10/site-packages/torch/jit/_check.py:181: UserWarning: The TorchScript type system doesn't support instance-level annotations on empty non-base types in `__init__`. Instead, either 1) use a type annotation in the class body, or 2) wrap the type in `torch.jit.Attribute`.\n",
      "  warnings.warn(\"The TorchScript type system doesn't support \"\n"
     ]
    }
   ],
   "source": [
    "hyperparameters = get_default_e3nn_hyperparameters()\n",
    "hyperparameters['num_hidden_layer'] = 1\n",
    "hyperparameters['num_conv'] = 1\n",
    "hyperparameters['num_radial_neurons'] = 10\n",
    "print(hyperparameters)\n",
    "\n",
    "model, Normalizer = create_model(model_type, train_loader, hyperparameters=hyperparameters, prop=property)"
   ]
  },
  {
   "cell_type": "code",
   "execution_count": 8,
   "metadata": {},
   "outputs": [
    {
     "name": "stderr",
     "output_type": "stream",
     "text": [
      "100%|██████████| 3/3 [00:03<00:00,  1.08s/it]\n"
     ]
    },
    {
     "name": "stdout",
     "output_type": "stream",
     "text": [
      "   1 ,lr = 0.00100000  train loss = 0.16417789  train direct = 0.19049797  train contrastive = 0.29703279  val loss = 0.19854682  val direct = 0.14934684  val contrastive = 0.43780377  time = 00:00:03\n"
     ]
    },
    {
     "name": "stderr",
     "output_type": "stream",
     "text": [
      "100%|██████████| 3/3 [00:00<00:00, 20.63it/s]\n"
     ]
    },
    {
     "name": "stdout",
     "output_type": "stream",
     "text": [
      "   2 ,lr = 0.00100000  train loss = 0.16541458  train direct = 0.20736894  train contrastive = 0.29703301  val loss = 0.19128942  val direct = 0.15234274  val contrastive = 0.43780354  time = 00:00:00\n"
     ]
    },
    {
     "name": "stderr",
     "output_type": "stream",
     "text": [
      "100%|██████████| 3/3 [00:00<00:00, 20.93it/s]\n"
     ]
    },
    {
     "name": "stdout",
     "output_type": "stream",
     "text": [
      "   3 ,lr = 0.00100000  train loss = 0.16617652  train direct = 0.20292280  train contrastive = 0.29703336  val loss = 0.20113000  val direct = 0.14692583  val contrastive = 0.43780389  time = 00:00:00\n"
     ]
    },
    {
     "name": "stderr",
     "output_type": "stream",
     "text": [
      "100%|██████████| 3/3 [00:00<00:00, 20.56it/s]\n"
     ]
    },
    {
     "name": "stdout",
     "output_type": "stream",
     "text": [
      "   4 ,lr = 0.00100000  train loss = 0.16805221  train direct = 0.17985152  train contrastive = 0.29703329  val loss = 0.19360129  val direct = 0.14293374  val contrastive = 0.43780502  time = 00:00:00\n"
     ]
    },
    {
     "name": "stderr",
     "output_type": "stream",
     "text": [
      "100%|██████████| 3/3 [00:00<00:00, 21.79it/s]\n"
     ]
    },
    {
     "name": "stdout",
     "output_type": "stream",
     "text": [
      "   5 ,lr = 0.00100000  train loss = 0.16264767  train direct = 0.19985849  train contrastive = 0.29703283  val loss = 0.19010210  val direct = 0.14198446  val contrastive = 0.43780514  time = 00:00:00\n"
     ]
    },
    {
     "name": "stderr",
     "output_type": "stream",
     "text": [
      "100%|██████████| 3/3 [00:00<00:00, 21.62it/s]\n"
     ]
    },
    {
     "name": "stdout",
     "output_type": "stream",
     "text": [
      "   6 ,lr = 0.00100000  train loss = 0.16535705  train direct = 0.17959364  train contrastive = 0.29703320  val loss = 0.19205037  val direct = 0.14403363  val contrastive = 0.43780664  time = 00:00:00\n"
     ]
    },
    {
     "name": "stderr",
     "output_type": "stream",
     "text": [
      "100%|██████████| 3/3 [00:00<00:00, 21.62it/s]\n"
     ]
    },
    {
     "name": "stdout",
     "output_type": "stream",
     "text": [
      "   7 ,lr = 0.00100000  train loss = 0.16324811  train direct = 0.17434756  train contrastive = 0.29703443  val loss = 0.18953539  val direct = 0.14502221  val contrastive = 0.43781011  time = 00:00:00\n"
     ]
    },
    {
     "name": "stderr",
     "output_type": "stream",
     "text": [
      "100%|██████████| 3/3 [00:00<00:00, 20.43it/s]\n"
     ]
    },
    {
     "name": "stdout",
     "output_type": "stream",
     "text": [
      "   8 ,lr = 0.00100000  train loss = 0.16188659  train direct = 0.19363669  train contrastive = 0.29703803  val loss = 0.19187110  val direct = 0.13636242  val contrastive = 0.43781299  time = 00:00:00\n"
     ]
    },
    {
     "name": "stderr",
     "output_type": "stream",
     "text": [
      "100%|██████████| 3/3 [00:00<00:00, 21.02it/s]\n"
     ]
    },
    {
     "name": "stdout",
     "output_type": "stream",
     "text": [
      "   9 ,lr = 0.00100000  train loss = 0.16449992  train direct = 0.17080439  train contrastive = 0.29704223  val loss = 0.20132642  val direct = 0.13450883  val contrastive = 0.43782025  time = 00:00:00\n"
     ]
    },
    {
     "name": "stderr",
     "output_type": "stream",
     "text": [
      "100%|██████████| 3/3 [00:00<00:00, 21.62it/s]\n"
     ]
    },
    {
     "name": "stdout",
     "output_type": "stream",
     "text": [
      "  10 ,lr = 0.00100000  train loss = 0.15586338  train direct = 0.16639044  train contrastive = 0.29705028  val loss = 0.19452768  val direct = 0.14950499  val contrastive = 0.43783468  time = 00:00:00\n"
     ]
    },
    {
     "name": "stderr",
     "output_type": "stream",
     "text": [
      "100%|██████████| 3/3 [00:00<00:00, 20.78it/s]\n"
     ]
    },
    {
     "name": "stdout",
     "output_type": "stream",
     "text": [
      "  11 ,lr = 0.00100000  train loss = 0.15622755  train direct = 0.17065999  train contrastive = 0.29705998  val loss = 0.19802517  val direct = 0.14349340  val contrastive = 0.43786700  time = 00:00:00\n"
     ]
    },
    {
     "name": "stderr",
     "output_type": "stream",
     "text": [
      "100%|██████████| 3/3 [00:00<00:00, 20.55it/s]\n"
     ]
    },
    {
     "name": "stdout",
     "output_type": "stream",
     "text": [
      "  12 ,lr = 0.00100000  train loss = 0.15497455  train direct = 0.16128062  train contrastive = 0.29707978  val loss = 0.19817333  val direct = 0.18295721  val contrastive = 0.43792269  time = 00:00:00\n"
     ]
    },
    {
     "name": "stderr",
     "output_type": "stream",
     "text": [
      "100%|██████████| 3/3 [00:00<00:00, 21.69it/s]\n"
     ]
    },
    {
     "name": "stdout",
     "output_type": "stream",
     "text": [
      "  13 ,lr = 0.00100000  train loss = 0.15342778  train direct = 0.15406542  train contrastive = 0.29708625  val loss = 0.20056989  val direct = 0.16071176  val contrastive = 0.43794951  time = 00:00:00\n"
     ]
    },
    {
     "name": "stderr",
     "output_type": "stream",
     "text": [
      "100%|██████████| 3/3 [00:00<00:00, 21.47it/s]\n"
     ]
    },
    {
     "name": "stdout",
     "output_type": "stream",
     "text": [
      "  14 ,lr = 0.00100000  train loss = 0.14970901  train direct = 0.15891272  train contrastive = 0.29712444  val loss = 0.20247050  val direct = 0.14784596  val contrastive = 0.43802189  time = 00:00:00\n"
     ]
    },
    {
     "name": "stderr",
     "output_type": "stream",
     "text": [
      "100%|██████████| 3/3 [00:00<00:00, 20.63it/s]\n"
     ]
    },
    {
     "name": "stdout",
     "output_type": "stream",
     "text": [
      "  15 ,lr = 0.00100000  train loss = 0.15123169  train direct = 0.14995532  train contrastive = 0.29716549  val loss = 0.20559309  val direct = 0.14544087  val contrastive = 0.43810431  time = 00:00:00\n"
     ]
    },
    {
     "name": "stderr",
     "output_type": "stream",
     "text": [
      "100%|██████████| 3/3 [00:00<00:00, 20.49it/s]\n"
     ]
    },
    {
     "name": "stdout",
     "output_type": "stream",
     "text": [
      "  16 ,lr = 0.00100000  train loss = 0.14882997  train direct = 0.15885501  train contrastive = 0.29721254  val loss = 0.20165320  val direct = 0.14239785  val contrastive = 0.43821395  time = 00:00:00\n"
     ]
    },
    {
     "name": "stderr",
     "output_type": "stream",
     "text": [
      "100%|██████████| 3/3 [00:00<00:00, 20.99it/s]\n"
     ]
    },
    {
     "name": "stdout",
     "output_type": "stream",
     "text": [
      "  17 ,lr = 0.00100000  train loss = 0.15073795  train direct = 0.14277273  train contrastive = 0.29726233  val loss = 0.20273524  val direct = 0.15910926  val contrastive = 0.43834420  time = 00:00:00\n"
     ]
    },
    {
     "name": "stderr",
     "output_type": "stream",
     "text": [
      "100%|██████████| 3/3 [00:00<00:00, 20.79it/s]\n"
     ]
    },
    {
     "name": "stdout",
     "output_type": "stream",
     "text": [
      "  18 ,lr = 0.00100000  train loss = 0.14950786  train direct = 0.15223355  train contrastive = 0.29733869  val loss = 0.20592046  val direct = 0.16888417  val contrastive = 0.43855242  time = 00:00:00\n"
     ]
    },
    {
     "name": "stderr",
     "output_type": "stream",
     "text": [
      "100%|██████████| 3/3 [00:00<00:00, 20.35it/s]\n"
     ]
    },
    {
     "name": "stdout",
     "output_type": "stream",
     "text": [
      "  19 ,lr = 0.00050000  train loss = 0.15150750  train direct = 0.13560843  train contrastive = 0.29739552  val loss = 0.19587873  val direct = 0.14908840  val contrastive = 0.43867737  time = 00:00:00\n"
     ]
    },
    {
     "name": "stderr",
     "output_type": "stream",
     "text": [
      "100%|██████████| 3/3 [00:00<00:00, 20.88it/s]\n"
     ]
    },
    {
     "name": "stdout",
     "output_type": "stream",
     "text": [
      "  20 ,lr = 0.00050000  train loss = 0.15414664  train direct = 0.14822721  train contrastive = 0.29748629  val loss = 0.19845103  val direct = 0.14367573  val contrastive = 0.43882645  time = 00:00:00\n"
     ]
    },
    {
     "name": "stderr",
     "output_type": "stream",
     "text": [
      "100%|██████████| 3/3 [00:00<00:00, 19.49it/s]\n"
     ]
    },
    {
     "name": "stdout",
     "output_type": "stream",
     "text": [
      "  21 ,lr = 0.00050000  train loss = 0.14645880  train direct = 0.13393326  train contrastive = 0.29756191  val loss = 0.19694325  val direct = 0.15196606  val contrastive = 0.43899332  time = 00:00:00\n"
     ]
    },
    {
     "name": "stderr",
     "output_type": "stream",
     "text": [
      "100%|██████████| 3/3 [00:00<00:00, 21.36it/s]\n"
     ]
    },
    {
     "name": "stdout",
     "output_type": "stream",
     "text": [
      "  22 ,lr = 0.00050000  train loss = 0.14539072  train direct = 0.13769884  train contrastive = 0.29765361  val loss = 0.19490403  val direct = 0.13907137  val contrastive = 0.43920072  time = 00:00:00\n"
     ]
    },
    {
     "name": "stderr",
     "output_type": "stream",
     "text": [
      "100%|██████████| 3/3 [00:00<00:00, 18.27it/s]\n"
     ]
    },
    {
     "name": "stdout",
     "output_type": "stream",
     "text": [
      "  23 ,lr = 0.00050000  train loss = 0.14070134  train direct = 0.13797189  train contrastive = 0.29774492  val loss = 0.19969148  val direct = 0.14505091  val contrastive = 0.43940894  time = 00:00:00\n"
     ]
    },
    {
     "name": "stderr",
     "output_type": "stream",
     "text": [
      "100%|██████████| 3/3 [00:00<00:00, 19.25it/s]\n"
     ]
    },
    {
     "name": "stdout",
     "output_type": "stream",
     "text": [
      "  24 ,lr = 0.00050000  train loss = 0.14442812  train direct = 0.13012009  train contrastive = 0.29784794  val loss = 0.19845688  val direct = 0.13944306  val contrastive = 0.43957688  time = 00:00:00\n"
     ]
    },
    {
     "name": "stderr",
     "output_type": "stream",
     "text": [
      "100%|██████████| 3/3 [00:00<00:00, 20.18it/s]\n"
     ]
    },
    {
     "name": "stdout",
     "output_type": "stream",
     "text": [
      "  25 ,lr = 0.00050000  train loss = 0.13950466  train direct = 0.11647142  train contrastive = 0.29798267  val loss = 0.20066330  val direct = 0.13589668  val contrastive = 0.43973018  time = 00:00:00\n"
     ]
    },
    {
     "name": "stderr",
     "output_type": "stream",
     "text": [
      "100%|██████████| 3/3 [00:00<00:00, 19.29it/s]\n"
     ]
    },
    {
     "name": "stdout",
     "output_type": "stream",
     "text": [
      "  26 ,lr = 0.00050000  train loss = 0.14455017  train direct = 0.10818049  train contrastive = 0.29807167  val loss = 0.19799712  val direct = 0.13380229  val contrastive = 0.43992528  time = 00:00:00\n"
     ]
    },
    {
     "name": "stderr",
     "output_type": "stream",
     "text": [
      "100%|██████████| 3/3 [00:00<00:00, 19.51it/s]\n"
     ]
    },
    {
     "name": "stdout",
     "output_type": "stream",
     "text": [
      "  27 ,lr = 0.00050000  train loss = 0.14199114  train direct = 0.11171860  train contrastive = 0.29821951  val loss = 0.18953140  val direct = 0.13526298  val contrastive = 0.44013319  time = 00:00:00\n"
     ]
    },
    {
     "name": "stderr",
     "output_type": "stream",
     "text": [
      "100%|██████████| 3/3 [00:00<00:00, 19.65it/s]\n"
     ]
    },
    {
     "name": "stdout",
     "output_type": "stream",
     "text": [
      "  28 ,lr = 0.00050000  train loss = 0.13850585  train direct = 0.11436635  train contrastive = 0.29824760  val loss = 0.19672752  val direct = 0.13451518  val contrastive = 0.44026079  time = 00:00:00\n"
     ]
    },
    {
     "name": "stderr",
     "output_type": "stream",
     "text": [
      "100%|██████████| 3/3 [00:00<00:00, 19.40it/s]\n"
     ]
    },
    {
     "name": "stdout",
     "output_type": "stream",
     "text": [
      "  29 ,lr = 0.00050000  train loss = 0.13277736  train direct = 0.10475862  train contrastive = 0.28149384  val loss = 0.19569137  val direct = 0.13087270  val contrastive = 0.44028973  time = 00:00:00\n"
     ]
    },
    {
     "name": "stderr",
     "output_type": "stream",
     "text": [
      "100%|██████████| 3/3 [00:00<00:00, 19.53it/s]\n"
     ]
    },
    {
     "name": "stdout",
     "output_type": "stream",
     "text": [
      "  30 ,lr = 0.00025000  train loss = 0.14839107  train direct = 0.09784376  train contrastive = 0.29823122  val loss = 0.20798302  val direct = 0.12992373  val contrastive = 0.44030936  time = 00:00:00\n"
     ]
    },
    {
     "name": "stderr",
     "output_type": "stream",
     "text": [
      "100%|██████████| 3/3 [00:00<00:00, 18.88it/s]\n"
     ]
    },
    {
     "name": "stdout",
     "output_type": "stream",
     "text": [
      "  31 ,lr = 0.00025000  train loss = 0.13525899  train direct = 0.11702459  train contrastive = 0.29819426  val loss = 0.19254167  val direct = 0.14217659  val contrastive = 0.44025456  time = 00:00:00\n"
     ]
    },
    {
     "name": "stderr",
     "output_type": "stream",
     "text": [
      "100%|██████████| 3/3 [00:00<00:00, 19.59it/s]\n"
     ]
    },
    {
     "name": "stdout",
     "output_type": "stream",
     "text": [
      "  32 ,lr = 0.00025000  train loss = 0.13378617  train direct = 0.12063864  train contrastive = 0.29805285  val loss = 0.18343309  val direct = 0.13812451  val contrastive = 0.44018803  time = 00:00:00\n"
     ]
    },
    {
     "name": "stderr",
     "output_type": "stream",
     "text": [
      "100%|██████████| 3/3 [00:00<00:00, 19.76it/s]\n"
     ]
    },
    {
     "name": "stdout",
     "output_type": "stream",
     "text": [
      "  33 ,lr = 0.00025000  train loss = 0.14261708  train direct = 0.11659363  train contrastive = 0.29796221  val loss = 0.19222229  val direct = 0.12492084  val contrastive = 0.44011611  time = 00:00:00\n"
     ]
    },
    {
     "name": "stderr",
     "output_type": "stream",
     "text": [
      "100%|██████████| 3/3 [00:00<00:00, 19.26it/s]\n"
     ]
    },
    {
     "name": "stdout",
     "output_type": "stream",
     "text": [
      "  34 ,lr = 0.00025000  train loss = 0.13417535  train direct = 0.10605480  train contrastive = 0.29790104  val loss = 0.19022969  val direct = 0.13870931  val contrastive = 0.44007467  time = 00:00:00\n"
     ]
    },
    {
     "name": "stderr",
     "output_type": "stream",
     "text": [
      "100%|██████████| 3/3 [00:00<00:00, 22.13it/s]\n"
     ]
    },
    {
     "name": "stdout",
     "output_type": "stream",
     "text": [
      "  35 ,lr = 0.00025000  train loss = 0.13494370  train direct = 0.10286025  train contrastive = 0.29783629  val loss = 0.19183026  val direct = 0.12665264  val contrastive = 0.44000878  time = 00:00:00\n"
     ]
    },
    {
     "name": "stderr",
     "output_type": "stream",
     "text": [
      "100%|██████████| 3/3 [00:00<00:00, 21.32it/s]\n"
     ]
    },
    {
     "name": "stdout",
     "output_type": "stream",
     "text": [
      "  36 ,lr = 0.00025000  train loss = 0.13951079  train direct = 0.11522200  train contrastive = 0.29772938  val loss = 0.19377462  val direct = 0.12648508  val contrastive = 0.43994560  time = 00:00:00\n"
     ]
    },
    {
     "name": "stderr",
     "output_type": "stream",
     "text": [
      "100%|██████████| 3/3 [00:00<00:00, 20.43it/s]\n"
     ]
    },
    {
     "name": "stdout",
     "output_type": "stream",
     "text": [
      "  37 ,lr = 0.00025000  train loss = 0.13976745  train direct = 0.09762421  train contrastive = 0.29766350  val loss = 0.19328553  val direct = 0.13569982  val contrastive = 0.43989152  time = 00:00:00\n"
     ]
    },
    {
     "name": "stderr",
     "output_type": "stream",
     "text": [
      "100%|██████████| 3/3 [00:00<00:00, 20.39it/s]\n"
     ]
    },
    {
     "name": "stdout",
     "output_type": "stream",
     "text": [
      "  38 ,lr = 0.00025000  train loss = 0.13236552  train direct = 0.11194109  train contrastive = 0.29761633  val loss = 0.19014586  val direct = 0.13344732  val contrastive = 0.43982893  time = 00:00:00\n"
     ]
    },
    {
     "name": "stderr",
     "output_type": "stream",
     "text": [
      "100%|██████████| 3/3 [00:00<00:00, 20.69it/s]\n"
     ]
    },
    {
     "name": "stdout",
     "output_type": "stream",
     "text": [
      "  39 ,lr = 0.00025000  train loss = 0.13510183  train direct = 0.10506500  train contrastive = 0.29760152  val loss = 0.18599393  val direct = 0.13789600  val contrastive = 0.43983006  time = 00:00:00\n"
     ]
    },
    {
     "name": "stderr",
     "output_type": "stream",
     "text": [
      "100%|██████████| 3/3 [00:00<00:00, 20.61it/s]\n"
     ]
    },
    {
     "name": "stdout",
     "output_type": "stream",
     "text": [
      "  40 ,lr = 0.00025000  train loss = 0.13387866  train direct = 0.10171498  train contrastive = 0.29756114  val loss = 0.18994327  val direct = 0.13037459  val contrastive = 0.43977449  time = 00:00:00\n"
     ]
    },
    {
     "name": "stderr",
     "output_type": "stream",
     "text": [
      "100%|██████████| 3/3 [00:00<00:00, 19.94it/s]\n"
     ]
    },
    {
     "name": "stdout",
     "output_type": "stream",
     "text": [
      "  41 ,lr = 0.00025000  train loss = 0.13422744  train direct = 0.10264568  train contrastive = 0.29750022  val loss = 0.18910904  val direct = 0.12991786  val contrastive = 0.43962830  time = 00:00:00\n"
     ]
    },
    {
     "name": "stderr",
     "output_type": "stream",
     "text": [
      "100%|██████████| 3/3 [00:00<00:00, 20.46it/s]\n"
     ]
    },
    {
     "name": "stdout",
     "output_type": "stream",
     "text": [
      "  42 ,lr = 0.00025000  train loss = 0.13389815  train direct = 0.10685736  train contrastive = 0.29745294  val loss = 0.19288521  val direct = 0.12614855  val contrastive = 0.43955398  time = 00:00:00\n"
     ]
    },
    {
     "name": "stderr",
     "output_type": "stream",
     "text": [
      "100%|██████████| 3/3 [00:00<00:00, 20.76it/s]\n"
     ]
    },
    {
     "name": "stdout",
     "output_type": "stream",
     "text": [
      "  43 ,lr = 0.00025000  train loss = 0.13986470  train direct = 0.11132472  train contrastive = 0.29740548  val loss = 0.19279961  val direct = 0.12925926  val contrastive = 0.43952497  time = 00:00:00\n"
     ]
    },
    {
     "name": "stderr",
     "output_type": "stream",
     "text": [
      "100%|██████████| 3/3 [00:00<00:00, 20.42it/s]\n"
     ]
    },
    {
     "name": "stdout",
     "output_type": "stream",
     "text": [
      "  44 ,lr = 0.00012500  train loss = 0.13427219  train direct = 0.10016131  train contrastive = 0.29738353  val loss = 0.18756123  val direct = 0.12697418  val contrastive = 0.43952947  time = 00:00:00\n"
     ]
    },
    {
     "name": "stderr",
     "output_type": "stream",
     "text": [
      "100%|██████████| 3/3 [00:00<00:00, 20.48it/s]\n"
     ]
    },
    {
     "name": "stdout",
     "output_type": "stream",
     "text": [
      "  45 ,lr = 0.00012500  train loss = 0.13378564  train direct = 0.10670893  train contrastive = 0.29736521  val loss = 0.19735922  val direct = 0.12952192  val contrastive = 0.43953902  time = 00:00:00\n"
     ]
    },
    {
     "name": "stderr",
     "output_type": "stream",
     "text": [
      "100%|██████████| 3/3 [00:00<00:00, 20.52it/s]\n"
     ]
    },
    {
     "name": "stdout",
     "output_type": "stream",
     "text": [
      "  46 ,lr = 0.00012500  train loss = 0.14123620  train direct = 0.09731003  train contrastive = 0.29734256  val loss = 0.18669594  val direct = 0.13024108  val contrastive = 0.43954552  time = 00:00:00\n"
     ]
    },
    {
     "name": "stderr",
     "output_type": "stream",
     "text": [
      "100%|██████████| 3/3 [00:00<00:00, 20.49it/s]\n"
     ]
    },
    {
     "name": "stdout",
     "output_type": "stream",
     "text": [
      "  47 ,lr = 0.00012500  train loss = 0.13511426  train direct = 0.10076866  train contrastive = 0.29730889  val loss = 0.19017552  val direct = 0.14291807  val contrastive = 0.43949185  time = 00:00:00\n"
     ]
    },
    {
     "name": "stderr",
     "output_type": "stream",
     "text": [
      "100%|██████████| 3/3 [00:00<00:00, 20.45it/s]\n"
     ]
    },
    {
     "name": "stdout",
     "output_type": "stream",
     "text": [
      "  48 ,lr = 0.00012500  train loss = 0.13720127  train direct = 0.09843263  train contrastive = 0.29728940  val loss = 0.20608732  val direct = 0.12387124  val contrastive = 0.43945214  time = 00:00:00\n"
     ]
    },
    {
     "name": "stderr",
     "output_type": "stream",
     "text": [
      "100%|██████████| 3/3 [00:00<00:00, 20.25it/s]\n"
     ]
    },
    {
     "name": "stdout",
     "output_type": "stream",
     "text": [
      "  49 ,lr = 0.00012500  train loss = 0.14290604  train direct = 0.09192115  train contrastive = 0.29726948  val loss = 0.19393082  val direct = 0.13478307  val contrastive = 0.43941570  time = 00:00:00\n"
     ]
    },
    {
     "name": "stderr",
     "output_type": "stream",
     "text": [
      "100%|██████████| 3/3 [00:00<00:00, 20.01it/s]\n"
     ]
    },
    {
     "name": "stdout",
     "output_type": "stream",
     "text": [
      "  50 ,lr = 0.00012500  train loss = 0.13745196  train direct = 0.12419038  train contrastive = 0.29724129  val loss = 0.20090401  val direct = 0.12698629  val contrastive = 0.43938043  time = 00:00:00\n"
     ]
    },
    {
     "name": "stderr",
     "output_type": "stream",
     "text": [
      "100%|██████████| 3/3 [00:00<00:00, 20.30it/s]\n"
     ]
    },
    {
     "name": "stdout",
     "output_type": "stream",
     "text": [
      "  51 ,lr = 0.00012500  train loss = 0.13649016  train direct = 0.10784006  train contrastive = 0.29721102  val loss = 0.19577137  val direct = 0.12564884  val contrastive = 0.43938312  time = 00:00:00\n"
     ]
    },
    {
     "name": "stderr",
     "output_type": "stream",
     "text": [
      "100%|██████████| 3/3 [00:00<00:00, 20.41it/s]\n"
     ]
    },
    {
     "name": "stdout",
     "output_type": "stream",
     "text": [
      "  52 ,lr = 0.00012500  train loss = 0.13033257  train direct = 0.10816870  train contrastive = 0.29719454  val loss = 0.19688473  val direct = 0.13094084  val contrastive = 0.43940666  time = 00:00:00\n"
     ]
    },
    {
     "name": "stderr",
     "output_type": "stream",
     "text": [
      "100%|██████████| 3/3 [00:00<00:00, 19.86it/s]\n"
     ]
    },
    {
     "name": "stdout",
     "output_type": "stream",
     "text": [
      "  53 ,lr = 0.00012500  train loss = 0.13584646  train direct = 0.09790815  train contrastive = 0.29716792  val loss = 0.18803214  val direct = 0.13429007  val contrastive = 0.43939307  time = 00:00:00\n"
     ]
    },
    {
     "name": "stderr",
     "output_type": "stream",
     "text": [
      "100%|██████████| 3/3 [00:00<00:00, 20.44it/s]\n"
     ]
    },
    {
     "name": "stdout",
     "output_type": "stream",
     "text": [
      "  54 ,lr = 0.00012500  train loss = 0.13348001  train direct = 0.10081339  train contrastive = 0.29713780  val loss = 0.18552234  val direct = 0.13254926  val contrastive = 0.43934127  time = 00:00:00\n"
     ]
    },
    {
     "name": "stderr",
     "output_type": "stream",
     "text": [
      "100%|██████████| 3/3 [00:00<00:00, 20.28it/s]\n"
     ]
    },
    {
     "name": "stdout",
     "output_type": "stream",
     "text": [
      "  55 ,lr = 0.00006250  train loss = 0.13495387  train direct = 0.10720688  train contrastive = 0.29712771  val loss = 0.19316028  val direct = 0.12638862  val contrastive = 0.43930218  time = 00:00:00\n"
     ]
    },
    {
     "name": "stderr",
     "output_type": "stream",
     "text": [
      "100%|██████████| 3/3 [00:00<00:00, 20.34it/s]\n"
     ]
    },
    {
     "name": "stdout",
     "output_type": "stream",
     "text": [
      "  56 ,lr = 0.00006250  train loss = 0.13062945  train direct = 0.09553368  train contrastive = 0.29711309  val loss = 0.18020514  val direct = 0.12892509  val contrastive = 0.43928049  time = 00:00:00\n"
     ]
    },
    {
     "name": "stderr",
     "output_type": "stream",
     "text": [
      "100%|██████████| 3/3 [00:00<00:00, 20.04it/s]\n"
     ]
    },
    {
     "name": "stdout",
     "output_type": "stream",
     "text": [
      "  57 ,lr = 0.00006250  train loss = 0.13661690  train direct = 0.09906926  train contrastive = 0.29709644  val loss = 0.18605447  val direct = 0.12545594  val contrastive = 0.43925557  time = 00:00:00\n"
     ]
    },
    {
     "name": "stderr",
     "output_type": "stream",
     "text": [
      "100%|██████████| 3/3 [00:00<00:00, 20.28it/s]\n"
     ]
    },
    {
     "name": "stdout",
     "output_type": "stream",
     "text": [
      "  58 ,lr = 0.00006250  train loss = 0.14105675  train direct = 0.09218619  train contrastive = 0.29707869  val loss = 0.20540127  val direct = 0.12391956  val contrastive = 0.43924623  time = 00:00:00\n"
     ]
    },
    {
     "name": "stderr",
     "output_type": "stream",
     "text": [
      "100%|██████████| 3/3 [00:00<00:00, 20.09it/s]\n"
     ]
    },
    {
     "name": "stdout",
     "output_type": "stream",
     "text": [
      "  59 ,lr = 0.00006250  train loss = 0.13532894  train direct = 0.10931635  train contrastive = 0.29706588  val loss = 0.18682693  val direct = 0.13052405  val contrastive = 0.43923015  time = 00:00:00\n"
     ]
    },
    {
     "name": "stderr",
     "output_type": "stream",
     "text": [
      "100%|██████████| 3/3 [00:00<00:00, 19.77it/s]\n"
     ]
    },
    {
     "name": "stdout",
     "output_type": "stream",
     "text": [
      "  60 ,lr = 0.00006250  train loss = 0.13214668  train direct = 0.10350095  train contrastive = 0.29705290  val loss = 0.19068959  val direct = 0.13135387  val contrastive = 0.43921965  time = 00:00:00\n"
     ]
    },
    {
     "name": "stderr",
     "output_type": "stream",
     "text": [
      "100%|██████████| 3/3 [00:00<00:00, 19.89it/s]\n"
     ]
    },
    {
     "name": "stdout",
     "output_type": "stream",
     "text": [
      "  61 ,lr = 0.00006250  train loss = 0.13394787  train direct = 0.10741494  train contrastive = 0.29704273  val loss = 0.19221401  val direct = 0.13162539  val contrastive = 0.43921483  time = 00:00:00\n"
     ]
    },
    {
     "name": "stderr",
     "output_type": "stream",
     "text": [
      "100%|██████████| 3/3 [00:00<00:00, 20.11it/s]\n"
     ]
    },
    {
     "name": "stdout",
     "output_type": "stream",
     "text": [
      "  62 ,lr = 0.00006250  train loss = 0.13639087  train direct = 0.09920683  train contrastive = 0.29702797  val loss = 0.18877022  val direct = 0.13102158  val contrastive = 0.43919588  time = 00:00:00\n"
     ]
    },
    {
     "name": "stderr",
     "output_type": "stream",
     "text": [
      "100%|██████████| 3/3 [00:00<00:00, 20.10it/s]\n"
     ]
    },
    {
     "name": "stdout",
     "output_type": "stream",
     "text": [
      "  63 ,lr = 0.00006250  train loss = 0.13500265  train direct = 0.09629681  train contrastive = 0.29701652  val loss = 0.17932441  val direct = 0.14113730  val contrastive = 0.43918362  time = 00:00:00\n"
     ]
    },
    {
     "name": "stderr",
     "output_type": "stream",
     "text": [
      "100%|██████████| 3/3 [00:00<00:00, 19.82it/s]\n"
     ]
    },
    {
     "name": "stdout",
     "output_type": "stream",
     "text": [
      "  64 ,lr = 0.00006250  train loss = 0.12889001  train direct = 0.10808324  train contrastive = 0.28026215  val loss = 0.19952169  val direct = 0.13246257  val contrastive = 0.43916348  time = 00:00:00\n"
     ]
    },
    {
     "name": "stderr",
     "output_type": "stream",
     "text": [
      "100%|██████████| 3/3 [00:00<00:00, 19.81it/s]\n"
     ]
    },
    {
     "name": "stdout",
     "output_type": "stream",
     "text": [
      "  65 ,lr = 0.00006250  train loss = 0.12945230  train direct = 0.10561268  train contrastive = 0.29699284  val loss = 0.19603389  val direct = 0.12785680  val contrastive = 0.43916054  time = 00:00:00\n"
     ]
    },
    {
     "name": "stderr",
     "output_type": "stream",
     "text": [
      "100%|██████████| 3/3 [00:00<00:00, 18.20it/s]\n"
     ]
    },
    {
     "name": "stdout",
     "output_type": "stream",
     "text": [
      "  66 ,lr = 0.00006250  train loss = 0.13792625  train direct = 0.09583855  train contrastive = 0.29697923  val loss = 0.18300675  val direct = 0.13177656  val contrastive = 0.43915277  time = 00:00:00\n"
     ]
    },
    {
     "name": "stderr",
     "output_type": "stream",
     "text": [
      "100%|██████████| 3/3 [00:00<00:00, 19.91it/s]\n"
     ]
    },
    {
     "name": "stdout",
     "output_type": "stream",
     "text": [
      "  67 ,lr = 0.00006250  train loss = 0.13228181  train direct = 0.10219328  train contrastive = 0.29696776  val loss = 0.19857748  val direct = 0.14980424  val contrastive = 0.43913393  time = 00:00:00\n"
     ]
    },
    {
     "name": "stderr",
     "output_type": "stream",
     "text": [
      "100%|██████████| 3/3 [00:00<00:00, 20.05it/s]\n"
     ]
    },
    {
     "name": "stdout",
     "output_type": "stream",
     "text": [
      "  68 ,lr = 0.00006250  train loss = 0.13692488  train direct = 0.09726163  train contrastive = 0.29695429  val loss = 0.18777355  val direct = 0.13046493  val contrastive = 0.43912190  time = 00:00:00\n"
     ]
    },
    {
     "name": "stderr",
     "output_type": "stream",
     "text": [
      "100%|██████████| 3/3 [00:00<00:00, 20.28it/s]\n"
     ]
    },
    {
     "name": "stdout",
     "output_type": "stream",
     "text": [
      "  69 ,lr = 0.00006250  train loss = 0.13357061  train direct = 0.10003461  train contrastive = 0.29694243  val loss = 0.19682693  val direct = 0.12936626  val contrastive = 0.43910478  time = 00:00:00\n"
     ]
    },
    {
     "name": "stderr",
     "output_type": "stream",
     "text": [
      "100%|██████████| 3/3 [00:00<00:00, 19.92it/s]\n"
     ]
    },
    {
     "name": "stdout",
     "output_type": "stream",
     "text": [
      "  70 ,lr = 0.00006250  train loss = 0.13382770  train direct = 0.09832790  train contrastive = 0.29692779  val loss = 0.18965702  val direct = 0.13508064  val contrastive = 0.43907701  time = 00:00:00\n"
     ]
    },
    {
     "name": "stderr",
     "output_type": "stream",
     "text": [
      "100%|██████████| 3/3 [00:00<00:00, 20.29it/s]\n"
     ]
    },
    {
     "name": "stdout",
     "output_type": "stream",
     "text": [
      "  71 ,lr = 0.00006250  train loss = 0.14297850  train direct = 0.08884933  train contrastive = 0.29691568  val loss = 0.19729315  val direct = 0.12729641  val contrastive = 0.43906336  time = 00:00:00\n"
     ]
    },
    {
     "name": "stderr",
     "output_type": "stream",
     "text": [
      "100%|██████████| 3/3 [00:00<00:00, 20.02it/s]\n"
     ]
    },
    {
     "name": "stdout",
     "output_type": "stream",
     "text": [
      "  72 ,lr = 0.00006250  train loss = 0.13321169  train direct = 0.10660783  train contrastive = 0.29690593  val loss = 0.18678480  val direct = 0.12749427  val contrastive = 0.43904672  time = 00:00:00\n"
     ]
    },
    {
     "name": "stderr",
     "output_type": "stream",
     "text": [
      "100%|██████████| 3/3 [00:00<00:00, 20.06it/s]\n"
     ]
    },
    {
     "name": "stdout",
     "output_type": "stream",
     "text": [
      "  73 ,lr = 0.00006250  train loss = 0.13178316  train direct = 0.10296202  train contrastive = 0.29690028  val loss = 0.18804215  val direct = 0.14465277  val contrastive = 0.43904601  time = 00:00:00\n"
     ]
    },
    {
     "name": "stderr",
     "output_type": "stream",
     "text": [
      "100%|██████████| 3/3 [00:00<00:00, 20.03it/s]\n"
     ]
    },
    {
     "name": "stdout",
     "output_type": "stream",
     "text": [
      "  74 ,lr = 0.00006250  train loss = 0.13394972  train direct = 0.09557442  train contrastive = 0.29689450  val loss = 0.19080743  val direct = 0.12940757  val contrastive = 0.43904978  time = 00:00:00\n"
     ]
    },
    {
     "name": "stderr",
     "output_type": "stream",
     "text": [
      "100%|██████████| 3/3 [00:00<00:00, 20.34it/s]\n"
     ]
    },
    {
     "name": "stdout",
     "output_type": "stream",
     "text": [
      "  75 ,lr = 0.00003125  train loss = 0.13900820  train direct = 0.09251443  train contrastive = 0.29687915  val loss = 0.19051761  val direct = 0.15211898  val contrastive = 0.43903850  time = 00:00:00\n"
     ]
    },
    {
     "name": "stderr",
     "output_type": "stream",
     "text": [
      "100%|██████████| 3/3 [00:00<00:00, 20.50it/s]\n"
     ]
    },
    {
     "name": "stdout",
     "output_type": "stream",
     "text": [
      "  76 ,lr = 0.00003125  train loss = 0.13416499  train direct = 0.09872648  train contrastive = 0.29686847  val loss = 0.18963137  val direct = 0.12103043  val contrastive = 0.43902866  time = 00:00:00\n"
     ]
    },
    {
     "name": "stderr",
     "output_type": "stream",
     "text": [
      "100%|██████████| 3/3 [00:00<00:00, 20.07it/s]\n"
     ]
    },
    {
     "name": "stdout",
     "output_type": "stream",
     "text": [
      "  77 ,lr = 0.00003125  train loss = 0.13580167  train direct = 0.10683694  train contrastive = 0.29686097  val loss = 0.18333892  val direct = 0.12852218  val contrastive = 0.43902612  time = 00:00:00\n"
     ]
    },
    {
     "name": "stderr",
     "output_type": "stream",
     "text": [
      "100%|██████████| 3/3 [00:00<00:00, 20.10it/s]\n"
     ]
    },
    {
     "name": "stdout",
     "output_type": "stream",
     "text": [
      "  78 ,lr = 0.00003125  train loss = 0.13290306  train direct = 0.10521462  train contrastive = 0.29685704  val loss = 0.19386131  val direct = 0.13726608  val contrastive = 0.43902121  time = 00:00:00\n"
     ]
    },
    {
     "name": "stderr",
     "output_type": "stream",
     "text": [
      "100%|██████████| 3/3 [00:00<00:00, 20.46it/s]\n"
     ]
    },
    {
     "name": "stdout",
     "output_type": "stream",
     "text": [
      "  79 ,lr = 0.00003125  train loss = 0.14541022  train direct = 0.09468178  train contrastive = 0.29685330  val loss = 0.18874700  val direct = 0.12864782  val contrastive = 0.43902543  time = 00:00:00\n"
     ]
    },
    {
     "name": "stderr",
     "output_type": "stream",
     "text": [
      "100%|██████████| 3/3 [00:00<00:00, 19.85it/s]\n"
     ]
    },
    {
     "name": "stdout",
     "output_type": "stream",
     "text": [
      "  80 ,lr = 0.00003125  train loss = 0.13132295  train direct = 0.11834969  train contrastive = 0.29685042  val loss = 0.19342468  val direct = 0.13218173  val contrastive = 0.43902765  time = 00:00:00\n"
     ]
    },
    {
     "name": "stderr",
     "output_type": "stream",
     "text": [
      "100%|██████████| 3/3 [00:00<00:00, 20.34it/s]\n"
     ]
    },
    {
     "name": "stdout",
     "output_type": "stream",
     "text": [
      "  81 ,lr = 0.00003125  train loss = 0.13293630  train direct = 0.09608540  train contrastive = 0.29684185  val loss = 0.19379457  val direct = 0.13222375  val contrastive = 0.43902225  time = 00:00:00\n"
     ]
    },
    {
     "name": "stderr",
     "output_type": "stream",
     "text": [
      "100%|██████████| 3/3 [00:00<00:00, 20.44it/s]\n"
     ]
    },
    {
     "name": "stdout",
     "output_type": "stream",
     "text": [
      "  82 ,lr = 0.00003125  train loss = 0.14120623  train direct = 0.09023404  train contrastive = 0.29683376  val loss = 0.18033489  val direct = 0.13748198  val contrastive = 0.43901530  time = 00:00:00\n"
     ]
    },
    {
     "name": "stderr",
     "output_type": "stream",
     "text": [
      "100%|██████████| 3/3 [00:00<00:00, 19.83it/s]\n"
     ]
    },
    {
     "name": "stdout",
     "output_type": "stream",
     "text": [
      "  83 ,lr = 0.00003125  train loss = 0.13542058  train direct = 0.09641387  train contrastive = 0.29682670  val loss = 0.18531367  val direct = 0.13112627  val contrastive = 0.43900501  time = 00:00:00\n"
     ]
    },
    {
     "name": "stderr",
     "output_type": "stream",
     "text": [
      "100%|██████████| 3/3 [00:00<00:00, 19.92it/s]\n"
     ]
    },
    {
     "name": "stdout",
     "output_type": "stream",
     "text": [
      "  84 ,lr = 0.00003125  train loss = 0.13903512  train direct = 0.10210042  train contrastive = 0.29682058  val loss = 0.18900457  val direct = 0.12903025  val contrastive = 0.43899980  time = 00:00:00\n"
     ]
    },
    {
     "name": "stderr",
     "output_type": "stream",
     "text": [
      "100%|██████████| 3/3 [00:00<00:00, 20.56it/s]\n"
     ]
    },
    {
     "name": "stdout",
     "output_type": "stream",
     "text": [
      "  85 ,lr = 0.00003125  train loss = 0.13663380  train direct = 0.10147248  train contrastive = 0.29681483  val loss = 0.19568495  val direct = 0.13460924  val contrastive = 0.43899320  time = 00:00:00\n"
     ]
    },
    {
     "name": "stderr",
     "output_type": "stream",
     "text": [
      "100%|██████████| 3/3 [00:00<00:00, 21.25it/s]\n"
     ]
    },
    {
     "name": "stdout",
     "output_type": "stream",
     "text": [
      "  86 ,lr = 0.00001563  train loss = 0.13432870  train direct = 0.09649985  train contrastive = 0.29681149  val loss = 0.19991273  val direct = 0.14135481  val contrastive = 0.43898874  time = 00:00:00\n"
     ]
    },
    {
     "name": "stderr",
     "output_type": "stream",
     "text": [
      "100%|██████████| 3/3 [00:00<00:00, 20.73it/s]\n"
     ]
    },
    {
     "name": "stdout",
     "output_type": "stream",
     "text": [
      "  87 ,lr = 0.00001563  train loss = 0.13055997  train direct = 0.09643707  train contrastive = 0.29680910  val loss = 0.20422685  val direct = 0.14169206  val contrastive = 0.43898987  time = 00:00:00\n"
     ]
    },
    {
     "name": "stderr",
     "output_type": "stream",
     "text": [
      "100%|██████████| 3/3 [00:00<00:00, 20.83it/s]\n"
     ]
    },
    {
     "name": "stdout",
     "output_type": "stream",
     "text": [
      "  88 ,lr = 0.00001563  train loss = 0.13638169  train direct = 0.09311322  train contrastive = 0.29680663  val loss = 0.19591924  val direct = 0.12917430  val contrastive = 0.43898993  time = 00:00:00\n"
     ]
    },
    {
     "name": "stderr",
     "output_type": "stream",
     "text": [
      "100%|██████████| 3/3 [00:00<00:00, 20.77it/s]\n"
     ]
    },
    {
     "name": "stdout",
     "output_type": "stream",
     "text": [
      "  89 ,lr = 0.00001563  train loss = 0.12730584  train direct = 0.09297243  train contrastive = 0.28006278  val loss = 0.18625967  val direct = 0.12798669  val contrastive = 0.43898950  time = 00:00:00\n"
     ]
    },
    {
     "name": "stderr",
     "output_type": "stream",
     "text": [
      "100%|██████████| 3/3 [00:00<00:00, 20.04it/s]\n"
     ]
    },
    {
     "name": "stdout",
     "output_type": "stream",
     "text": [
      "  90 ,lr = 0.00001563  train loss = 0.13222651  train direct = 0.10084622  train contrastive = 0.29680174  val loss = 0.19180528  val direct = 0.12941306  val contrastive = 0.43898839  time = 00:00:00\n"
     ]
    },
    {
     "name": "stderr",
     "output_type": "stream",
     "text": [
      "100%|██████████| 3/3 [00:00<00:00, 20.01it/s]\n"
     ]
    },
    {
     "name": "stdout",
     "output_type": "stream",
     "text": [
      "  91 ,lr = 0.00001563  train loss = 0.12632793  train direct = 0.10042621  train contrastive = 0.28005607  val loss = 0.18835217  val direct = 0.12675058  val contrastive = 0.43898591  time = 00:00:00\n"
     ]
    },
    {
     "name": "stderr",
     "output_type": "stream",
     "text": [
      "100%|██████████| 3/3 [00:00<00:00, 20.23it/s]\n"
     ]
    },
    {
     "name": "stdout",
     "output_type": "stream",
     "text": [
      "  92 ,lr = 0.00001563  train loss = 0.13654018  train direct = 0.08797122  train contrastive = 0.29679368  val loss = 0.18770853  val direct = 0.12990873  val contrastive = 0.43898244  time = 00:00:00\n"
     ]
    },
    {
     "name": "stderr",
     "output_type": "stream",
     "text": [
      "100%|██████████| 3/3 [00:00<00:00, 19.93it/s]\n"
     ]
    },
    {
     "name": "stdout",
     "output_type": "stream",
     "text": [
      "  93 ,lr = 0.00001563  train loss = 0.12892513  train direct = 0.09570417  train contrastive = 0.28004934  val loss = 0.18485914  val direct = 0.14243261  val contrastive = 0.43897961  time = 00:00:00\n"
     ]
    },
    {
     "name": "stderr",
     "output_type": "stream",
     "text": [
      "100%|██████████| 3/3 [00:00<00:00, 20.02it/s]\n"
     ]
    },
    {
     "name": "stdout",
     "output_type": "stream",
     "text": [
      "  94 ,lr = 0.00001563  train loss = 0.13183504  train direct = 0.10182155  train contrastive = 0.29678667  val loss = 0.19475160  val direct = 0.12716455  val contrastive = 0.43897435  time = 00:00:00\n"
     ]
    },
    {
     "name": "stderr",
     "output_type": "stream",
     "text": [
      "100%|██████████| 3/3 [00:00<00:00, 20.34it/s]\n"
     ]
    },
    {
     "name": "stdout",
     "output_type": "stream",
     "text": [
      "  95 ,lr = 0.00001563  train loss = 0.13429032  train direct = 0.09844615  train contrastive = 0.29678269  val loss = 0.20209493  val direct = 0.13409562  val contrastive = 0.43896966  time = 00:00:00\n"
     ]
    },
    {
     "name": "stderr",
     "output_type": "stream",
     "text": [
      "100%|██████████| 3/3 [00:00<00:00, 20.35it/s]\n"
     ]
    },
    {
     "name": "stdout",
     "output_type": "stream",
     "text": [
      "  96 ,lr = 0.00001563  train loss = 0.13556863  train direct = 0.09979121  train contrastive = 0.29678020  val loss = 0.18797737  val direct = 0.13429738  val contrastive = 0.43897040  time = 00:00:00\n"
     ]
    },
    {
     "name": "stderr",
     "output_type": "stream",
     "text": [
      "100%|██████████| 3/3 [00:00<00:00, 19.92it/s]\n"
     ]
    },
    {
     "name": "stdout",
     "output_type": "stream",
     "text": [
      "  97 ,lr = 0.00000781  train loss = 0.13267056  train direct = 0.10223310  train contrastive = 0.29677984  val loss = 0.18610595  val direct = 0.13001399  val contrastive = 0.43897036  time = 00:00:00\n"
     ]
    },
    {
     "name": "stderr",
     "output_type": "stream",
     "text": [
      "100%|██████████| 3/3 [00:00<00:00, 20.25it/s]\n"
     ]
    },
    {
     "name": "stdout",
     "output_type": "stream",
     "text": [
      "  98 ,lr = 0.00000781  train loss = 0.13523635  train direct = 0.09970582  train contrastive = 0.29677814  val loss = 0.19378995  val direct = 0.12939272  val contrastive = 0.43896929  time = 00:00:00\n"
     ]
    },
    {
     "name": "stderr",
     "output_type": "stream",
     "text": [
      "100%|██████████| 3/3 [00:00<00:00, 20.25it/s]\n"
     ]
    },
    {
     "name": "stdout",
     "output_type": "stream",
     "text": [
      "  99 ,lr = 0.00000781  train loss = 0.13439401  train direct = 0.09712494  train contrastive = 0.29677614  val loss = 0.19293896  val direct = 0.12699764  val contrastive = 0.43896804  time = 00:00:00\n"
     ]
    },
    {
     "name": "stderr",
     "output_type": "stream",
     "text": [
      "100%|██████████| 3/3 [00:00<00:00, 20.05it/s]\n"
     ]
    },
    {
     "name": "stdout",
     "output_type": "stream",
     "text": [
      " 100 ,lr = 0.00000781  train loss = 0.13248714  train direct = 0.10226490  train contrastive = 0.29677410  val loss = 0.19270551  val direct = 0.12742895  val contrastive = 0.43896656  time = 00:00:00\n"
     ]
    }
   ],
   "source": []
  },
  {
   "cell_type": "code",
   "execution_count": null,
   "metadata": {},
   "outputs": [],
   "source": []
  },
  {
   "cell_type": "code",
   "execution_count": null,
   "metadata": {},
   "outputs": [],
   "source": []
  },
  {
   "cell_type": "code",
   "execution_count": null,
   "metadata": {},
   "outputs": [],
   "source": []
  },
  {
   "cell_type": "code",
   "execution_count": null,
   "metadata": {},
   "outputs": [],
   "source": []
  },
  {
   "cell_type": "code",
   "execution_count": null,
   "metadata": {},
   "outputs": [],
   "source": []
  },
  {
   "cell_type": "code",
   "execution_count": null,
   "metadata": {},
   "outputs": [],
   "source": []
  },
  {
   "cell_type": "code",
   "execution_count": null,
   "metadata": {},
   "outputs": [],
   "source": []
  }
 ],
 "metadata": {
  "kernelspec": {
   "display_name": "Perovskite_ML_Environment",
   "language": "python",
   "name": "python3"
  },
  "language_info": {
   "codemirror_mode": {
    "name": "ipython",
    "version": 3
   },
   "file_extension": ".py",
   "mimetype": "text/x-python",
   "name": "python",
   "nbconvert_exporter": "python",
   "pygments_lexer": "ipython3",
   "version": "3.10.11"
  },
  "orig_nbformat": 4
 },
 "nbformat": 4,
 "nbformat_minor": 2
}
