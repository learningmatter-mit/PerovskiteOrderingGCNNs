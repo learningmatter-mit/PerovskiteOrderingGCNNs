{
 "cells": [
  {
   "cell_type": "code",
   "execution_count": 1,
   "id": "3d48e839",
   "metadata": {},
   "outputs": [],
   "source": [
    "import pandas as pd"
   ]
  },
  {
   "cell_type": "code",
   "execution_count": 2,
   "id": "c5fe0a66",
   "metadata": {},
   "outputs": [],
   "source": [
    "training = pd.read_json(\"data/training_set.json\")\n",
    "data = training[:1000]"
   ]
  },
  {
   "cell_type": "code",
   "execution_count": 3,
   "id": "de602efc",
   "metadata": {},
   "outputs": [
    {
     "name": "stderr",
     "output_type": "stream",
     "text": [
      "/home/jkdamewo/miniconda3/envs/Perovskite_ML_Environment/lib/python3.10/site-packages/tqdm/auto.py:21: TqdmWarning: IProgress not found. Please update jupyter and ipywidgets. See https://ipywidgets.readthedocs.io/en/stable/user_install.html\n",
      "  from .autonotebook import tqdm as notebook_tqdm\n"
     ]
    }
   ],
   "source": [
    "from processing.utils import filter_data_by_properties,select_structures"
   ]
  },
  {
   "cell_type": "code",
   "execution_count": 4,
   "id": "c6d5ec5c",
   "metadata": {},
   "outputs": [],
   "source": [
    "data = filter_data_by_properties(data,\"dft_e_hull\")"
   ]
  },
  {
   "cell_type": "code",
   "execution_count": 5,
   "id": "ca459924",
   "metadata": {},
   "outputs": [],
   "source": [
    "data_unrelaxed = select_structures(data,\"unrelaxed\")"
   ]
  },
  {
   "cell_type": "code",
   "execution_count": 6,
   "id": "3364aec9",
   "metadata": {},
   "outputs": [],
   "source": [
    "data_relaxed = select_structures(data,\"relaxed\")"
   ]
  },
  {
   "cell_type": "code",
   "execution_count": 7,
   "id": "12c7584c",
   "metadata": {},
   "outputs": [],
   "source": [
    "from processing.interpolation.Interpolation import *"
   ]
  },
  {
   "cell_type": "code",
   "execution_count": 8,
   "id": "f4f531f1",
   "metadata": {},
   "outputs": [],
   "source": [
    "data_unrelaxed = apply_interpolation(data_unrelaxed,\"dft_e_hull\")"
   ]
  },
  {
   "cell_type": "code",
   "execution_count": 9,
   "id": "c719a77c",
   "metadata": {},
   "outputs": [
    {
     "data": {
      "text/html": [
       "<div>\n",
       "<style scoped>\n",
       "    .dataframe tbody tr th:only-of-type {\n",
       "        vertical-align: middle;\n",
       "    }\n",
       "\n",
       "    .dataframe tbody tr th {\n",
       "        vertical-align: top;\n",
       "    }\n",
       "\n",
       "    .dataframe thead th {\n",
       "        text-align: right;\n",
       "    }\n",
       "</style>\n",
       "<table border=\"1\" class=\"dataframe\">\n",
       "  <thead>\n",
       "    <tr style=\"text-align: right;\">\n",
       "      <th></th>\n",
       "      <th>formula</th>\n",
       "      <th>framework</th>\n",
       "      <th>composition</th>\n",
       "      <th>n_atoms_unrelaxed</th>\n",
       "      <th>n_atoms_opt</th>\n",
       "      <th>unrelaxed_cryst_id</th>\n",
       "      <th>unrelaxed_struct</th>\n",
       "      <th>opt_cryst_id</th>\n",
       "      <th>opt_struct</th>\n",
       "      <th>es_job_id</th>\n",
       "      <th>dft_energy</th>\n",
       "      <th>dft_energy_per_atom</th>\n",
       "      <th>dft_e_hull</th>\n",
       "      <th>structure</th>\n",
       "      <th>dft_e_hull_interp</th>\n",
       "      <th>dft_e_hull_diff</th>\n",
       "    </tr>\n",
       "  </thead>\n",
       "  <tbody>\n",
       "    <tr>\n",
       "      <th>0</th>\n",
       "      <td>Ba1Ca7Fe3Mn5O24</td>\n",
       "      <td>Ba0.125Ca0.875Fe0.375Mn0.625O3</td>\n",
       "      <td>{'sites': {'A': ['Ca', 'Ba'], 'B': ['Mn', 'Fe'...</td>\n",
       "      <td>40</td>\n",
       "      <td>40</td>\n",
       "      <td>222996501</td>\n",
       "      <td>{'@module': 'pymatgen.core.structure', '@class...</td>\n",
       "      <td>252537945</td>\n",
       "      <td>{'@module': 'pymatgen.core.structure', '@class...</td>\n",
       "      <td>72945546</td>\n",
       "      <td>-266.633305</td>\n",
       "      <td>-6.665833</td>\n",
       "      <td>0.122559</td>\n",
       "      <td>[[8.e-06 8.e-06 8.e-06] Ba, [2.000008 2.000008...</td>\n",
       "      <td>0.140324</td>\n",
       "      <td>-0.017766</td>\n",
       "    </tr>\n",
       "    <tr>\n",
       "      <th>1</th>\n",
       "      <td>Ba1Ca7Fe3Mn5O24</td>\n",
       "      <td>Ba0.125Ca0.875Fe0.375Mn0.625O3</td>\n",
       "      <td>{'sites': {'A': ['Ca', 'Ba'], 'B': ['Mn', 'Fe'...</td>\n",
       "      <td>40</td>\n",
       "      <td>40</td>\n",
       "      <td>222996502</td>\n",
       "      <td>{'@module': 'pymatgen.core.structure', '@class...</td>\n",
       "      <td>253437540</td>\n",
       "      <td>{'@module': 'pymatgen.core.structure', '@class...</td>\n",
       "      <td>73304197</td>\n",
       "      <td>-266.521519</td>\n",
       "      <td>-6.663038</td>\n",
       "      <td>0.125353</td>\n",
       "      <td>[[0. 0. 0.] Ba, [2. 2. 2.] Fe, [2. 2. 0.] O, [...</td>\n",
       "      <td>0.140324</td>\n",
       "      <td>-0.014971</td>\n",
       "    </tr>\n",
       "    <tr>\n",
       "      <th>2</th>\n",
       "      <td>Ba1Cr4Fe4O24Pr7</td>\n",
       "      <td>Ba0.125Pr0.875Cr0.500Fe0.500O3</td>\n",
       "      <td>{'sites': {'A': ['Ba', 'Pr'], 'B': ['Cr', 'Fe'...</td>\n",
       "      <td>40</td>\n",
       "      <td>40</td>\n",
       "      <td>201883190</td>\n",
       "      <td>{'@module': 'pymatgen.core.structure', '@class...</td>\n",
       "      <td>203132378</td>\n",
       "      <td>{'@module': 'pymatgen.core.structure', '@class...</td>\n",
       "      <td>61473323</td>\n",
       "      <td>-300.739117</td>\n",
       "      <td>-7.518478</td>\n",
       "      <td>0.189088</td>\n",
       "      <td>[[8.e-06 8.e-06 8.e-06] Ba, [8.000000e-06 8.00...</td>\n",
       "      <td>0.387373</td>\n",
       "      <td>-0.198285</td>\n",
       "    </tr>\n",
       "    <tr>\n",
       "      <th>3</th>\n",
       "      <td>Ba1Cr4Fe4O24Pr7</td>\n",
       "      <td>Ba0.125Pr0.875Cr0.500Fe0.500O3</td>\n",
       "      <td>{'sites': {'A': ['Ba', 'Pr'], 'B': ['Cr', 'Fe'...</td>\n",
       "      <td>40</td>\n",
       "      <td>40</td>\n",
       "      <td>200882398</td>\n",
       "      <td>{'@module': 'pymatgen.core.structure', '@class...</td>\n",
       "      <td>201610028</td>\n",
       "      <td>{'@module': 'pymatgen.core.structure', '@class...</td>\n",
       "      <td>61473401</td>\n",
       "      <td>-302.920491</td>\n",
       "      <td>-7.573012</td>\n",
       "      <td>0.134554</td>\n",
       "      <td>[[8.e-06 8.e-06 8.e-06] Ba, [8.000000e-06 8.00...</td>\n",
       "      <td>0.387373</td>\n",
       "      <td>-0.252819</td>\n",
       "    </tr>\n",
       "    <tr>\n",
       "      <th>4</th>\n",
       "      <td>Ba1Co3Ni5O24Sm7</td>\n",
       "      <td>Ba0.125Sm0.875Co0.375Ni0.625O3</td>\n",
       "      <td>{'sites': {'A': ['Ba', 'Sm'], 'B': ['Co', 'Ni'...</td>\n",
       "      <td>40</td>\n",
       "      <td>40</td>\n",
       "      <td>201883295</td>\n",
       "      <td>{'@module': 'pymatgen.core.structure', '@class...</td>\n",
       "      <td>255717779</td>\n",
       "      <td>{'@module': 'pymatgen.core.structure', '@class...</td>\n",
       "      <td>74141778</td>\n",
       "      <td>-261.814429</td>\n",
       "      <td>-6.545361</td>\n",
       "      <td>0.158405</td>\n",
       "      <td>[[0. 0. 0.] Ba, [0. 0. 4.] Sm, [0.0000000e+00 ...</td>\n",
       "      <td>0.223073</td>\n",
       "      <td>-0.064669</td>\n",
       "    </tr>\n",
       "    <tr>\n",
       "      <th>...</th>\n",
       "      <td>...</td>\n",
       "      <td>...</td>\n",
       "      <td>...</td>\n",
       "      <td>...</td>\n",
       "      <td>...</td>\n",
       "      <td>...</td>\n",
       "      <td>...</td>\n",
       "      <td>...</td>\n",
       "      <td>...</td>\n",
       "      <td>...</td>\n",
       "      <td>...</td>\n",
       "      <td>...</td>\n",
       "      <td>...</td>\n",
       "      <td>...</td>\n",
       "      <td>...</td>\n",
       "      <td>...</td>\n",
       "    </tr>\n",
       "    <tr>\n",
       "      <th>995</th>\n",
       "      <td>Ba8Ga4Nb4O24</td>\n",
       "      <td>BaGa0.500Nb0.500O3</td>\n",
       "      <td>{'sites': {'A': ['Ba'], 'B': ['Ga', 'Nb'], 'X'...</td>\n",
       "      <td>40</td>\n",
       "      <td>40</td>\n",
       "      <td>261447638</td>\n",
       "      <td>{'@module': 'pymatgen.core.structure', '@class...</td>\n",
       "      <td>261595176</td>\n",
       "      <td>{'@module': 'pymatgen.core.structure', '@class...</td>\n",
       "      <td>76518029</td>\n",
       "      <td>-288.738648</td>\n",
       "      <td>-7.218466</td>\n",
       "      <td>0.071669</td>\n",
       "      <td>[[6.000008 2.000008 2.000008] Ba, [8.000000e-0...</td>\n",
       "      <td>0.118783</td>\n",
       "      <td>-0.047114</td>\n",
       "    </tr>\n",
       "    <tr>\n",
       "      <th>996</th>\n",
       "      <td>Ba8Ga4Nb4O24</td>\n",
       "      <td>BaGa0.500Nb0.500O3</td>\n",
       "      <td>{'sites': {'A': ['Ba'], 'B': ['Ga', 'Nb'], 'X'...</td>\n",
       "      <td>40</td>\n",
       "      <td>40</td>\n",
       "      <td>261447639</td>\n",
       "      <td>{'@module': 'pymatgen.core.structure', '@class...</td>\n",
       "      <td>261610387</td>\n",
       "      <td>{'@module': 'pymatgen.core.structure', '@class...</td>\n",
       "      <td>76521316</td>\n",
       "      <td>-288.594702</td>\n",
       "      <td>-7.214868</td>\n",
       "      <td>0.075268</td>\n",
       "      <td>[[6.000008 2.000008 2.000008] Ba, [8.000000e-0...</td>\n",
       "      <td>0.118783</td>\n",
       "      <td>-0.043515</td>\n",
       "    </tr>\n",
       "    <tr>\n",
       "      <th>997</th>\n",
       "      <td>Ba8Ga4Nb4O24</td>\n",
       "      <td>BaGa0.500Nb0.500O3</td>\n",
       "      <td>{'sites': {'A': ['Ba'], 'B': ['Ga', 'Nb'], 'X'...</td>\n",
       "      <td>40</td>\n",
       "      <td>40</td>\n",
       "      <td>261447641</td>\n",
       "      <td>{'@module': 'pymatgen.core.structure', '@class...</td>\n",
       "      <td>261595087</td>\n",
       "      <td>{'@module': 'pymatgen.core.structure', '@class...</td>\n",
       "      <td>76518119</td>\n",
       "      <td>-288.751204</td>\n",
       "      <td>-7.218780</td>\n",
       "      <td>0.071356</td>\n",
       "      <td>[[6.000008 2.000008 6.000008] Ba, [8.000000e-0...</td>\n",
       "      <td>0.118783</td>\n",
       "      <td>-0.047428</td>\n",
       "    </tr>\n",
       "    <tr>\n",
       "      <th>998</th>\n",
       "      <td>Ba8Ga4O24Ta4</td>\n",
       "      <td>BaGa0.500Ta0.500O3</td>\n",
       "      <td>{'sites': {'A': ['Ba'], 'B': ['Ga', 'Ta'], 'X'...</td>\n",
       "      <td>40</td>\n",
       "      <td>40</td>\n",
       "      <td>261447648</td>\n",
       "      <td>{'@module': 'pymatgen.core.structure', '@class...</td>\n",
       "      <td>261838380</td>\n",
       "      <td>{'@module': 'pymatgen.core.structure', '@class...</td>\n",
       "      <td>76546918</td>\n",
       "      <td>-301.049211</td>\n",
       "      <td>-7.526230</td>\n",
       "      <td>0.041065</td>\n",
       "      <td>[[6.000008 6.000008 2.000008] Ba, [8.000000e-0...</td>\n",
       "      <td>0.138295</td>\n",
       "      <td>-0.097229</td>\n",
       "    </tr>\n",
       "    <tr>\n",
       "      <th>999</th>\n",
       "      <td>Ba8Ga4O24Ta4</td>\n",
       "      <td>BaGa0.500Ta0.500O3</td>\n",
       "      <td>{'sites': {'A': ['Ba'], 'B': ['Ga', 'Ta'], 'X'...</td>\n",
       "      <td>40</td>\n",
       "      <td>40</td>\n",
       "      <td>261447647</td>\n",
       "      <td>{'@module': 'pymatgen.core.structure', '@class...</td>\n",
       "      <td>261595117</td>\n",
       "      <td>{'@module': 'pymatgen.core.structure', '@class...</td>\n",
       "      <td>76517934</td>\n",
       "      <td>-300.149791</td>\n",
       "      <td>-7.503745</td>\n",
       "      <td>0.063551</td>\n",
       "      <td>[[6.000008 2.000008 6.000008] Ba, [8.000000e-0...</td>\n",
       "      <td>0.138295</td>\n",
       "      <td>-0.074744</td>\n",
       "    </tr>\n",
       "  </tbody>\n",
       "</table>\n",
       "<p>1000 rows × 16 columns</p>\n",
       "</div>"
      ],
      "text/plain": [
       "             formula                       framework  \\\n",
       "0    Ba1Ca7Fe3Mn5O24  Ba0.125Ca0.875Fe0.375Mn0.625O3   \n",
       "1    Ba1Ca7Fe3Mn5O24  Ba0.125Ca0.875Fe0.375Mn0.625O3   \n",
       "2    Ba1Cr4Fe4O24Pr7  Ba0.125Pr0.875Cr0.500Fe0.500O3   \n",
       "3    Ba1Cr4Fe4O24Pr7  Ba0.125Pr0.875Cr0.500Fe0.500O3   \n",
       "4    Ba1Co3Ni5O24Sm7  Ba0.125Sm0.875Co0.375Ni0.625O3   \n",
       "..               ...                             ...   \n",
       "995     Ba8Ga4Nb4O24              BaGa0.500Nb0.500O3   \n",
       "996     Ba8Ga4Nb4O24              BaGa0.500Nb0.500O3   \n",
       "997     Ba8Ga4Nb4O24              BaGa0.500Nb0.500O3   \n",
       "998     Ba8Ga4O24Ta4              BaGa0.500Ta0.500O3   \n",
       "999     Ba8Ga4O24Ta4              BaGa0.500Ta0.500O3   \n",
       "\n",
       "                                           composition  n_atoms_unrelaxed  \\\n",
       "0    {'sites': {'A': ['Ca', 'Ba'], 'B': ['Mn', 'Fe'...                 40   \n",
       "1    {'sites': {'A': ['Ca', 'Ba'], 'B': ['Mn', 'Fe'...                 40   \n",
       "2    {'sites': {'A': ['Ba', 'Pr'], 'B': ['Cr', 'Fe'...                 40   \n",
       "3    {'sites': {'A': ['Ba', 'Pr'], 'B': ['Cr', 'Fe'...                 40   \n",
       "4    {'sites': {'A': ['Ba', 'Sm'], 'B': ['Co', 'Ni'...                 40   \n",
       "..                                                 ...                ...   \n",
       "995  {'sites': {'A': ['Ba'], 'B': ['Ga', 'Nb'], 'X'...                 40   \n",
       "996  {'sites': {'A': ['Ba'], 'B': ['Ga', 'Nb'], 'X'...                 40   \n",
       "997  {'sites': {'A': ['Ba'], 'B': ['Ga', 'Nb'], 'X'...                 40   \n",
       "998  {'sites': {'A': ['Ba'], 'B': ['Ga', 'Ta'], 'X'...                 40   \n",
       "999  {'sites': {'A': ['Ba'], 'B': ['Ga', 'Ta'], 'X'...                 40   \n",
       "\n",
       "     n_atoms_opt  unrelaxed_cryst_id  \\\n",
       "0             40           222996501   \n",
       "1             40           222996502   \n",
       "2             40           201883190   \n",
       "3             40           200882398   \n",
       "4             40           201883295   \n",
       "..           ...                 ...   \n",
       "995           40           261447638   \n",
       "996           40           261447639   \n",
       "997           40           261447641   \n",
       "998           40           261447648   \n",
       "999           40           261447647   \n",
       "\n",
       "                                      unrelaxed_struct  opt_cryst_id  \\\n",
       "0    {'@module': 'pymatgen.core.structure', '@class...     252537945   \n",
       "1    {'@module': 'pymatgen.core.structure', '@class...     253437540   \n",
       "2    {'@module': 'pymatgen.core.structure', '@class...     203132378   \n",
       "3    {'@module': 'pymatgen.core.structure', '@class...     201610028   \n",
       "4    {'@module': 'pymatgen.core.structure', '@class...     255717779   \n",
       "..                                                 ...           ...   \n",
       "995  {'@module': 'pymatgen.core.structure', '@class...     261595176   \n",
       "996  {'@module': 'pymatgen.core.structure', '@class...     261610387   \n",
       "997  {'@module': 'pymatgen.core.structure', '@class...     261595087   \n",
       "998  {'@module': 'pymatgen.core.structure', '@class...     261838380   \n",
       "999  {'@module': 'pymatgen.core.structure', '@class...     261595117   \n",
       "\n",
       "                                            opt_struct  es_job_id  dft_energy  \\\n",
       "0    {'@module': 'pymatgen.core.structure', '@class...   72945546 -266.633305   \n",
       "1    {'@module': 'pymatgen.core.structure', '@class...   73304197 -266.521519   \n",
       "2    {'@module': 'pymatgen.core.structure', '@class...   61473323 -300.739117   \n",
       "3    {'@module': 'pymatgen.core.structure', '@class...   61473401 -302.920491   \n",
       "4    {'@module': 'pymatgen.core.structure', '@class...   74141778 -261.814429   \n",
       "..                                                 ...        ...         ...   \n",
       "995  {'@module': 'pymatgen.core.structure', '@class...   76518029 -288.738648   \n",
       "996  {'@module': 'pymatgen.core.structure', '@class...   76521316 -288.594702   \n",
       "997  {'@module': 'pymatgen.core.structure', '@class...   76518119 -288.751204   \n",
       "998  {'@module': 'pymatgen.core.structure', '@class...   76546918 -301.049211   \n",
       "999  {'@module': 'pymatgen.core.structure', '@class...   76517934 -300.149791   \n",
       "\n",
       "     dft_energy_per_atom  dft_e_hull  \\\n",
       "0              -6.665833    0.122559   \n",
       "1              -6.663038    0.125353   \n",
       "2              -7.518478    0.189088   \n",
       "3              -7.573012    0.134554   \n",
       "4              -6.545361    0.158405   \n",
       "..                   ...         ...   \n",
       "995            -7.218466    0.071669   \n",
       "996            -7.214868    0.075268   \n",
       "997            -7.218780    0.071356   \n",
       "998            -7.526230    0.041065   \n",
       "999            -7.503745    0.063551   \n",
       "\n",
       "                                             structure  dft_e_hull_interp  \\\n",
       "0    [[8.e-06 8.e-06 8.e-06] Ba, [2.000008 2.000008...           0.140324   \n",
       "1    [[0. 0. 0.] Ba, [2. 2. 2.] Fe, [2. 2. 0.] O, [...           0.140324   \n",
       "2    [[8.e-06 8.e-06 8.e-06] Ba, [8.000000e-06 8.00...           0.387373   \n",
       "3    [[8.e-06 8.e-06 8.e-06] Ba, [8.000000e-06 8.00...           0.387373   \n",
       "4    [[0. 0. 0.] Ba, [0. 0. 4.] Sm, [0.0000000e+00 ...           0.223073   \n",
       "..                                                 ...                ...   \n",
       "995  [[6.000008 2.000008 2.000008] Ba, [8.000000e-0...           0.118783   \n",
       "996  [[6.000008 2.000008 2.000008] Ba, [8.000000e-0...           0.118783   \n",
       "997  [[6.000008 2.000008 6.000008] Ba, [8.000000e-0...           0.118783   \n",
       "998  [[6.000008 6.000008 2.000008] Ba, [8.000000e-0...           0.138295   \n",
       "999  [[6.000008 2.000008 6.000008] Ba, [8.000000e-0...           0.138295   \n",
       "\n",
       "     dft_e_hull_diff  \n",
       "0          -0.017766  \n",
       "1          -0.014971  \n",
       "2          -0.198285  \n",
       "3          -0.252819  \n",
       "4          -0.064669  \n",
       "..               ...  \n",
       "995        -0.047114  \n",
       "996        -0.043515  \n",
       "997        -0.047428  \n",
       "998        -0.097229  \n",
       "999        -0.074744  \n",
       "\n",
       "[1000 rows x 16 columns]"
      ]
     },
     "execution_count": 9,
     "metadata": {},
     "output_type": "execute_result"
    }
   ],
   "source": [
    "data_unrelaxed"
   ]
  },
  {
   "cell_type": "code",
   "execution_count": 10,
   "id": "dd6c9b6f",
   "metadata": {},
   "outputs": [],
   "source": [
    "from processing.dataloader.dataloader import get_dataloader\n",
    "from processing.create_model.create_model import create_model\n",
    "from training.hyperparameters.default import get_default_cgcnn_hyperparameters, get_default_painn_hyperparameters, get_default_e3nn_hyperparameters\n",
    "from training.model_training.trainer import trainer"
   ]
  },
  {
   "cell_type": "code",
   "execution_count": null,
   "id": "43dd2e5c",
   "metadata": {},
   "outputs": [],
   "source": [
    "train_loader = get_dataloader(data_unrelaxed,\"dft_e_hull\",\"CGCNN\",4)\n",
    "model, Normalizer = create_model(\"CGCNN\",train_loader)"
   ]
  },
  {
   "cell_type": "code",
   "execution_count": null,
   "id": "1d09374a",
   "metadata": {},
   "outputs": [],
   "source": [
    "hyperparameters = get_default_cgcnn_hyperparameters()\n",
    "print(hyperparameters)\n",
    "best_model, loss_fn = trainer(model,Normalizer,'CGCNN',train_loader,train_loader,hyperparameters,\"saved_models/CGCNN/Scrap\",0)"
   ]
  },
  {
   "cell_type": "code",
   "execution_count": null,
   "id": "53c526ba",
   "metadata": {},
   "outputs": [],
   "source": [
    "train_loader = get_dataloader(data_unrelaxed,\"dft_e_hull\",\"Painn\",4)\n",
    "model, Normalizer = create_model(\"Painn\",train_loader)"
   ]
  },
  {
   "cell_type": "code",
   "execution_count": 14,
   "id": "f94218cd",
   "metadata": {},
   "outputs": [
    {
     "name": "stdout",
     "output_type": "stream",
     "text": [
      " Time | Epoch | Learning rate | Train loss | Validation loss | MAE_dft_e_hull_diff | GPU Memory (MB)\n"
     ]
    },
    {
     "name": "stderr",
     "output_type": "stream",
     "text": [
      "100%|█████████▉| 249/250 [00:05<00:00, 43.17it/s]\n"
     ]
    },
    {
     "name": "stdout",
     "output_type": "stream",
     "text": [
      "36:15 |     7 |     1.000e-03 |     0.0463 |          0.0576 |              0.0576 |             129\n"
     ]
    },
    {
     "name": "stderr",
     "output_type": "stream",
     "text": [
      "100%|█████████▉| 249/250 [00:05<00:00, 42.87it/s]\n"
     ]
    },
    {
     "name": "stdout",
     "output_type": "stream",
     "text": [
      "36:22 |     8 |     1.000e-03 |     0.0440 |          0.0470 |              0.0470 |             129\n"
     ]
    },
    {
     "name": "stderr",
     "output_type": "stream",
     "text": [
      "100%|█████████▉| 249/250 [00:05<00:00, 43.60it/s]\n"
     ]
    },
    {
     "name": "stdout",
     "output_type": "stream",
     "text": [
      "36:30 |     9 |     1.000e-03 |     0.0427 |          0.0365 |              0.0365 |             129\n"
     ]
    },
    {
     "name": "stderr",
     "output_type": "stream",
     "text": [
      "100%|█████████▉| 249/250 [00:05<00:00, 43.38it/s]\n"
     ]
    },
    {
     "name": "stdout",
     "output_type": "stream",
     "text": [
      "36:37 |    10 |     1.000e-03 |     0.0402 |          0.0397 |              0.0397 |             129\n"
     ]
    },
    {
     "name": "stderr",
     "output_type": "stream",
     "text": [
      "100%|█████████▉| 249/250 [00:05<00:00, 42.70it/s]\n"
     ]
    },
    {
     "name": "stdout",
     "output_type": "stream",
     "text": [
      "36:45 |    11 |     1.000e-03 |     0.0391 |          0.0422 |              0.0422 |             129\n"
     ]
    },
    {
     "name": "stderr",
     "output_type": "stream",
     "text": [
      "100%|█████████▉| 249/250 [00:05<00:00, 43.47it/s]\n"
     ]
    },
    {
     "name": "stdout",
     "output_type": "stream",
     "text": [
      "36:52 |    12 |     1.000e-03 |     0.0375 |          0.0494 |              0.0494 |             129\n"
     ]
    },
    {
     "name": "stderr",
     "output_type": "stream",
     "text": [
      " 88%|████████▊ | 221/250 [00:05<00:00, 42.19it/s]\n"
     ]
    },
    {
     "ename": "KeyboardInterrupt",
     "evalue": "",
     "output_type": "error",
     "traceback": [
      "\u001b[0;31m---------------------------------------------------------------------------\u001b[0m",
      "\u001b[0;31mKeyboardInterrupt\u001b[0m                         Traceback (most recent call last)",
      "Cell \u001b[0;32mIn[14], line 2\u001b[0m\n\u001b[1;32m      1\u001b[0m hyperparameters \u001b[38;5;241m=\u001b[39m get_default_painn_hyperparameters()\n\u001b[0;32m----> 2\u001b[0m best_model, loss_fn \u001b[38;5;241m=\u001b[39m \u001b[43mtrainer\u001b[49m\u001b[43m(\u001b[49m\u001b[43mmodel\u001b[49m\u001b[43m,\u001b[49m\u001b[43mNormalizer\u001b[49m\u001b[43m,\u001b[49m\u001b[38;5;124;43m'\u001b[39;49m\u001b[38;5;124;43mPainn\u001b[39;49m\u001b[38;5;124;43m'\u001b[39;49m\u001b[43m,\u001b[49m\u001b[43mtrain_loader\u001b[49m\u001b[43m,\u001b[49m\u001b[43mtrain_loader\u001b[49m\u001b[43m,\u001b[49m\u001b[43mhyperparameters\u001b[49m\u001b[43m,\u001b[49m\u001b[38;5;124;43m\"\u001b[39;49m\u001b[38;5;124;43msaved_models/Painn/Scrap\u001b[39;49m\u001b[38;5;124;43m\"\u001b[39;49m\u001b[43m,\u001b[49m\u001b[38;5;241;43m0\u001b[39;49m\u001b[43m)\u001b[49m\n",
      "File \u001b[0;32m~/perovskites/ML_Ordering_Github/PerovskiteOrderingGCNNs/training/model_training/trainer.py:18\u001b[0m, in \u001b[0;36mtrainer\u001b[0;34m(model, normalizer, model_type, train_loader, val_loader, hyperparameters, OUTDIR, gpu_num)\u001b[0m\n\u001b[1;32m     15\u001b[0m     loss_fn \u001b[38;5;241m=\u001b[39m torch\u001b[38;5;241m.\u001b[39mnn\u001b[38;5;241m.\u001b[39mL1Loss()\n\u001b[1;32m     17\u001b[0m \u001b[38;5;28;01mif\u001b[39;00m model_type \u001b[38;5;241m==\u001b[39m \u001b[38;5;124m\"\u001b[39m\u001b[38;5;124mPainn\u001b[39m\u001b[38;5;124m\"\u001b[39m:\n\u001b[0;32m---> 18\u001b[0m     best_model \u001b[38;5;241m=\u001b[39m \u001b[43mtrain_painn\u001b[49m\u001b[43m(\u001b[49m\u001b[43mmodel\u001b[49m\u001b[43m,\u001b[49m\u001b[43mtrain_loader\u001b[49m\u001b[43m,\u001b[49m\u001b[43mval_loader\u001b[49m\u001b[43m,\u001b[49m\u001b[43mhyperparameters\u001b[49m\u001b[43m,\u001b[49m\u001b[43mOUTDIR\u001b[49m\u001b[43m,\u001b[49m\u001b[43mgpu_num\u001b[49m\u001b[43m)\u001b[49m\n\u001b[1;32m     19\u001b[0m \u001b[38;5;28;01melse\u001b[39;00m:\n\u001b[1;32m     20\u001b[0m     best_model \u001b[38;5;241m=\u001b[39m train_CGCNN_e3nn(model,normalizer,model_type,loss_fn,train_loader,val_loader,hyperparameters,OUTDIR,gpu_num)\n",
      "File \u001b[0;32m~/perovskites/ML_Ordering_Github/PerovskiteOrderingGCNNs/training/model_training/trainer.py:71\u001b[0m, in \u001b[0;36mtrain_painn\u001b[0;34m(model, train_loader, val_loader, hyperparameters, OUTDIR, gpu_num)\u001b[0m\n\u001b[1;32m     38\u001b[0m train_hooks \u001b[38;5;241m=\u001b[39m [\n\u001b[1;32m     39\u001b[0m     hooks\u001b[38;5;241m.\u001b[39mMaxEpochHook(num_epochs),\n\u001b[1;32m     40\u001b[0m     hooks\u001b[38;5;241m.\u001b[39mCSVHook(\n\u001b[0;32m   (...)\u001b[0m\n\u001b[1;32m     56\u001b[0m         stop_after_min\u001b[38;5;241m=\u001b[39m\u001b[38;5;28;01mTrue\u001b[39;00m)\n\u001b[1;32m     57\u001b[0m ]\n\u001b[1;32m     59\u001b[0m T \u001b[38;5;241m=\u001b[39m Trainer(\n\u001b[1;32m     60\u001b[0m     model_path\u001b[38;5;241m=\u001b[39mOUTDIR, \n\u001b[1;32m     61\u001b[0m     model\u001b[38;5;241m=\u001b[39mmodel, \n\u001b[0;32m   (...)\u001b[0m\n\u001b[1;32m     68\u001b[0m     mini_batches\u001b[38;5;241m=\u001b[39m\u001b[38;5;241m1\u001b[39m\n\u001b[1;32m     69\u001b[0m )\n\u001b[0;32m---> 71\u001b[0m \u001b[43mT\u001b[49m\u001b[38;5;241;43m.\u001b[39;49m\u001b[43mtrain\u001b[49m\u001b[43m(\u001b[49m\u001b[43mdevice\u001b[49m\u001b[38;5;241;43m=\u001b[39;49m\u001b[43mgpu_num\u001b[49m\u001b[43m,\u001b[49m\u001b[43m \u001b[49m\u001b[43mn_epochs\u001b[49m\u001b[38;5;241;43m=\u001b[39;49m\u001b[43mnum_epochs\u001b[49m\u001b[43m)\u001b[49m\n\u001b[1;32m     73\u001b[0m \u001b[38;5;28;01mreturn\u001b[39;00m T\u001b[38;5;241m.\u001b[39mget_best_model()\n",
      "File \u001b[0;32m~/perovskites/ML_Ordering_Github/PerovskiteOrderingGCNNs/models/PerovskiteOrderingGCNNs_painn/nff/train/trainer.py:399\u001b[0m, in \u001b[0;36mTrainer.train\u001b[0;34m(self, device, n_epochs)\u001b[0m\n\u001b[1;32m    396\u001b[0m \u001b[38;5;28;01mfor\u001b[39;00m hook \u001b[38;5;129;01min\u001b[39;00m \u001b[38;5;28mself\u001b[39m\u001b[38;5;241m.\u001b[39mhooks:\n\u001b[1;32m    397\u001b[0m     hook\u001b[38;5;241m.\u001b[39mon_batch_begin(\u001b[38;5;28mself\u001b[39m, batch)\n\u001b[0;32m--> 399\u001b[0m batch, results, mini_loss, _ \u001b[38;5;241m=\u001b[39m \u001b[38;5;28;43mself\u001b[39;49m\u001b[38;5;241;43m.\u001b[39;49m\u001b[43mcall_and_loss\u001b[49m\u001b[43m(\u001b[49m\n\u001b[1;32m    400\u001b[0m \u001b[43m    \u001b[49m\u001b[43mbatch\u001b[49m\u001b[38;5;241;43m=\u001b[39;49m\u001b[43mbatch\u001b[49m\u001b[43m,\u001b[49m\n\u001b[1;32m    401\u001b[0m \u001b[43m    \u001b[49m\u001b[43mdevice\u001b[49m\u001b[38;5;241;43m=\u001b[39;49m\u001b[43mdevice\u001b[49m\u001b[43m,\u001b[49m\n\u001b[1;32m    402\u001b[0m \u001b[43m    \u001b[49m\u001b[43mcalc_loss\u001b[49m\u001b[38;5;241;43m=\u001b[39;49m\u001b[38;5;28;43;01mTrue\u001b[39;49;00m\u001b[43m)\u001b[49m\n\u001b[1;32m    404\u001b[0m \u001b[38;5;28;01mif\u001b[39;00m \u001b[38;5;129;01mnot\u001b[39;00m torch\u001b[38;5;241m.\u001b[39misnan(mini_loss):\n\u001b[1;32m    405\u001b[0m     loss \u001b[38;5;241m+\u001b[39m\u001b[38;5;241m=\u001b[39m mini_loss\u001b[38;5;241m.\u001b[39mcpu()\u001b[38;5;241m.\u001b[39mdetach()\u001b[38;5;241m.\u001b[39mto(device)\n",
      "File \u001b[0;32m~/perovskites/ML_Ordering_Github/PerovskiteOrderingGCNNs/models/PerovskiteOrderingGCNNs_painn/nff/train/trainer.py:340\u001b[0m, in \u001b[0;36mTrainer.call_and_loss\u001b[0;34m(self, batch, device, calc_loss)\u001b[0m\n\u001b[1;32m    338\u001b[0m \u001b[38;5;28;01mif\u001b[39;00m use_device \u001b[38;5;241m!=\u001b[39m device:\n\u001b[1;32m    339\u001b[0m     \u001b[38;5;28mself\u001b[39m\u001b[38;5;241m.\u001b[39mto(use_device)\n\u001b[0;32m--> 340\u001b[0m results \u001b[38;5;241m=\u001b[39m \u001b[38;5;28;43mself\u001b[39;49m\u001b[38;5;241;43m.\u001b[39;49m\u001b[43mcall_model\u001b[49m\u001b[43m(\u001b[49m\u001b[43mbatch\u001b[49m\u001b[43m,\u001b[49m\u001b[43m \u001b[49m\u001b[43mtrain\u001b[49m\u001b[38;5;241;43m=\u001b[39;49m\u001b[38;5;28;43;01mTrue\u001b[39;49;00m\u001b[43m)\u001b[49m\n\u001b[1;32m    341\u001b[0m \u001b[38;5;28;01mif\u001b[39;00m calc_loss:\n\u001b[1;32m    342\u001b[0m     mini_loss \u001b[38;5;241m=\u001b[39m \u001b[38;5;28mself\u001b[39m\u001b[38;5;241m.\u001b[39mget_loss(batch, results)\n",
      "File \u001b[0;32m~/perovskites/ML_Ordering_Github/PerovskiteOrderingGCNNs/models/PerovskiteOrderingGCNNs_painn/nff/train/trainer.py:198\u001b[0m, in \u001b[0;36mTrainer.call_model\u001b[0;34m(self, batch, train)\u001b[0m\n\u001b[1;32m    195\u001b[0m \u001b[38;5;28;01melse\u001b[39;00m:\n\u001b[1;32m    196\u001b[0m     model \u001b[38;5;241m=\u001b[39m \u001b[38;5;28mself\u001b[39m\u001b[38;5;241m.\u001b[39m_model\n\u001b[0;32m--> 198\u001b[0m \u001b[38;5;28;01mreturn\u001b[39;00m \u001b[43mmodel\u001b[49m\u001b[43m(\u001b[49m\u001b[43mbatch\u001b[49m\u001b[43m,\u001b[49m\u001b[43m \u001b[49m\u001b[38;5;241;43m*\u001b[39;49m\u001b[38;5;241;43m*\u001b[39;49m\u001b[38;5;28;43mself\u001b[39;49m\u001b[38;5;241;43m.\u001b[39;49m\u001b[43mmodel_kwargs\u001b[49m\u001b[43m)\u001b[49m\n",
      "File \u001b[0;32m~/miniconda3/envs/Perovskite_ML_Environment/lib/python3.10/site-packages/torch/nn/modules/module.py:1194\u001b[0m, in \u001b[0;36mModule._call_impl\u001b[0;34m(self, *input, **kwargs)\u001b[0m\n\u001b[1;32m   1190\u001b[0m \u001b[38;5;66;03m# If we don't have any hooks, we want to skip the rest of the logic in\u001b[39;00m\n\u001b[1;32m   1191\u001b[0m \u001b[38;5;66;03m# this function, and just call forward.\u001b[39;00m\n\u001b[1;32m   1192\u001b[0m \u001b[38;5;28;01mif\u001b[39;00m \u001b[38;5;129;01mnot\u001b[39;00m (\u001b[38;5;28mself\u001b[39m\u001b[38;5;241m.\u001b[39m_backward_hooks \u001b[38;5;129;01mor\u001b[39;00m \u001b[38;5;28mself\u001b[39m\u001b[38;5;241m.\u001b[39m_forward_hooks \u001b[38;5;129;01mor\u001b[39;00m \u001b[38;5;28mself\u001b[39m\u001b[38;5;241m.\u001b[39m_forward_pre_hooks \u001b[38;5;129;01mor\u001b[39;00m _global_backward_hooks\n\u001b[1;32m   1193\u001b[0m         \u001b[38;5;129;01mor\u001b[39;00m _global_forward_hooks \u001b[38;5;129;01mor\u001b[39;00m _global_forward_pre_hooks):\n\u001b[0;32m-> 1194\u001b[0m     \u001b[38;5;28;01mreturn\u001b[39;00m \u001b[43mforward_call\u001b[49m\u001b[43m(\u001b[49m\u001b[38;5;241;43m*\u001b[39;49m\u001b[38;5;28;43minput\u001b[39;49m\u001b[43m,\u001b[49m\u001b[43m \u001b[49m\u001b[38;5;241;43m*\u001b[39;49m\u001b[38;5;241;43m*\u001b[39;49m\u001b[43mkwargs\u001b[49m\u001b[43m)\u001b[49m\n\u001b[1;32m   1195\u001b[0m \u001b[38;5;66;03m# Do not call functions when jit is used\u001b[39;00m\n\u001b[1;32m   1196\u001b[0m full_backward_hooks, non_full_backward_hooks \u001b[38;5;241m=\u001b[39m [], []\n",
      "File \u001b[0;32m~/perovskites/ML_Ordering_Github/PerovskiteOrderingGCNNs/models/PerovskiteOrderingGCNNs_painn/nff/nn/models/painn.py:290\u001b[0m, in \u001b[0;36mPainn.forward\u001b[0;34m(self, batch, xyz, requires_stress, inference, **kwargs)\u001b[0m\n\u001b[1;32m    276\u001b[0m \u001b[38;5;28;01mdef\u001b[39;00m \u001b[38;5;21mforward\u001b[39m(\u001b[38;5;28mself\u001b[39m,\n\u001b[1;32m    277\u001b[0m             batch,\n\u001b[1;32m    278\u001b[0m             xyz\u001b[38;5;241m=\u001b[39m\u001b[38;5;28;01mNone\u001b[39;00m,\n\u001b[1;32m    279\u001b[0m             requires_stress\u001b[38;5;241m=\u001b[39m\u001b[38;5;28;01mFalse\u001b[39;00m,\n\u001b[1;32m    280\u001b[0m             inference\u001b[38;5;241m=\u001b[39m\u001b[38;5;28;01mFalse\u001b[39;00m,\n\u001b[1;32m    281\u001b[0m             \u001b[38;5;241m*\u001b[39m\u001b[38;5;241m*\u001b[39mkwargs):\n\u001b[1;32m    282\u001b[0m \u001b[38;5;250m    \u001b[39m\u001b[38;5;124;03m\"\"\"\u001b[39;00m\n\u001b[1;32m    283\u001b[0m \u001b[38;5;124;03m    Call the model\u001b[39;00m\n\u001b[1;32m    284\u001b[0m \u001b[38;5;124;03m    Args:\u001b[39;00m\n\u001b[0;32m   (...)\u001b[0m\n\u001b[1;32m    287\u001b[0m \u001b[38;5;124;03m        results (dict): dictionary of predictions\u001b[39;00m\n\u001b[1;32m    288\u001b[0m \u001b[38;5;124;03m    \"\"\"\u001b[39;00m\n\u001b[0;32m--> 290\u001b[0m     results, _ \u001b[38;5;241m=\u001b[39m \u001b[38;5;28;43mself\u001b[39;49m\u001b[38;5;241;43m.\u001b[39;49m\u001b[43mrun\u001b[49m\u001b[43m(\u001b[49m\u001b[43mbatch\u001b[49m\u001b[38;5;241;43m=\u001b[39;49m\u001b[43mbatch\u001b[49m\u001b[43m,\u001b[49m\n\u001b[1;32m    291\u001b[0m \u001b[43m                          \u001b[49m\u001b[43mxyz\u001b[49m\u001b[38;5;241;43m=\u001b[39;49m\u001b[43mxyz\u001b[49m\u001b[43m,\u001b[49m\n\u001b[1;32m    292\u001b[0m \u001b[43m                          \u001b[49m\u001b[43mrequires_stress\u001b[49m\u001b[38;5;241;43m=\u001b[39;49m\u001b[43mrequires_stress\u001b[49m\u001b[43m,\u001b[49m\n\u001b[1;32m    293\u001b[0m \u001b[43m                          \u001b[49m\u001b[43minference\u001b[49m\u001b[38;5;241;43m=\u001b[39;49m\u001b[43minference\u001b[49m\u001b[43m)\u001b[49m\n\u001b[1;32m    295\u001b[0m     \u001b[38;5;28;01mreturn\u001b[39;00m results\n",
      "File \u001b[0;32m~/perovskites/ML_Ordering_Github/PerovskiteOrderingGCNNs/models/PerovskiteOrderingGCNNs_painn/nff/nn/models/painn.py:254\u001b[0m, in \u001b[0;36mPainn.run\u001b[0;34m(self, batch, xyz, requires_stress, inference)\u001b[0m\n\u001b[1;32m    248\u001b[0m \u001b[38;5;28;01mdef\u001b[39;00m \u001b[38;5;21mrun\u001b[39m(\u001b[38;5;28mself\u001b[39m,\n\u001b[1;32m    249\u001b[0m         batch,\n\u001b[1;32m    250\u001b[0m         xyz\u001b[38;5;241m=\u001b[39m\u001b[38;5;28;01mNone\u001b[39;00m,\n\u001b[1;32m    251\u001b[0m         requires_stress\u001b[38;5;241m=\u001b[39m\u001b[38;5;28;01mFalse\u001b[39;00m,\n\u001b[1;32m    252\u001b[0m         inference\u001b[38;5;241m=\u001b[39m\u001b[38;5;28;01mFalse\u001b[39;00m):\n\u001b[0;32m--> 254\u001b[0m     atomwise_out, xyz, r_ij, nbrs \u001b[38;5;241m=\u001b[39m \u001b[38;5;28;43mself\u001b[39;49m\u001b[38;5;241;43m.\u001b[39;49m\u001b[43matomwise\u001b[49m\u001b[43m(\u001b[49m\u001b[43mbatch\u001b[49m\u001b[38;5;241;43m=\u001b[39;49m\u001b[43mbatch\u001b[49m\u001b[43m,\u001b[49m\n\u001b[1;32m    255\u001b[0m \u001b[43m                                                  \u001b[49m\u001b[43mxyz\u001b[49m\u001b[38;5;241;43m=\u001b[39;49m\u001b[43mxyz\u001b[49m\u001b[43m)\u001b[49m\n\u001b[1;32m    257\u001b[0m     \u001b[38;5;28;01mif\u001b[39;00m \u001b[38;5;28mgetattr\u001b[39m(\u001b[38;5;28mself\u001b[39m, \u001b[38;5;124m\"\u001b[39m\u001b[38;5;124mexcl_vol\u001b[39m\u001b[38;5;124m\"\u001b[39m, \u001b[38;5;28;01mNone\u001b[39;00m):\n\u001b[1;32m    258\u001b[0m         \u001b[38;5;66;03m# Excluded Volume interactions\u001b[39;00m\n\u001b[1;32m    259\u001b[0m         r_ex \u001b[38;5;241m=\u001b[39m \u001b[38;5;28mself\u001b[39m\u001b[38;5;241m.\u001b[39mV_ex(r_ij, nbrs, xyz)\n",
      "File \u001b[0;32m~/perovskites/ML_Ordering_Github/PerovskiteOrderingGCNNs/models/PerovskiteOrderingGCNNs_painn/nff/nn/models/painn.py:162\u001b[0m, in \u001b[0;36mPainn.atomwise\u001b[0;34m(self, batch, xyz)\u001b[0m\n\u001b[1;32m    159\u001b[0m s_i \u001b[38;5;241m=\u001b[39m s_i \u001b[38;5;241m+\u001b[39m ds_message\n\u001b[1;32m    160\u001b[0m v_i \u001b[38;5;241m=\u001b[39m v_i \u001b[38;5;241m+\u001b[39m dv_message\n\u001b[0;32m--> 162\u001b[0m ds_update, dv_update \u001b[38;5;241m=\u001b[39m \u001b[43mupdate_block\u001b[49m\u001b[43m(\u001b[49m\u001b[43ms_i\u001b[49m\u001b[38;5;241;43m=\u001b[39;49m\u001b[43ms_i\u001b[49m\u001b[43m,\u001b[49m\n\u001b[1;32m    163\u001b[0m \u001b[43m                                    \u001b[49m\u001b[43mv_i\u001b[49m\u001b[38;5;241;43m=\u001b[39;49m\u001b[43mv_i\u001b[49m\u001b[43m)\u001b[49m\n\u001b[1;32m    165\u001b[0m s_i \u001b[38;5;241m=\u001b[39m s_i \u001b[38;5;241m+\u001b[39m ds_update\n\u001b[1;32m    166\u001b[0m v_i \u001b[38;5;241m=\u001b[39m v_i \u001b[38;5;241m+\u001b[39m dv_update\n",
      "File \u001b[0;32m~/miniconda3/envs/Perovskite_ML_Environment/lib/python3.10/site-packages/torch/nn/modules/module.py:1194\u001b[0m, in \u001b[0;36mModule._call_impl\u001b[0;34m(self, *input, **kwargs)\u001b[0m\n\u001b[1;32m   1190\u001b[0m \u001b[38;5;66;03m# If we don't have any hooks, we want to skip the rest of the logic in\u001b[39;00m\n\u001b[1;32m   1191\u001b[0m \u001b[38;5;66;03m# this function, and just call forward.\u001b[39;00m\n\u001b[1;32m   1192\u001b[0m \u001b[38;5;28;01mif\u001b[39;00m \u001b[38;5;129;01mnot\u001b[39;00m (\u001b[38;5;28mself\u001b[39m\u001b[38;5;241m.\u001b[39m_backward_hooks \u001b[38;5;129;01mor\u001b[39;00m \u001b[38;5;28mself\u001b[39m\u001b[38;5;241m.\u001b[39m_forward_hooks \u001b[38;5;129;01mor\u001b[39;00m \u001b[38;5;28mself\u001b[39m\u001b[38;5;241m.\u001b[39m_forward_pre_hooks \u001b[38;5;129;01mor\u001b[39;00m _global_backward_hooks\n\u001b[1;32m   1193\u001b[0m         \u001b[38;5;129;01mor\u001b[39;00m _global_forward_hooks \u001b[38;5;129;01mor\u001b[39;00m _global_forward_pre_hooks):\n\u001b[0;32m-> 1194\u001b[0m     \u001b[38;5;28;01mreturn\u001b[39;00m \u001b[43mforward_call\u001b[49m\u001b[43m(\u001b[49m\u001b[38;5;241;43m*\u001b[39;49m\u001b[38;5;28;43minput\u001b[39;49m\u001b[43m,\u001b[49m\u001b[43m \u001b[49m\u001b[38;5;241;43m*\u001b[39;49m\u001b[38;5;241;43m*\u001b[39;49m\u001b[43mkwargs\u001b[49m\u001b[43m)\u001b[49m\n\u001b[1;32m   1195\u001b[0m \u001b[38;5;66;03m# Do not call functions when jit is used\u001b[39;00m\n\u001b[1;32m   1196\u001b[0m full_backward_hooks, non_full_backward_hooks \u001b[38;5;241m=\u001b[39m [], []\n",
      "File \u001b[0;32m~/perovskites/ML_Ordering_Github/PerovskiteOrderingGCNNs/models/PerovskiteOrderingGCNNs_painn/nff/nn/modules/painn.py:307\u001b[0m, in \u001b[0;36mUpdateBlock.forward\u001b[0;34m(self, s_i, v_i)\u001b[0m\n\u001b[1;32m    303\u001b[0m v_v \u001b[38;5;241m=\u001b[39m (\u001b[38;5;28mself\u001b[39m\u001b[38;5;241m.\u001b[39mv_mat(v_tranpose)\u001b[38;5;241m.\u001b[39mreshape(\u001b[38;5;241m-\u001b[39m\u001b[38;5;241m1\u001b[39m, \u001b[38;5;241m3\u001b[39m, num_feats)\n\u001b[1;32m    304\u001b[0m        \u001b[38;5;241m.\u001b[39mtranspose(\u001b[38;5;241m1\u001b[39m, \u001b[38;5;241m2\u001b[39m))\n\u001b[1;32m    306\u001b[0m v_v_norm \u001b[38;5;241m=\u001b[39m norm(v_v)\n\u001b[0;32m--> 307\u001b[0m s_stack \u001b[38;5;241m=\u001b[39m \u001b[43mtorch\u001b[49m\u001b[38;5;241;43m.\u001b[39;49m\u001b[43mcat\u001b[49m\u001b[43m(\u001b[49m\u001b[43m[\u001b[49m\u001b[43ms_i\u001b[49m\u001b[43m,\u001b[49m\u001b[43m \u001b[49m\u001b[43mv_v_norm\u001b[49m\u001b[43m]\u001b[49m\u001b[43m,\u001b[49m\u001b[43m \u001b[49m\u001b[43mdim\u001b[49m\u001b[38;5;241;43m=\u001b[39;49m\u001b[38;5;241;43m-\u001b[39;49m\u001b[38;5;241;43m1\u001b[39;49m\u001b[43m)\u001b[49m\n\u001b[1;32m    309\u001b[0m split \u001b[38;5;241m=\u001b[39m (\u001b[38;5;28mself\u001b[39m\u001b[38;5;241m.\u001b[39ms_dense(s_stack)\n\u001b[1;32m    310\u001b[0m          \u001b[38;5;241m.\u001b[39mreshape(s_i\u001b[38;5;241m.\u001b[39mshape[\u001b[38;5;241m0\u001b[39m], \u001b[38;5;241m3\u001b[39m, \u001b[38;5;241m-\u001b[39m\u001b[38;5;241m1\u001b[39m))\n\u001b[1;32m    312\u001b[0m \u001b[38;5;66;03m# delta v update\u001b[39;00m\n",
      "\u001b[0;31mKeyboardInterrupt\u001b[0m: "
     ]
    }
   ],
   "source": [
    "hyperparameters = get_default_painn_hyperparameters()\n",
    "best_model, loss_fn = trainer(model,Normalizer,'Painn',train_loader,train_loader,hyperparameters,\"saved_models/Painn/Scrap\",0)\n"
   ]
  },
  {
   "cell_type": "code",
   "execution_count": 15,
   "id": "354e4fe2",
   "metadata": {},
   "outputs": [
    {
     "name": "stderr",
     "output_type": "stream",
     "text": [
      "100%|██████████| 1000/1000 [00:00<00:00, 3826.32it/s]\n",
      "100%|██████████| 1000/1000 [00:36<00:00, 27.07it/s]\n",
      "/home/jkdamewo/miniconda3/envs/Perovskite_ML_Environment/lib/python3.10/site-packages/torch/jit/_check.py:181: UserWarning: The TorchScript type system doesn't support instance-level annotations on empty non-base types in `__init__`. Instead, either 1) use a type annotation in the class body, or 2) wrap the type in `torch.jit.Attribute`.\n",
      "  warnings.warn(\"The TorchScript type system doesn't support \"\n"
     ]
    }
   ],
   "source": [
    "train_loader = get_dataloader(data_unrelaxed,\"dft_e_hull\",\"e3nn\",4)\n",
    "model, Normalizer = create_model(\"e3nn\",train_loader)"
   ]
  },
  {
   "cell_type": "code",
   "execution_count": 16,
   "id": "a8140450",
   "metadata": {},
   "outputs": [
    {
     "name": "stdout",
     "output_type": "stream",
     "text": [
      "{'MaxEpochs': 100, 'log_lr': -3, 'reduceLR_patience': 10, 'len_embedding_feature_vector': 64, 'num_hidden_feature': 128, 'num_hidden_layer': 2, 'multiplicity_irreps': 32, 'num_conv': 3, 'num_radical_basis': 10, 'num_radial_neurons': 100}\n"
     ]
    },
    {
     "name": "stderr",
     "output_type": "stream",
     "text": [
      "100%|██████████| 250/250 [00:21<00:00, 11.38it/s]\n"
     ]
    },
    {
     "name": "stdout",
     "output_type": "stream",
     "text": [
      "   1 ,lr = 0.00100000  train loss = 0.05213978  val loss = 0.05213978  time = 00:00:21\n"
     ]
    },
    {
     "name": "stderr",
     "output_type": "stream",
     "text": [
      "100%|██████████| 250/250 [00:20<00:00, 12.31it/s]\n"
     ]
    },
    {
     "name": "stdout",
     "output_type": "stream",
     "text": [
      "   2 ,lr = 0.00100000  train loss = 0.04795978  val loss = 0.04795978  time = 00:00:20\n"
     ]
    },
    {
     "name": "stderr",
     "output_type": "stream",
     "text": [
      " 20%|█▉        | 49/250 [00:03<00:16, 12.47it/s]\n"
     ]
    },
    {
     "ename": "KeyboardInterrupt",
     "evalue": "",
     "output_type": "error",
     "traceback": [
      "\u001b[0;31m---------------------------------------------------------------------------\u001b[0m",
      "\u001b[0;31mKeyboardInterrupt\u001b[0m                         Traceback (most recent call last)",
      "Cell \u001b[0;32mIn[16], line 3\u001b[0m\n\u001b[1;32m      1\u001b[0m hyperparameters \u001b[38;5;241m=\u001b[39m get_default_e3nn_hyperparameters()\n\u001b[1;32m      2\u001b[0m \u001b[38;5;28mprint\u001b[39m(hyperparameters)\n\u001b[0;32m----> 3\u001b[0m best_model, loss_fn \u001b[38;5;241m=\u001b[39m \u001b[43mtrainer\u001b[49m\u001b[43m(\u001b[49m\u001b[43mmodel\u001b[49m\u001b[43m,\u001b[49m\u001b[43mNormalizer\u001b[49m\u001b[43m,\u001b[49m\u001b[38;5;124;43m'\u001b[39;49m\u001b[38;5;124;43me3nn\u001b[39;49m\u001b[38;5;124;43m'\u001b[39;49m\u001b[43m,\u001b[49m\u001b[43mtrain_loader\u001b[49m\u001b[43m,\u001b[49m\u001b[43mtrain_loader\u001b[49m\u001b[43m,\u001b[49m\u001b[43mhyperparameters\u001b[49m\u001b[43m,\u001b[49m\u001b[38;5;124;43m\"\u001b[39;49m\u001b[38;5;124;43msaved_models/e3nn/Scrap\u001b[39;49m\u001b[38;5;124;43m\"\u001b[39;49m\u001b[43m,\u001b[49m\u001b[38;5;241;43m0\u001b[39;49m\u001b[43m)\u001b[49m\n",
      "File \u001b[0;32m~/perovskites/ML_Ordering_Github/PerovskiteOrderingGCNNs/training/model_training/trainer.py:20\u001b[0m, in \u001b[0;36mtrainer\u001b[0;34m(model, normalizer, model_type, train_loader, val_loader, hyperparameters, OUTDIR, gpu_num)\u001b[0m\n\u001b[1;32m     18\u001b[0m     best_model \u001b[38;5;241m=\u001b[39m train_painn(model,train_loader,val_loader,hyperparameters,OUTDIR,gpu_num)\n\u001b[1;32m     19\u001b[0m \u001b[38;5;28;01melse\u001b[39;00m:\n\u001b[0;32m---> 20\u001b[0m     best_model \u001b[38;5;241m=\u001b[39m \u001b[43mtrain_CGCNN_e3nn\u001b[49m\u001b[43m(\u001b[49m\u001b[43mmodel\u001b[49m\u001b[43m,\u001b[49m\u001b[43mnormalizer\u001b[49m\u001b[43m,\u001b[49m\u001b[43mmodel_type\u001b[49m\u001b[43m,\u001b[49m\u001b[43mloss_fn\u001b[49m\u001b[43m,\u001b[49m\u001b[43mtrain_loader\u001b[49m\u001b[43m,\u001b[49m\u001b[43mval_loader\u001b[49m\u001b[43m,\u001b[49m\u001b[43mhyperparameters\u001b[49m\u001b[43m,\u001b[49m\u001b[43mOUTDIR\u001b[49m\u001b[43m,\u001b[49m\u001b[43mgpu_num\u001b[49m\u001b[43m)\u001b[49m\n\u001b[1;32m     22\u001b[0m \u001b[38;5;28;01mreturn\u001b[39;00m best_model, loss_fn\n",
      "File \u001b[0;32m~/perovskites/ML_Ordering_Github/PerovskiteOrderingGCNNs/training/model_training/trainer.py:113\u001b[0m, in \u001b[0;36mtrain_CGCNN_e3nn\u001b[0;34m(model, normalizer, model_type, loss_fn, train_loader, val_loader, hyperparameters, OUTDIR, gpu_num)\u001b[0m\n\u001b[1;32m    111\u001b[0m \u001b[38;5;28;01melse\u001b[39;00m:\n\u001b[1;32m    112\u001b[0m     d\u001b[38;5;241m.\u001b[39mto(device)\n\u001b[0;32m--> 113\u001b[0m     output \u001b[38;5;241m=\u001b[39m \u001b[43mmodel\u001b[49m\u001b[43m(\u001b[49m\u001b[43md\u001b[49m\u001b[43m)\u001b[49m\n\u001b[1;32m    116\u001b[0m \u001b[38;5;28;01mif\u001b[39;00m model_type \u001b[38;5;241m==\u001b[39m \u001b[38;5;124m\"\u001b[39m\u001b[38;5;124mCGCNN\u001b[39m\u001b[38;5;124m\"\u001b[39m:\n\u001b[1;32m    117\u001b[0m     loss \u001b[38;5;241m=\u001b[39m loss_fn(normalizer\u001b[38;5;241m.\u001b[39mdenorm(output), target)\n",
      "File \u001b[0;32m~/miniconda3/envs/Perovskite_ML_Environment/lib/python3.10/site-packages/torch/nn/modules/module.py:1194\u001b[0m, in \u001b[0;36mModule._call_impl\u001b[0;34m(self, *input, **kwargs)\u001b[0m\n\u001b[1;32m   1190\u001b[0m \u001b[38;5;66;03m# If we don't have any hooks, we want to skip the rest of the logic in\u001b[39;00m\n\u001b[1;32m   1191\u001b[0m \u001b[38;5;66;03m# this function, and just call forward.\u001b[39;00m\n\u001b[1;32m   1192\u001b[0m \u001b[38;5;28;01mif\u001b[39;00m \u001b[38;5;129;01mnot\u001b[39;00m (\u001b[38;5;28mself\u001b[39m\u001b[38;5;241m.\u001b[39m_backward_hooks \u001b[38;5;129;01mor\u001b[39;00m \u001b[38;5;28mself\u001b[39m\u001b[38;5;241m.\u001b[39m_forward_hooks \u001b[38;5;129;01mor\u001b[39;00m \u001b[38;5;28mself\u001b[39m\u001b[38;5;241m.\u001b[39m_forward_pre_hooks \u001b[38;5;129;01mor\u001b[39;00m _global_backward_hooks\n\u001b[1;32m   1193\u001b[0m         \u001b[38;5;129;01mor\u001b[39;00m _global_forward_hooks \u001b[38;5;129;01mor\u001b[39;00m _global_forward_pre_hooks):\n\u001b[0;32m-> 1194\u001b[0m     \u001b[38;5;28;01mreturn\u001b[39;00m \u001b[43mforward_call\u001b[49m\u001b[43m(\u001b[49m\u001b[38;5;241;43m*\u001b[39;49m\u001b[38;5;28;43minput\u001b[39;49m\u001b[43m,\u001b[49m\u001b[43m \u001b[49m\u001b[38;5;241;43m*\u001b[39;49m\u001b[38;5;241;43m*\u001b[39;49m\u001b[43mkwargs\u001b[49m\u001b[43m)\u001b[49m\n\u001b[1;32m   1195\u001b[0m \u001b[38;5;66;03m# Do not call functions when jit is used\u001b[39;00m\n\u001b[1;32m   1196\u001b[0m full_backward_hooks, non_full_backward_hooks \u001b[38;5;241m=\u001b[39m [], []\n",
      "File \u001b[0;32m~/perovskites/ML_Ordering_Github/PerovskiteOrderingGCNNs/processing/create_model/create_e3nn_model.py:41\u001b[0m, in \u001b[0;36mPeriodicNetwork.forward\u001b[0;34m(self, data)\u001b[0m\n\u001b[1;32m     39\u001b[0m data\u001b[38;5;241m.\u001b[39mx \u001b[38;5;241m=\u001b[39m F\u001b[38;5;241m.\u001b[39mrelu(\u001b[38;5;28mself\u001b[39m\u001b[38;5;241m.\u001b[39mem(data\u001b[38;5;241m.\u001b[39mx))\n\u001b[1;32m     40\u001b[0m data\u001b[38;5;241m.\u001b[39mz \u001b[38;5;241m=\u001b[39m F\u001b[38;5;241m.\u001b[39mrelu(\u001b[38;5;28mself\u001b[39m\u001b[38;5;241m.\u001b[39mem(data\u001b[38;5;241m.\u001b[39mz))\n\u001b[0;32m---> 41\u001b[0m atom_fea \u001b[38;5;241m=\u001b[39m torch\u001b[38;5;241m.\u001b[39mnn\u001b[38;5;241m.\u001b[39mfunctional\u001b[38;5;241m.\u001b[39mrelu(\u001b[38;5;28;43msuper\u001b[39;49m\u001b[43m(\u001b[49m\u001b[43m)\u001b[49m\u001b[38;5;241;43m.\u001b[39;49m\u001b[43mforward\u001b[49m\u001b[43m(\u001b[49m\u001b[43mdata\u001b[49m\u001b[43m)\u001b[49m)\n\u001b[1;32m     42\u001b[0m \u001b[38;5;66;03m#assert self.pool == True\u001b[39;00m\n\u001b[1;32m     43\u001b[0m crys_fea \u001b[38;5;241m=\u001b[39m torch_scatter\u001b[38;5;241m.\u001b[39mscatter_mean(atom_fea, data\u001b[38;5;241m.\u001b[39mbatch, dim\u001b[38;5;241m=\u001b[39m\u001b[38;5;241m0\u001b[39m)       \n",
      "File \u001b[0;32m~/perovskites/ML_Ordering_Github/PerovskiteOrderingGCNNs/models/PerovskiteOrderingGCNNs_e3nn/utils/utils_model.py:228\u001b[0m, in \u001b[0;36mNetwork.forward\u001b[0;34m(self, data)\u001b[0m\n\u001b[1;32m    225\u001b[0m     z \u001b[38;5;241m=\u001b[39m data[\u001b[38;5;124m'\u001b[39m\u001b[38;5;124mpos\u001b[39m\u001b[38;5;124m'\u001b[39m]\u001b[38;5;241m.\u001b[39mnew_ones((data[\u001b[38;5;124m'\u001b[39m\u001b[38;5;124mpos\u001b[39m\u001b[38;5;124m'\u001b[39m]\u001b[38;5;241m.\u001b[39mshape[\u001b[38;5;241m0\u001b[39m], \u001b[38;5;241m1\u001b[39m))\n\u001b[1;32m    227\u001b[0m \u001b[38;5;28;01mfor\u001b[39;00m lay \u001b[38;5;129;01min\u001b[39;00m \u001b[38;5;28mself\u001b[39m\u001b[38;5;241m.\u001b[39mlayers:\n\u001b[0;32m--> 228\u001b[0m     x \u001b[38;5;241m=\u001b[39m \u001b[43mlay\u001b[49m\u001b[43m(\u001b[49m\u001b[43mx\u001b[49m\u001b[43m,\u001b[49m\u001b[43m \u001b[49m\u001b[43mz\u001b[49m\u001b[43m,\u001b[49m\u001b[43m \u001b[49m\u001b[43medge_src\u001b[49m\u001b[43m,\u001b[49m\u001b[43m \u001b[49m\u001b[43medge_dst\u001b[49m\u001b[43m,\u001b[49m\u001b[43m \u001b[49m\u001b[43medge_attr\u001b[49m\u001b[43m,\u001b[49m\u001b[43m \u001b[49m\u001b[43medge_length_embedded\u001b[49m\u001b[43m)\u001b[49m\n\u001b[1;32m    230\u001b[0m \u001b[38;5;28;01mif\u001b[39;00m \u001b[38;5;28mself\u001b[39m\u001b[38;5;241m.\u001b[39mreduce_output:\n\u001b[1;32m    231\u001b[0m     \u001b[38;5;28;01mreturn\u001b[39;00m scatter(x, batch, dim\u001b[38;5;241m=\u001b[39m\u001b[38;5;241m0\u001b[39m)\u001b[38;5;241m.\u001b[39mdiv(\u001b[38;5;28mself\u001b[39m\u001b[38;5;241m.\u001b[39mnum_nodes\u001b[38;5;241m*\u001b[39m\u001b[38;5;241m*\u001b[39m\u001b[38;5;241m0.5\u001b[39m)\n",
      "File \u001b[0;32m~/miniconda3/envs/Perovskite_ML_Environment/lib/python3.10/site-packages/torch/nn/modules/module.py:1194\u001b[0m, in \u001b[0;36mModule._call_impl\u001b[0;34m(self, *input, **kwargs)\u001b[0m\n\u001b[1;32m   1190\u001b[0m \u001b[38;5;66;03m# If we don't have any hooks, we want to skip the rest of the logic in\u001b[39;00m\n\u001b[1;32m   1191\u001b[0m \u001b[38;5;66;03m# this function, and just call forward.\u001b[39;00m\n\u001b[1;32m   1192\u001b[0m \u001b[38;5;28;01mif\u001b[39;00m \u001b[38;5;129;01mnot\u001b[39;00m (\u001b[38;5;28mself\u001b[39m\u001b[38;5;241m.\u001b[39m_backward_hooks \u001b[38;5;129;01mor\u001b[39;00m \u001b[38;5;28mself\u001b[39m\u001b[38;5;241m.\u001b[39m_forward_hooks \u001b[38;5;129;01mor\u001b[39;00m \u001b[38;5;28mself\u001b[39m\u001b[38;5;241m.\u001b[39m_forward_pre_hooks \u001b[38;5;129;01mor\u001b[39;00m _global_backward_hooks\n\u001b[1;32m   1193\u001b[0m         \u001b[38;5;129;01mor\u001b[39;00m _global_forward_hooks \u001b[38;5;129;01mor\u001b[39;00m _global_forward_pre_hooks):\n\u001b[0;32m-> 1194\u001b[0m     \u001b[38;5;28;01mreturn\u001b[39;00m \u001b[43mforward_call\u001b[49m\u001b[43m(\u001b[49m\u001b[38;5;241;43m*\u001b[39;49m\u001b[38;5;28;43minput\u001b[39;49m\u001b[43m,\u001b[49m\u001b[43m \u001b[49m\u001b[38;5;241;43m*\u001b[39;49m\u001b[38;5;241;43m*\u001b[39;49m\u001b[43mkwargs\u001b[49m\u001b[43m)\u001b[49m\n\u001b[1;32m   1195\u001b[0m \u001b[38;5;66;03m# Do not call functions when jit is used\u001b[39;00m\n\u001b[1;32m   1196\u001b[0m full_backward_hooks, non_full_backward_hooks \u001b[38;5;241m=\u001b[39m [], []\n",
      "File \u001b[0;32m~/perovskites/ML_Ordering_Github/PerovskiteOrderingGCNNs/models/PerovskiteOrderingGCNNs_e3nn/utils/utils_model.py:46\u001b[0m, in \u001b[0;36mCustomCompose.forward\u001b[0;34m(self, *input)\u001b[0m\n\u001b[1;32m     45\u001b[0m \u001b[38;5;28;01mdef\u001b[39;00m \u001b[38;5;21mforward\u001b[39m(\u001b[38;5;28mself\u001b[39m, \u001b[38;5;241m*\u001b[39m\u001b[38;5;28minput\u001b[39m):\n\u001b[0;32m---> 46\u001b[0m     x \u001b[38;5;241m=\u001b[39m \u001b[38;5;28;43mself\u001b[39;49m\u001b[38;5;241;43m.\u001b[39;49m\u001b[43mfirst\u001b[49m\u001b[43m(\u001b[49m\u001b[38;5;241;43m*\u001b[39;49m\u001b[38;5;28;43minput\u001b[39;49m\u001b[43m)\u001b[49m\n\u001b[1;32m     47\u001b[0m     \u001b[38;5;28mself\u001b[39m\u001b[38;5;241m.\u001b[39mfirst_out \u001b[38;5;241m=\u001b[39m x\u001b[38;5;241m.\u001b[39mclone()\n\u001b[1;32m     48\u001b[0m     x \u001b[38;5;241m=\u001b[39m \u001b[38;5;28mself\u001b[39m\u001b[38;5;241m.\u001b[39msecond(x)\n",
      "File \u001b[0;32m~/miniconda3/envs/Perovskite_ML_Environment/lib/python3.10/site-packages/torch/nn/modules/module.py:1194\u001b[0m, in \u001b[0;36mModule._call_impl\u001b[0;34m(self, *input, **kwargs)\u001b[0m\n\u001b[1;32m   1190\u001b[0m \u001b[38;5;66;03m# If we don't have any hooks, we want to skip the rest of the logic in\u001b[39;00m\n\u001b[1;32m   1191\u001b[0m \u001b[38;5;66;03m# this function, and just call forward.\u001b[39;00m\n\u001b[1;32m   1192\u001b[0m \u001b[38;5;28;01mif\u001b[39;00m \u001b[38;5;129;01mnot\u001b[39;00m (\u001b[38;5;28mself\u001b[39m\u001b[38;5;241m.\u001b[39m_backward_hooks \u001b[38;5;129;01mor\u001b[39;00m \u001b[38;5;28mself\u001b[39m\u001b[38;5;241m.\u001b[39m_forward_hooks \u001b[38;5;129;01mor\u001b[39;00m \u001b[38;5;28mself\u001b[39m\u001b[38;5;241m.\u001b[39m_forward_pre_hooks \u001b[38;5;129;01mor\u001b[39;00m _global_backward_hooks\n\u001b[1;32m   1193\u001b[0m         \u001b[38;5;129;01mor\u001b[39;00m _global_forward_hooks \u001b[38;5;129;01mor\u001b[39;00m _global_forward_pre_hooks):\n\u001b[0;32m-> 1194\u001b[0m     \u001b[38;5;28;01mreturn\u001b[39;00m \u001b[43mforward_call\u001b[49m\u001b[43m(\u001b[49m\u001b[38;5;241;43m*\u001b[39;49m\u001b[38;5;28;43minput\u001b[39;49m\u001b[43m,\u001b[49m\u001b[43m \u001b[49m\u001b[38;5;241;43m*\u001b[39;49m\u001b[38;5;241;43m*\u001b[39;49m\u001b[43mkwargs\u001b[49m\u001b[43m)\u001b[49m\n\u001b[1;32m   1195\u001b[0m \u001b[38;5;66;03m# Do not call functions when jit is used\u001b[39;00m\n\u001b[1;32m   1196\u001b[0m full_backward_hooks, non_full_backward_hooks \u001b[38;5;241m=\u001b[39m [], []\n",
      "File \u001b[0;32m~/miniconda3/envs/Perovskite_ML_Environment/lib/python3.10/site-packages/e3nn/nn/models/gate_points_2101.py:105\u001b[0m, in \u001b[0;36mConvolution.forward\u001b[0;34m(self, node_input, node_attr, edge_src, edge_dst, edge_attr, edge_length_embedded)\u001b[0m\n\u001b[1;32m    104\u001b[0m \u001b[38;5;28;01mdef\u001b[39;00m \u001b[38;5;21mforward\u001b[39m(\u001b[38;5;28mself\u001b[39m, node_input, node_attr, edge_src, edge_dst, edge_attr, edge_length_embedded) \u001b[38;5;241m-\u001b[39m\u001b[38;5;241m>\u001b[39m torch\u001b[38;5;241m.\u001b[39mTensor:\n\u001b[0;32m--> 105\u001b[0m     weight \u001b[38;5;241m=\u001b[39m \u001b[38;5;28;43mself\u001b[39;49m\u001b[38;5;241;43m.\u001b[39;49m\u001b[43mfc\u001b[49m\u001b[43m(\u001b[49m\u001b[43medge_length_embedded\u001b[49m\u001b[43m)\u001b[49m\n\u001b[1;32m    107\u001b[0m     x \u001b[38;5;241m=\u001b[39m node_input\n\u001b[1;32m    109\u001b[0m     s \u001b[38;5;241m=\u001b[39m \u001b[38;5;28mself\u001b[39m\u001b[38;5;241m.\u001b[39msc(x, node_attr)\n",
      "File \u001b[0;32m~/miniconda3/envs/Perovskite_ML_Environment/lib/python3.10/site-packages/torch/nn/modules/module.py:1194\u001b[0m, in \u001b[0;36mModule._call_impl\u001b[0;34m(self, *input, **kwargs)\u001b[0m\n\u001b[1;32m   1190\u001b[0m \u001b[38;5;66;03m# If we don't have any hooks, we want to skip the rest of the logic in\u001b[39;00m\n\u001b[1;32m   1191\u001b[0m \u001b[38;5;66;03m# this function, and just call forward.\u001b[39;00m\n\u001b[1;32m   1192\u001b[0m \u001b[38;5;28;01mif\u001b[39;00m \u001b[38;5;129;01mnot\u001b[39;00m (\u001b[38;5;28mself\u001b[39m\u001b[38;5;241m.\u001b[39m_backward_hooks \u001b[38;5;129;01mor\u001b[39;00m \u001b[38;5;28mself\u001b[39m\u001b[38;5;241m.\u001b[39m_forward_hooks \u001b[38;5;129;01mor\u001b[39;00m \u001b[38;5;28mself\u001b[39m\u001b[38;5;241m.\u001b[39m_forward_pre_hooks \u001b[38;5;129;01mor\u001b[39;00m _global_backward_hooks\n\u001b[1;32m   1193\u001b[0m         \u001b[38;5;129;01mor\u001b[39;00m _global_forward_hooks \u001b[38;5;129;01mor\u001b[39;00m _global_forward_pre_hooks):\n\u001b[0;32m-> 1194\u001b[0m     \u001b[38;5;28;01mreturn\u001b[39;00m \u001b[43mforward_call\u001b[49m\u001b[43m(\u001b[49m\u001b[38;5;241;43m*\u001b[39;49m\u001b[38;5;28;43minput\u001b[39;49m\u001b[43m,\u001b[49m\u001b[43m \u001b[49m\u001b[38;5;241;43m*\u001b[39;49m\u001b[38;5;241;43m*\u001b[39;49m\u001b[43mkwargs\u001b[49m\u001b[43m)\u001b[49m\n\u001b[1;32m   1195\u001b[0m \u001b[38;5;66;03m# Do not call functions when jit is used\u001b[39;00m\n\u001b[1;32m   1196\u001b[0m full_backward_hooks, non_full_backward_hooks \u001b[38;5;241m=\u001b[39m [], []\n",
      "File \u001b[0;32m~/miniconda3/envs/Perovskite_ML_Environment/lib/python3.10/site-packages/torch/nn/modules/container.py:204\u001b[0m, in \u001b[0;36mSequential.forward\u001b[0;34m(self, input)\u001b[0m\n\u001b[1;32m    202\u001b[0m \u001b[38;5;28;01mdef\u001b[39;00m \u001b[38;5;21mforward\u001b[39m(\u001b[38;5;28mself\u001b[39m, \u001b[38;5;28minput\u001b[39m):\n\u001b[1;32m    203\u001b[0m     \u001b[38;5;28;01mfor\u001b[39;00m module \u001b[38;5;129;01min\u001b[39;00m \u001b[38;5;28mself\u001b[39m:\n\u001b[0;32m--> 204\u001b[0m         \u001b[38;5;28minput\u001b[39m \u001b[38;5;241m=\u001b[39m \u001b[43mmodule\u001b[49m\u001b[43m(\u001b[49m\u001b[38;5;28;43minput\u001b[39;49m\u001b[43m)\u001b[49m\n\u001b[1;32m    205\u001b[0m     \u001b[38;5;28;01mreturn\u001b[39;00m \u001b[38;5;28minput\u001b[39m\n",
      "File \u001b[0;32m~/miniconda3/envs/Perovskite_ML_Environment/lib/python3.10/site-packages/torch/nn/modules/module.py:1194\u001b[0m, in \u001b[0;36mModule._call_impl\u001b[0;34m(self, *input, **kwargs)\u001b[0m\n\u001b[1;32m   1190\u001b[0m \u001b[38;5;66;03m# If we don't have any hooks, we want to skip the rest of the logic in\u001b[39;00m\n\u001b[1;32m   1191\u001b[0m \u001b[38;5;66;03m# this function, and just call forward.\u001b[39;00m\n\u001b[1;32m   1192\u001b[0m \u001b[38;5;28;01mif\u001b[39;00m \u001b[38;5;129;01mnot\u001b[39;00m (\u001b[38;5;28mself\u001b[39m\u001b[38;5;241m.\u001b[39m_backward_hooks \u001b[38;5;129;01mor\u001b[39;00m \u001b[38;5;28mself\u001b[39m\u001b[38;5;241m.\u001b[39m_forward_hooks \u001b[38;5;129;01mor\u001b[39;00m \u001b[38;5;28mself\u001b[39m\u001b[38;5;241m.\u001b[39m_forward_pre_hooks \u001b[38;5;129;01mor\u001b[39;00m _global_backward_hooks\n\u001b[1;32m   1193\u001b[0m         \u001b[38;5;129;01mor\u001b[39;00m _global_forward_hooks \u001b[38;5;129;01mor\u001b[39;00m _global_forward_pre_hooks):\n\u001b[0;32m-> 1194\u001b[0m     \u001b[38;5;28;01mreturn\u001b[39;00m \u001b[43mforward_call\u001b[49m\u001b[43m(\u001b[49m\u001b[38;5;241;43m*\u001b[39;49m\u001b[38;5;28;43minput\u001b[39;49m\u001b[43m,\u001b[49m\u001b[43m \u001b[49m\u001b[38;5;241;43m*\u001b[39;49m\u001b[38;5;241;43m*\u001b[39;49m\u001b[43mkwargs\u001b[49m\u001b[43m)\u001b[49m\n\u001b[1;32m   1195\u001b[0m \u001b[38;5;66;03m# Do not call functions when jit is used\u001b[39;00m\n\u001b[1;32m   1196\u001b[0m full_backward_hooks, non_full_backward_hooks \u001b[38;5;241m=\u001b[39m [], []\n",
      "File \u001b[0;32m~/miniconda3/envs/Perovskite_ML_Environment/lib/python3.10/site-packages/e3nn/nn/_fc.py:43\u001b[0m, in \u001b[0;36m_Layer.forward\u001b[0;34m(self, x)\u001b[0m\n\u001b[1;32m     41\u001b[0m     w \u001b[38;5;241m=\u001b[39m \u001b[38;5;28mself\u001b[39m\u001b[38;5;241m.\u001b[39mweight \u001b[38;5;241m/\u001b[39m (\u001b[38;5;28mself\u001b[39m\u001b[38;5;241m.\u001b[39mh_in \u001b[38;5;241m*\u001b[39m \u001b[38;5;28mself\u001b[39m\u001b[38;5;241m.\u001b[39mvar_in) \u001b[38;5;241m*\u001b[39m\u001b[38;5;241m*\u001b[39m \u001b[38;5;241m0.5\u001b[39m\n\u001b[1;32m     42\u001b[0m     x \u001b[38;5;241m=\u001b[39m x \u001b[38;5;241m@\u001b[39m w\n\u001b[0;32m---> 43\u001b[0m     x \u001b[38;5;241m=\u001b[39m \u001b[38;5;28;43mself\u001b[39;49m\u001b[38;5;241;43m.\u001b[39;49m\u001b[43mact\u001b[49m\u001b[43m(\u001b[49m\u001b[43mx\u001b[49m\u001b[43m)\u001b[49m\n\u001b[1;32m     44\u001b[0m     x \u001b[38;5;241m=\u001b[39m x \u001b[38;5;241m*\u001b[39m \u001b[38;5;28mself\u001b[39m\u001b[38;5;241m.\u001b[39mvar_out\u001b[38;5;241m*\u001b[39m\u001b[38;5;241m*\u001b[39m\u001b[38;5;241m0.5\u001b[39m\n\u001b[1;32m     45\u001b[0m \u001b[38;5;28;01melse\u001b[39;00m:\n",
      "File \u001b[0;32m~/miniconda3/envs/Perovskite_ML_Environment/lib/python3.10/site-packages/torch/nn/modules/module.py:1194\u001b[0m, in \u001b[0;36mModule._call_impl\u001b[0;34m(self, *input, **kwargs)\u001b[0m\n\u001b[1;32m   1190\u001b[0m \u001b[38;5;66;03m# If we don't have any hooks, we want to skip the rest of the logic in\u001b[39;00m\n\u001b[1;32m   1191\u001b[0m \u001b[38;5;66;03m# this function, and just call forward.\u001b[39;00m\n\u001b[1;32m   1192\u001b[0m \u001b[38;5;28;01mif\u001b[39;00m \u001b[38;5;129;01mnot\u001b[39;00m (\u001b[38;5;28mself\u001b[39m\u001b[38;5;241m.\u001b[39m_backward_hooks \u001b[38;5;129;01mor\u001b[39;00m \u001b[38;5;28mself\u001b[39m\u001b[38;5;241m.\u001b[39m_forward_hooks \u001b[38;5;129;01mor\u001b[39;00m \u001b[38;5;28mself\u001b[39m\u001b[38;5;241m.\u001b[39m_forward_pre_hooks \u001b[38;5;129;01mor\u001b[39;00m _global_backward_hooks\n\u001b[1;32m   1193\u001b[0m         \u001b[38;5;129;01mor\u001b[39;00m _global_forward_hooks \u001b[38;5;129;01mor\u001b[39;00m _global_forward_pre_hooks):\n\u001b[0;32m-> 1194\u001b[0m     \u001b[38;5;28;01mreturn\u001b[39;00m \u001b[43mforward_call\u001b[49m\u001b[43m(\u001b[49m\u001b[38;5;241;43m*\u001b[39;49m\u001b[38;5;28;43minput\u001b[39;49m\u001b[43m,\u001b[49m\u001b[43m \u001b[49m\u001b[38;5;241;43m*\u001b[39;49m\u001b[38;5;241;43m*\u001b[39;49m\u001b[43mkwargs\u001b[49m\u001b[43m)\u001b[49m\n\u001b[1;32m   1195\u001b[0m \u001b[38;5;66;03m# Do not call functions when jit is used\u001b[39;00m\n\u001b[1;32m   1196\u001b[0m full_backward_hooks, non_full_backward_hooks \u001b[38;5;241m=\u001b[39m [], []\n",
      "File \u001b[0;32m~/miniconda3/envs/Perovskite_ML_Environment/lib/python3.10/site-packages/e3nn/math/_normalize_activation.py:55\u001b[0m, in \u001b[0;36mnormalize2mom.forward\u001b[0;34m(self, x)\u001b[0m\n\u001b[1;32m     53\u001b[0m     \u001b[38;5;28;01mreturn\u001b[39;00m \u001b[38;5;28mself\u001b[39m\u001b[38;5;241m.\u001b[39mf(x)\n\u001b[1;32m     54\u001b[0m \u001b[38;5;28;01melse\u001b[39;00m:\n\u001b[0;32m---> 55\u001b[0m     \u001b[38;5;28;01mreturn\u001b[39;00m \u001b[38;5;28;43mself\u001b[39;49m\u001b[38;5;241;43m.\u001b[39;49m\u001b[43mf\u001b[49m\u001b[43m(\u001b[49m\u001b[43mx\u001b[49m\u001b[43m)\u001b[49m\u001b[38;5;241m.\u001b[39mmul(\u001b[38;5;28mself\u001b[39m\u001b[38;5;241m.\u001b[39mcst)\n",
      "File \u001b[0;32m~/miniconda3/envs/Perovskite_ML_Environment/lib/python3.10/site-packages/torch/nn/functional.py:2059\u001b[0m, in \u001b[0;36msilu\u001b[0;34m(input, inplace)\u001b[0m\n\u001b[1;32m   2057\u001b[0m \u001b[38;5;28;01mif\u001b[39;00m inplace:\n\u001b[1;32m   2058\u001b[0m     \u001b[38;5;28;01mreturn\u001b[39;00m torch\u001b[38;5;241m.\u001b[39m_C\u001b[38;5;241m.\u001b[39m_nn\u001b[38;5;241m.\u001b[39msilu_(\u001b[38;5;28minput\u001b[39m)\n\u001b[0;32m-> 2059\u001b[0m \u001b[38;5;28;01mreturn\u001b[39;00m \u001b[43mtorch\u001b[49m\u001b[38;5;241;43m.\u001b[39;49m\u001b[43m_C\u001b[49m\u001b[38;5;241;43m.\u001b[39;49m\u001b[43m_nn\u001b[49m\u001b[38;5;241;43m.\u001b[39;49m\u001b[43msilu\u001b[49m\u001b[43m(\u001b[49m\u001b[38;5;28;43minput\u001b[39;49m\u001b[43m)\u001b[49m\n",
      "\u001b[0;31mKeyboardInterrupt\u001b[0m: "
     ]
    }
   ],
   "source": [
    "hyperparameters = get_default_e3nn_hyperparameters()\n",
    "print(hyperparameters)\n",
    "best_model, loss_fn = trainer(model,Normalizer,'e3nn',train_loader,train_loader,hyperparameters,\"saved_models/e3nn/Scrap\",0)"
   ]
  },
  {
   "cell_type": "code",
   "execution_count": 11,
   "id": "300725c6",
   "metadata": {},
   "outputs": [
    {
     "name": "stderr",
     "output_type": "stream",
     "text": [
      "100%|██████████| 1000/1000 [00:00<00:00, 3402.82it/s]\n",
      "/home/jkdamewo/miniconda3/envs/Perovskite_ML_Environment/lib/python3.10/site-packages/torch/jit/_check.py:181: UserWarning: The TorchScript type system doesn't support instance-level annotations on empty non-base types in `__init__`. Instead, either 1) use a type annotation in the class body, or 2) wrap the type in `torch.jit.Attribute`.\n",
      "  warnings.warn(\"The TorchScript type system doesn't support \"\n"
     ]
    }
   ],
   "source": [
    "train_loader = get_dataloader(data_unrelaxed,\"dft_e_hull\",\"e3nn_contrastive\",1)\n",
    "model, Normalizer = create_model(\"e3nn_contrastive\",train_loader)"
   ]
  },
  {
   "cell_type": "code",
   "execution_count": 12,
   "id": "defa8607",
   "metadata": {},
   "outputs": [
    {
     "name": "stdout",
     "output_type": "stream",
     "text": [
      "{'MaxEpochs': 100, 'log_lr': -3, 'reduceLR_patience': 10, 'len_embedding_feature_vector': 64, 'num_hidden_feature': 128, 'num_hidden_layer': 2, 'multiplicity_irreps': 32, 'num_conv': 3, 'num_radical_basis': 10, 'num_radial_neurons': 100}\n"
     ]
    },
    {
     "name": "stderr",
     "output_type": "stream",
     "text": [
      "100%|██████████| 245/245 [00:22<00:00, 10.75it/s]\n"
     ]
    },
    {
     "name": "stdout",
     "output_type": "stream",
     "text": [
      "   1 ,lr = 0.00100000  train loss = 0.08280612  train direct = 14.09573240  train contrastive = 5.71330795  val loss = 0.08280612  val direct = 14.09573240  val contrastive = 5.71330795  time = 00:00:22\n"
     ]
    },
    {
     "name": "stderr",
     "output_type": "stream",
     "text": [
      "100%|██████████| 245/245 [00:19<00:00, 12.54it/s]\n"
     ]
    },
    {
     "name": "stdout",
     "output_type": "stream",
     "text": [
      "   2 ,lr = 0.00100000  train loss = 0.07947576  train direct = 13.29255131  train contrastive = 5.71307829  val loss = 0.07947576  val direct = 13.29255131  val contrastive = 5.71307829  time = 00:00:19\n"
     ]
    },
    {
     "name": "stderr",
     "output_type": "stream",
     "text": [
      "100%|██████████| 245/245 [00:19<00:00, 12.46it/s]\n"
     ]
    },
    {
     "name": "stdout",
     "output_type": "stream",
     "text": [
      "   3 ,lr = 0.00100000  train loss = 0.06585964  train direct = 10.13405543  train contrastive = 5.51381094  val loss = 0.06585964  val direct = 10.13405543  val contrastive = 5.51381094  time = 00:00:19\n"
     ]
    },
    {
     "name": "stderr",
     "output_type": "stream",
     "text": [
      "100%|██████████| 245/245 [00:19<00:00, 12.52it/s]\n"
     ]
    },
    {
     "name": "stdout",
     "output_type": "stream",
     "text": [
      "   4 ,lr = 0.00100000  train loss = 0.06861314  train direct = 10.88789212  train contrastive = 5.55655416  val loss = 0.06861314  val direct = 10.88789212  val contrastive = 5.55655416  time = 00:00:19\n"
     ]
    },
    {
     "name": "stderr",
     "output_type": "stream",
     "text": [
      "100%|██████████| 245/245 [00:19<00:00, 12.48it/s]\n"
     ]
    },
    {
     "name": "stdout",
     "output_type": "stream",
     "text": [
      "   5 ,lr = 0.00100000  train loss = 0.06288909  train direct = 9.44965070  train contrastive = 5.50209105  val loss = 0.06288909  val direct = 9.44965070  val contrastive = 5.50209105  time = 00:00:19\n"
     ]
    },
    {
     "name": "stderr",
     "output_type": "stream",
     "text": [
      "100%|██████████| 245/245 [00:19<00:00, 12.42it/s]\n"
     ]
    },
    {
     "name": "stdout",
     "output_type": "stream",
     "text": [
      "   6 ,lr = 0.00100000  train loss = 0.05792465  train direct = 8.25394678  train contrastive = 5.41435978  val loss = 0.05792465  val direct = 8.25394678  val contrastive = 5.41435978  time = 00:00:19\n"
     ]
    },
    {
     "name": "stderr",
     "output_type": "stream",
     "text": [
      "100%|██████████| 245/245 [00:19<00:00, 12.35it/s]\n"
     ]
    },
    {
     "name": "stdout",
     "output_type": "stream",
     "text": [
      "   7 ,lr = 0.00100000  train loss = 0.05801636  train direct = 8.38694299  train contrastive = 5.33778015  val loss = 0.05801636  val direct = 8.38694299  val contrastive = 5.33778015  time = 00:00:19\n"
     ]
    },
    {
     "name": "stderr",
     "output_type": "stream",
     "text": [
      "100%|██████████| 245/245 [00:19<00:00, 12.43it/s]\n"
     ]
    },
    {
     "name": "stdout",
     "output_type": "stream",
     "text": [
      "   8 ,lr = 0.00100000  train loss = 0.05586923  train direct = 8.17844234  train contrastive = 5.23918679  val loss = 0.05586923  val direct = 8.17844234  val contrastive = 5.23918679  time = 00:00:19\n"
     ]
    },
    {
     "name": "stderr",
     "output_type": "stream",
     "text": [
      "100%|██████████| 245/245 [00:19<00:00, 12.48it/s]\n"
     ]
    },
    {
     "name": "stdout",
     "output_type": "stream",
     "text": [
      "   9 ,lr = 0.00100000  train loss = 0.05380151  train direct = 7.65722903  train contrastive = 5.05832488  val loss = 0.05380151  val direct = 7.65722903  val contrastive = 5.05832488  time = 00:00:19\n"
     ]
    },
    {
     "name": "stderr",
     "output_type": "stream",
     "text": [
      "100%|██████████| 245/245 [00:20<00:00, 12.02it/s]\n"
     ]
    },
    {
     "name": "stdout",
     "output_type": "stream",
     "text": [
      "  10 ,lr = 0.00100000  train loss = 0.05265664  train direct = 7.46027297  train contrastive = 5.02015556  val loss = 0.05265664  val direct = 7.46027297  val contrastive = 5.02015556  time = 00:00:20\n"
     ]
    },
    {
     "name": "stderr",
     "output_type": "stream",
     "text": [
      "100%|██████████| 245/245 [00:19<00:00, 12.39it/s]\n"
     ]
    },
    {
     "name": "stdout",
     "output_type": "stream",
     "text": [
      "  11 ,lr = 0.00100000  train loss = 0.05243127  train direct = 7.50087165  train contrastive = 4.96939985  val loss = 0.05243127  val direct = 7.50087165  val contrastive = 4.96939985  time = 00:00:19\n"
     ]
    },
    {
     "name": "stderr",
     "output_type": "stream",
     "text": [
      "100%|██████████| 245/245 [00:19<00:00, 12.40it/s]\n"
     ]
    },
    {
     "name": "stdout",
     "output_type": "stream",
     "text": [
      "  12 ,lr = 0.00100000  train loss = 0.05383961  train direct = 7.82248008  train contrastive = 4.96031333  val loss = 0.05383961  val direct = 7.82248008  val contrastive = 4.96031333  time = 00:00:19\n"
     ]
    },
    {
     "name": "stderr",
     "output_type": "stream",
     "text": [
      "100%|██████████| 245/245 [00:19<00:00, 12.40it/s]\n"
     ]
    },
    {
     "name": "stdout",
     "output_type": "stream",
     "text": [
      "  13 ,lr = 0.00100000  train loss = 0.04986666  train direct = 6.88016250  train contrastive = 4.87357895  val loss = 0.04986666  val direct = 6.88016250  val contrastive = 4.87357895  time = 00:00:19\n"
     ]
    },
    {
     "name": "stderr",
     "output_type": "stream",
     "text": [
      "100%|██████████| 245/245 [00:19<00:00, 12.34it/s]\n"
     ]
    },
    {
     "name": "stdout",
     "output_type": "stream",
     "text": [
      "  14 ,lr = 0.00100000  train loss = 0.05819354  train direct = 8.97447795  train contrastive = 4.91835506  val loss = 0.05819354  val direct = 8.97447795  val contrastive = 4.91835506  time = 00:00:19\n"
     ]
    },
    {
     "name": "stderr",
     "output_type": "stream",
     "text": [
      "100%|██████████| 245/245 [00:19<00:00, 12.45it/s]\n"
     ]
    },
    {
     "name": "stdout",
     "output_type": "stream",
     "text": [
      "  15 ,lr = 0.00100000  train loss = 0.04868155  train direct = 6.65114205  train contrastive = 4.79544613  val loss = 0.04868155  val direct = 6.65114205  val contrastive = 4.79544613  time = 00:00:19\n"
     ]
    },
    {
     "name": "stderr",
     "output_type": "stream",
     "text": [
      "100%|██████████| 245/245 [00:19<00:00, 12.35it/s]\n"
     ]
    },
    {
     "name": "stdout",
     "output_type": "stream",
     "text": [
      "  16 ,lr = 0.00100000  train loss = 0.05074150  train direct = 7.21516263  train contrastive = 4.73276732  val loss = 0.05074150  val direct = 7.21516263  val contrastive = 4.73276732  time = 00:00:19\n"
     ]
    },
    {
     "name": "stderr",
     "output_type": "stream",
     "text": [
      "100%|██████████| 245/245 [00:19<00:00, 12.45it/s]\n"
     ]
    },
    {
     "ename": "KeyboardInterrupt",
     "evalue": "",
     "output_type": "error",
     "traceback": [
      "\u001b[0;31m---------------------------------------------------------------------------\u001b[0m",
      "\u001b[0;31mKeyboardInterrupt\u001b[0m                         Traceback (most recent call last)",
      "Cell \u001b[0;32mIn[12], line 3\u001b[0m\n\u001b[1;32m      1\u001b[0m hyperparameters \u001b[38;5;241m=\u001b[39m get_default_e3nn_hyperparameters()\n\u001b[1;32m      2\u001b[0m \u001b[38;5;28mprint\u001b[39m(hyperparameters)\n\u001b[0;32m----> 3\u001b[0m best_model, loss_fn \u001b[38;5;241m=\u001b[39m \u001b[43mtrainer\u001b[49m\u001b[43m(\u001b[49m\u001b[43mmodel\u001b[49m\u001b[43m,\u001b[49m\u001b[43mNormalizer\u001b[49m\u001b[43m,\u001b[49m\u001b[38;5;124;43m'\u001b[39;49m\u001b[38;5;124;43me3nn_contrastive\u001b[39;49m\u001b[38;5;124;43m'\u001b[39;49m\u001b[43m,\u001b[49m\u001b[43mtrain_loader\u001b[49m\u001b[43m,\u001b[49m\u001b[43mtrain_loader\u001b[49m\u001b[43m,\u001b[49m\u001b[43mhyperparameters\u001b[49m\u001b[43m,\u001b[49m\u001b[38;5;124;43m\"\u001b[39;49m\u001b[38;5;124;43msaved_models/e3nn_contrastive/Scrap\u001b[39;49m\u001b[38;5;124;43m\"\u001b[39;49m\u001b[43m,\u001b[49m\u001b[38;5;241;43m0\u001b[39;49m\u001b[43m)\u001b[49m\n",
      "File \u001b[0;32m~/perovskites/ML_Ordering_Github/PerovskiteOrderingGCNNs/training/model_training/trainer.py:20\u001b[0m, in \u001b[0;36mtrainer\u001b[0;34m(model, normalizer, model_type, train_loader, val_loader, hyperparameters, OUTDIR, gpu_num)\u001b[0m\n\u001b[1;32m     18\u001b[0m     best_model \u001b[38;5;241m=\u001b[39m train_painn(model,train_loader,val_loader,hyperparameters,OUTDIR,gpu_num)\n\u001b[1;32m     19\u001b[0m \u001b[38;5;28;01melse\u001b[39;00m:\n\u001b[0;32m---> 20\u001b[0m     best_model \u001b[38;5;241m=\u001b[39m \u001b[43mtrain_CGCNN_e3nn\u001b[49m\u001b[43m(\u001b[49m\u001b[43mmodel\u001b[49m\u001b[43m,\u001b[49m\u001b[43mnormalizer\u001b[49m\u001b[43m,\u001b[49m\u001b[43mmodel_type\u001b[49m\u001b[43m,\u001b[49m\u001b[43mloss_fn\u001b[49m\u001b[43m,\u001b[49m\u001b[43mtrain_loader\u001b[49m\u001b[43m,\u001b[49m\u001b[43mval_loader\u001b[49m\u001b[43m,\u001b[49m\u001b[43mhyperparameters\u001b[49m\u001b[43m,\u001b[49m\u001b[43mOUTDIR\u001b[49m\u001b[43m,\u001b[49m\u001b[43mgpu_num\u001b[49m\u001b[43m)\u001b[49m\n\u001b[1;32m     22\u001b[0m \u001b[38;5;28;01mreturn\u001b[39;00m best_model, loss_fn\n",
      "File \u001b[0;32m~/perovskites/ML_Ordering_Github/PerovskiteOrderingGCNNs/training/model_training/trainer.py:132\u001b[0m, in \u001b[0;36mtrain_CGCNN_e3nn\u001b[0;34m(model, normalizer, model_type, loss_fn, train_loader, val_loader, hyperparameters, OUTDIR, gpu_num)\u001b[0m\n\u001b[1;32m    130\u001b[0m model\u001b[38;5;241m.\u001b[39meval()\n\u001b[1;32m    131\u001b[0m predictions, targets, valid_avg_loss \u001b[38;5;241m=\u001b[39m evaluate_model(model, normalizer, model_type, val_loader, loss_fn, gpu_num)\n\u001b[0;32m--> 132\u001b[0m predictions, targets, train_avg_loss \u001b[38;5;241m=\u001b[39m \u001b[43mevaluate_model\u001b[49m\u001b[43m(\u001b[49m\u001b[43mmodel\u001b[49m\u001b[43m,\u001b[49m\u001b[43m \u001b[49m\u001b[43mnormalizer\u001b[49m\u001b[43m,\u001b[49m\u001b[43m \u001b[49m\u001b[43mmodel_type\u001b[49m\u001b[43m,\u001b[49m\u001b[43m \u001b[49m\u001b[43mtrain_loader\u001b[49m\u001b[43m,\u001b[49m\u001b[43m \u001b[49m\u001b[43mloss_fn\u001b[49m\u001b[43m,\u001b[49m\u001b[43m \u001b[49m\u001b[43mgpu_num\u001b[49m\u001b[43m)\u001b[49m\n\u001b[1;32m    134\u001b[0m validation_loss \u001b[38;5;241m=\u001b[39m valid_avg_loss[\u001b[38;5;241m0\u001b[39m]\n\u001b[1;32m    135\u001b[0m results \u001b[38;5;241m=\u001b[39m record_keep(history,results,epoch,wall,optimizer,valid_avg_loss,train_avg_loss,model,model_type)\n",
      "File \u001b[0;32m~/perovskites/ML_Ordering_Github/PerovskiteOrderingGCNNs/training/evaluate.py:32\u001b[0m, in \u001b[0;36mevaluate_model\u001b[0;34m(model, normalizer, model_type, dataloader, loss_fn, gpu_num)\u001b[0m\n\u001b[1;32m     30\u001b[0m     target \u001b[38;5;241m=\u001b[39m Variable(target\u001b[38;5;241m.\u001b[39mcuda(non_blocking\u001b[38;5;241m=\u001b[39m\u001b[38;5;28;01mTrue\u001b[39;00m))\n\u001b[1;32m     31\u001b[0m \u001b[38;5;28;01melse\u001b[39;00m:\n\u001b[0;32m---> 32\u001b[0m     \u001b[43md\u001b[49m\u001b[38;5;241;43m.\u001b[39;49m\u001b[43mto\u001b[49m\u001b[43m(\u001b[49m\u001b[43mdevice\u001b[49m\u001b[43m)\u001b[49m\n\u001b[1;32m     33\u001b[0m     output \u001b[38;5;241m=\u001b[39m model(d)\n\u001b[1;32m     34\u001b[0m     target \u001b[38;5;241m=\u001b[39m d\u001b[38;5;241m.\u001b[39mtarget\n",
      "File \u001b[0;32m~/miniconda3/envs/Perovskite_ML_Environment/lib/python3.10/site-packages/torch_geometric/data/data.py:262\u001b[0m, in \u001b[0;36mBaseData.to\u001b[0;34m(self, device, non_blocking, *args)\u001b[0m\n\u001b[1;32m    258\u001b[0m \u001b[38;5;28;01mdef\u001b[39;00m \u001b[38;5;21mto\u001b[39m(\u001b[38;5;28mself\u001b[39m, device: Union[\u001b[38;5;28mint\u001b[39m, \u001b[38;5;28mstr\u001b[39m], \u001b[38;5;241m*\u001b[39margs: List[\u001b[38;5;28mstr\u001b[39m],\n\u001b[1;32m    259\u001b[0m        non_blocking: \u001b[38;5;28mbool\u001b[39m \u001b[38;5;241m=\u001b[39m \u001b[38;5;28;01mFalse\u001b[39;00m):\n\u001b[1;32m    260\u001b[0m \u001b[38;5;250m    \u001b[39m\u001b[38;5;124mr\u001b[39m\u001b[38;5;124;03m\"\"\"Performs tensor device conversion, either for all attributes or\u001b[39;00m\n\u001b[1;32m    261\u001b[0m \u001b[38;5;124;03m    only the ones given in :obj:`*args`.\"\"\"\u001b[39;00m\n\u001b[0;32m--> 262\u001b[0m     \u001b[38;5;28;01mreturn\u001b[39;00m \u001b[38;5;28;43mself\u001b[39;49m\u001b[38;5;241;43m.\u001b[39;49m\u001b[43mapply\u001b[49m\u001b[43m(\u001b[49m\n\u001b[1;32m    263\u001b[0m \u001b[43m        \u001b[49m\u001b[38;5;28;43;01mlambda\u001b[39;49;00m\u001b[43m \u001b[49m\u001b[43mx\u001b[49m\u001b[43m:\u001b[49m\u001b[43m \u001b[49m\u001b[43mx\u001b[49m\u001b[38;5;241;43m.\u001b[39;49m\u001b[43mto\u001b[49m\u001b[43m(\u001b[49m\u001b[43mdevice\u001b[49m\u001b[38;5;241;43m=\u001b[39;49m\u001b[43mdevice\u001b[49m\u001b[43m,\u001b[49m\u001b[43m \u001b[49m\u001b[43mnon_blocking\u001b[49m\u001b[38;5;241;43m=\u001b[39;49m\u001b[43mnon_blocking\u001b[49m\u001b[43m)\u001b[49m\u001b[43m,\u001b[49m\u001b[43m \u001b[49m\u001b[38;5;241;43m*\u001b[39;49m\u001b[43margs\u001b[49m\u001b[43m)\u001b[49m\n",
      "File \u001b[0;32m~/miniconda3/envs/Perovskite_ML_Environment/lib/python3.10/site-packages/torch_geometric/data/data.py:245\u001b[0m, in \u001b[0;36mBaseData.apply\u001b[0;34m(self, func, *args)\u001b[0m\n\u001b[1;32m    242\u001b[0m \u001b[38;5;250m\u001b[39m\u001b[38;5;124mr\u001b[39m\u001b[38;5;124;03m\"\"\"Applies the function :obj:`func`, either to all attributes or only\u001b[39;00m\n\u001b[1;32m    243\u001b[0m \u001b[38;5;124;03mthe ones given in :obj:`*args`.\"\"\"\u001b[39;00m\n\u001b[1;32m    244\u001b[0m \u001b[38;5;28;01mfor\u001b[39;00m store \u001b[38;5;129;01min\u001b[39;00m \u001b[38;5;28mself\u001b[39m\u001b[38;5;241m.\u001b[39mstores:\n\u001b[0;32m--> 245\u001b[0m     \u001b[43mstore\u001b[49m\u001b[38;5;241;43m.\u001b[39;49m\u001b[43mapply\u001b[49m\u001b[43m(\u001b[49m\u001b[43mfunc\u001b[49m\u001b[43m,\u001b[49m\u001b[43m \u001b[49m\u001b[38;5;241;43m*\u001b[39;49m\u001b[43margs\u001b[49m\u001b[43m)\u001b[49m\n\u001b[1;32m    246\u001b[0m \u001b[38;5;28;01mreturn\u001b[39;00m \u001b[38;5;28mself\u001b[39m\n",
      "File \u001b[0;32m~/miniconda3/envs/Perovskite_ML_Environment/lib/python3.10/site-packages/torch_geometric/data/storage.py:183\u001b[0m, in \u001b[0;36mBaseStorage.apply\u001b[0;34m(self, func, *args)\u001b[0m\n\u001b[1;32m    180\u001b[0m \u001b[38;5;250m\u001b[39m\u001b[38;5;124mr\u001b[39m\u001b[38;5;124;03m\"\"\"Applies the function :obj:`func`, either to all attributes or only\u001b[39;00m\n\u001b[1;32m    181\u001b[0m \u001b[38;5;124;03mthe ones given in :obj:`*args`.\"\"\"\u001b[39;00m\n\u001b[1;32m    182\u001b[0m \u001b[38;5;28;01mfor\u001b[39;00m key, value \u001b[38;5;129;01min\u001b[39;00m \u001b[38;5;28mself\u001b[39m\u001b[38;5;241m.\u001b[39mitems(\u001b[38;5;241m*\u001b[39margs):\n\u001b[0;32m--> 183\u001b[0m     \u001b[38;5;28mself\u001b[39m[key] \u001b[38;5;241m=\u001b[39m \u001b[43mrecursive_apply\u001b[49m\u001b[43m(\u001b[49m\u001b[43mvalue\u001b[49m\u001b[43m,\u001b[49m\u001b[43m \u001b[49m\u001b[43mfunc\u001b[49m\u001b[43m)\u001b[49m\n\u001b[1;32m    184\u001b[0m \u001b[38;5;28;01mreturn\u001b[39;00m \u001b[38;5;28mself\u001b[39m\n",
      "File \u001b[0;32m~/miniconda3/envs/Perovskite_ML_Environment/lib/python3.10/site-packages/torch_geometric/data/storage.py:685\u001b[0m, in \u001b[0;36mrecursive_apply\u001b[0;34m(data, func)\u001b[0m\n\u001b[1;32m    683\u001b[0m     \u001b[38;5;28;01mreturn\u001b[39;00m \u001b[38;5;28mtype\u001b[39m(data)(\u001b[38;5;241m*\u001b[39m(recursive_apply(d, func) \u001b[38;5;28;01mfor\u001b[39;00m d \u001b[38;5;129;01min\u001b[39;00m data))\n\u001b[1;32m    684\u001b[0m \u001b[38;5;28;01melif\u001b[39;00m \u001b[38;5;28misinstance\u001b[39m(data, Sequence) \u001b[38;5;129;01mand\u001b[39;00m \u001b[38;5;129;01mnot\u001b[39;00m \u001b[38;5;28misinstance\u001b[39m(data, \u001b[38;5;28mstr\u001b[39m):\n\u001b[0;32m--> 685\u001b[0m     \u001b[38;5;28;01mreturn\u001b[39;00m [recursive_apply(d, func) \u001b[38;5;28;01mfor\u001b[39;00m d \u001b[38;5;129;01min\u001b[39;00m data]\n\u001b[1;32m    686\u001b[0m \u001b[38;5;28;01melif\u001b[39;00m \u001b[38;5;28misinstance\u001b[39m(data, Mapping):\n\u001b[1;32m    687\u001b[0m     \u001b[38;5;28;01mreturn\u001b[39;00m {key: recursive_apply(data[key], func) \u001b[38;5;28;01mfor\u001b[39;00m key \u001b[38;5;129;01min\u001b[39;00m data}\n",
      "File \u001b[0;32m~/miniconda3/envs/Perovskite_ML_Environment/lib/python3.10/site-packages/torch_geometric/data/storage.py:685\u001b[0m, in \u001b[0;36m<listcomp>\u001b[0;34m(.0)\u001b[0m\n\u001b[1;32m    683\u001b[0m     \u001b[38;5;28;01mreturn\u001b[39;00m \u001b[38;5;28mtype\u001b[39m(data)(\u001b[38;5;241m*\u001b[39m(recursive_apply(d, func) \u001b[38;5;28;01mfor\u001b[39;00m d \u001b[38;5;129;01min\u001b[39;00m data))\n\u001b[1;32m    684\u001b[0m \u001b[38;5;28;01melif\u001b[39;00m \u001b[38;5;28misinstance\u001b[39m(data, Sequence) \u001b[38;5;129;01mand\u001b[39;00m \u001b[38;5;129;01mnot\u001b[39;00m \u001b[38;5;28misinstance\u001b[39m(data, \u001b[38;5;28mstr\u001b[39m):\n\u001b[0;32m--> 685\u001b[0m     \u001b[38;5;28;01mreturn\u001b[39;00m [\u001b[43mrecursive_apply\u001b[49m\u001b[43m(\u001b[49m\u001b[43md\u001b[49m\u001b[43m,\u001b[49m\u001b[43m \u001b[49m\u001b[43mfunc\u001b[49m\u001b[43m)\u001b[49m \u001b[38;5;28;01mfor\u001b[39;00m d \u001b[38;5;129;01min\u001b[39;00m data]\n\u001b[1;32m    686\u001b[0m \u001b[38;5;28;01melif\u001b[39;00m \u001b[38;5;28misinstance\u001b[39m(data, Mapping):\n\u001b[1;32m    687\u001b[0m     \u001b[38;5;28;01mreturn\u001b[39;00m {key: recursive_apply(data[key], func) \u001b[38;5;28;01mfor\u001b[39;00m key \u001b[38;5;129;01min\u001b[39;00m data}\n",
      "File \u001b[0;32m~/miniconda3/envs/Perovskite_ML_Environment/lib/python3.10/site-packages/torch_geometric/data/storage.py:685\u001b[0m, in \u001b[0;36mrecursive_apply\u001b[0;34m(data, func)\u001b[0m\n\u001b[1;32m    683\u001b[0m     \u001b[38;5;28;01mreturn\u001b[39;00m \u001b[38;5;28mtype\u001b[39m(data)(\u001b[38;5;241m*\u001b[39m(recursive_apply(d, func) \u001b[38;5;28;01mfor\u001b[39;00m d \u001b[38;5;129;01min\u001b[39;00m data))\n\u001b[1;32m    684\u001b[0m \u001b[38;5;28;01melif\u001b[39;00m \u001b[38;5;28misinstance\u001b[39m(data, Sequence) \u001b[38;5;129;01mand\u001b[39;00m \u001b[38;5;129;01mnot\u001b[39;00m \u001b[38;5;28misinstance\u001b[39m(data, \u001b[38;5;28mstr\u001b[39m):\n\u001b[0;32m--> 685\u001b[0m     \u001b[38;5;28;01mreturn\u001b[39;00m [recursive_apply(d, func) \u001b[38;5;28;01mfor\u001b[39;00m d \u001b[38;5;129;01min\u001b[39;00m data]\n\u001b[1;32m    686\u001b[0m \u001b[38;5;28;01melif\u001b[39;00m \u001b[38;5;28misinstance\u001b[39m(data, Mapping):\n\u001b[1;32m    687\u001b[0m     \u001b[38;5;28;01mreturn\u001b[39;00m {key: recursive_apply(data[key], func) \u001b[38;5;28;01mfor\u001b[39;00m key \u001b[38;5;129;01min\u001b[39;00m data}\n",
      "File \u001b[0;32m~/miniconda3/envs/Perovskite_ML_Environment/lib/python3.10/site-packages/torch_geometric/data/storage.py:685\u001b[0m, in \u001b[0;36m<listcomp>\u001b[0;34m(.0)\u001b[0m\n\u001b[1;32m    683\u001b[0m     \u001b[38;5;28;01mreturn\u001b[39;00m \u001b[38;5;28mtype\u001b[39m(data)(\u001b[38;5;241m*\u001b[39m(recursive_apply(d, func) \u001b[38;5;28;01mfor\u001b[39;00m d \u001b[38;5;129;01min\u001b[39;00m data))\n\u001b[1;32m    684\u001b[0m \u001b[38;5;28;01melif\u001b[39;00m \u001b[38;5;28misinstance\u001b[39m(data, Sequence) \u001b[38;5;129;01mand\u001b[39;00m \u001b[38;5;129;01mnot\u001b[39;00m \u001b[38;5;28misinstance\u001b[39m(data, \u001b[38;5;28mstr\u001b[39m):\n\u001b[0;32m--> 685\u001b[0m     \u001b[38;5;28;01mreturn\u001b[39;00m [\u001b[43mrecursive_apply\u001b[49m\u001b[43m(\u001b[49m\u001b[43md\u001b[49m\u001b[43m,\u001b[49m\u001b[43m \u001b[49m\u001b[43mfunc\u001b[49m\u001b[43m)\u001b[49m \u001b[38;5;28;01mfor\u001b[39;00m d \u001b[38;5;129;01min\u001b[39;00m data]\n\u001b[1;32m    686\u001b[0m \u001b[38;5;28;01melif\u001b[39;00m \u001b[38;5;28misinstance\u001b[39m(data, Mapping):\n\u001b[1;32m    687\u001b[0m     \u001b[38;5;28;01mreturn\u001b[39;00m {key: recursive_apply(data[key], func) \u001b[38;5;28;01mfor\u001b[39;00m key \u001b[38;5;129;01min\u001b[39;00m data}\n",
      "File \u001b[0;32m~/miniconda3/envs/Perovskite_ML_Environment/lib/python3.10/site-packages/torch_geometric/data/storage.py:684\u001b[0m, in \u001b[0;36mrecursive_apply\u001b[0;34m(data, func)\u001b[0m\n\u001b[1;32m    682\u001b[0m \u001b[38;5;28;01melif\u001b[39;00m \u001b[38;5;28misinstance\u001b[39m(data, \u001b[38;5;28mtuple\u001b[39m) \u001b[38;5;129;01mand\u001b[39;00m \u001b[38;5;28mhasattr\u001b[39m(data, \u001b[38;5;124m'\u001b[39m\u001b[38;5;124m_fields\u001b[39m\u001b[38;5;124m'\u001b[39m):  \u001b[38;5;66;03m# namedtuple\u001b[39;00m\n\u001b[1;32m    683\u001b[0m     \u001b[38;5;28;01mreturn\u001b[39;00m \u001b[38;5;28mtype\u001b[39m(data)(\u001b[38;5;241m*\u001b[39m(recursive_apply(d, func) \u001b[38;5;28;01mfor\u001b[39;00m d \u001b[38;5;129;01min\u001b[39;00m data))\n\u001b[0;32m--> 684\u001b[0m \u001b[38;5;28;01melif\u001b[39;00m \u001b[38;5;28;43misinstance\u001b[39;49m\u001b[43m(\u001b[49m\u001b[43mdata\u001b[49m\u001b[43m,\u001b[49m\u001b[43m \u001b[49m\u001b[43mSequence\u001b[49m\u001b[43m)\u001b[49m \u001b[38;5;129;01mand\u001b[39;00m \u001b[38;5;129;01mnot\u001b[39;00m \u001b[38;5;28misinstance\u001b[39m(data, \u001b[38;5;28mstr\u001b[39m):\n\u001b[1;32m    685\u001b[0m     \u001b[38;5;28;01mreturn\u001b[39;00m [recursive_apply(d, func) \u001b[38;5;28;01mfor\u001b[39;00m d \u001b[38;5;129;01min\u001b[39;00m data]\n\u001b[1;32m    686\u001b[0m \u001b[38;5;28;01melif\u001b[39;00m \u001b[38;5;28misinstance\u001b[39m(data, Mapping):\n",
      "File \u001b[0;32m~/miniconda3/envs/Perovskite_ML_Environment/lib/python3.10/abc.py:119\u001b[0m, in \u001b[0;36mABCMeta.__instancecheck__\u001b[0;34m(cls, instance)\u001b[0m\n\u001b[1;32m    117\u001b[0m \u001b[38;5;28;01mdef\u001b[39;00m \u001b[38;5;21m__instancecheck__\u001b[39m(\u001b[38;5;28mcls\u001b[39m, instance):\n\u001b[1;32m    118\u001b[0m \u001b[38;5;250m    \u001b[39m\u001b[38;5;124;03m\"\"\"Override for isinstance(instance, cls).\"\"\"\u001b[39;00m\n\u001b[0;32m--> 119\u001b[0m     \u001b[38;5;28;01mreturn\u001b[39;00m \u001b[43m_abc_instancecheck\u001b[49m\u001b[43m(\u001b[49m\u001b[38;5;28;43mcls\u001b[39;49m\u001b[43m,\u001b[49m\u001b[43m \u001b[49m\u001b[43minstance\u001b[49m\u001b[43m)\u001b[49m\n",
      "File \u001b[0;32m~/miniconda3/envs/Perovskite_ML_Environment/lib/python3.10/abc.py:123\u001b[0m, in \u001b[0;36mABCMeta.__subclasscheck__\u001b[0;34m(cls, subclass)\u001b[0m\n\u001b[1;32m    121\u001b[0m \u001b[38;5;28;01mdef\u001b[39;00m \u001b[38;5;21m__subclasscheck__\u001b[39m(\u001b[38;5;28mcls\u001b[39m, subclass):\n\u001b[1;32m    122\u001b[0m \u001b[38;5;250m    \u001b[39m\u001b[38;5;124;03m\"\"\"Override for issubclass(subclass, cls).\"\"\"\u001b[39;00m\n\u001b[0;32m--> 123\u001b[0m     \u001b[38;5;28;01mreturn\u001b[39;00m \u001b[43m_abc_subclasscheck\u001b[49m\u001b[43m(\u001b[49m\u001b[38;5;28;43mcls\u001b[39;49m\u001b[43m,\u001b[49m\u001b[43m \u001b[49m\u001b[43msubclass\u001b[49m\u001b[43m)\u001b[49m\n",
      "\u001b[0;31mKeyboardInterrupt\u001b[0m: "
     ]
    }
   ],
   "source": [
    "hyperparameters = get_default_e3nn_hyperparameters()\n",
    "print(hyperparameters)\n",
    "best_model, loss_fn = trainer(model,Normalizer,'e3nn_contrastive',train_loader,train_loader,hyperparameters,\"saved_models/e3nn_contrastive/Scrap\",0)"
   ]
  },
  {
   "cell_type": "code",
   "execution_count": 30,
   "id": "690da6a1",
   "metadata": {},
   "outputs": [
    {
     "name": "stderr",
     "output_type": "stream",
     "text": [
      "100%|██████████| 62/62 [00:00<00:00, 489.00it/s]"
     ]
    },
    {
     "name": "stdout",
     "output_type": "stream",
     "text": [
      "DataCompBatch(x=[880, 92], edge_index=[2, 44880], pos=[880, 3], lattice=[22, 3, 3], symbol=[22], comp=[22], z=[880, 92], edge_shift=[44880, 3], edge_vec=[44880, 3], edge_len=[22], target=[22, 1], idx=[22, 1], batch=[880], ptr=[23])\n",
      "['La4Mn8O24Sr4', 'La4Mn8O24Sr4', 'La4Mn8O24Sr4', 'La4Mn8O24Sr4', 'La4Mn8O24Sr4', 'Mg5Mn4O24Sr3Ta4', 'Mg5Mn4O24Sr3Ta4', 'Mg5Mn4O24Sr3Ta4', 'Mg5Mn4O24Sr3Ta4', 'Mg5Mn4O24Sr3Ta4', 'Mg5Mn4O24Sr3Ta4', 'Co4Mn4O24Pr8', 'Co4Mn4O24Pr8', 'Co4Mn4O24Pr8', 'Co4Mn4O24Pr8', 'Co4Mn4O24Pr8', 'Co4Fe4La2O24Sr6', 'Co4Fe4La2O24Sr6', 'Co4Fe4La2O24Sr6', 'Co4Fe4La2O24Sr6', 'Co4Fe4La2O24Sr6', 'Co4Fe4La2O24Sr6']\n"
     ]
    },
    {
     "name": "stderr",
     "output_type": "stream",
     "text": [
      "\n"
     ]
    }
   ],
   "source": [
    "#### Looking at contrastive dataloader\n",
    "from tqdm import tqdm\n",
    "\n",
    "batch_num = 7\n",
    "\n",
    "for j, d in tqdm(enumerate(train_loader), total=len(train_loader)):\n",
    "    \n",
    "    if j == 4:\n",
    "        \n",
    "        print(d)\n",
    "        print(d.comp)\n"
   ]
  },
  {
   "cell_type": "code",
   "execution_count": null,
   "id": "98122a2a",
   "metadata": {},
   "outputs": [],
   "source": []
  }
 ],
 "metadata": {
  "kernelspec": {
   "display_name": "Perovskite_ML_Environment",
   "language": "python",
   "name": "python3"
  },
  "language_info": {
   "codemirror_mode": {
    "name": "ipython",
    "version": 3
   },
   "file_extension": ".py",
   "mimetype": "text/x-python",
   "name": "python",
   "nbconvert_exporter": "python",
   "pygments_lexer": "ipython3",
   "version": "3.10.11"
  }
 },
 "nbformat": 4,
 "nbformat_minor": 5
}
