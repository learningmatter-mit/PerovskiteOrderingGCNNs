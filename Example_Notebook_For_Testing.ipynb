{
 "cells": [
  {
   "cell_type": "code",
   "execution_count": 1,
   "id": "3d48e839",
   "metadata": {},
   "outputs": [],
   "source": [
    "import pandas as pd"
   ]
  },
  {
   "cell_type": "code",
   "execution_count": 2,
   "id": "c5fe0a66",
   "metadata": {},
   "outputs": [],
   "source": [
    "training = pd.read_json(\"data/training_set.json\")\n",
    "data = training[:1000]"
   ]
  },
  {
   "cell_type": "code",
   "execution_count": 3,
   "id": "de602efc",
   "metadata": {},
   "outputs": [
    {
     "name": "stderr",
     "output_type": "stream",
     "text": [
      "/home/jkdamewo/miniconda3/envs/Perovskite_ML_Environment/lib/python3.10/site-packages/tqdm/auto.py:21: TqdmWarning: IProgress not found. Please update jupyter and ipywidgets. See https://ipywidgets.readthedocs.io/en/stable/user_install.html\n",
      "  from .autonotebook import tqdm as notebook_tqdm\n"
     ]
    }
   ],
   "source": [
    "from processing.utils import filter_data_by_properties,select_structures"
   ]
  },
  {
   "cell_type": "code",
   "execution_count": 4,
   "id": "c6d5ec5c",
   "metadata": {},
   "outputs": [],
   "source": [
    "data = filter_data_by_properties(data,\"dft_e_hull\")"
   ]
  },
  {
   "cell_type": "code",
   "execution_count": 5,
   "id": "ca459924",
   "metadata": {},
   "outputs": [],
   "source": [
    "data_unrelaxed = select_structures(data,\"unrelaxed\")"
   ]
  },
  {
   "cell_type": "code",
   "execution_count": 6,
   "id": "3364aec9",
   "metadata": {},
   "outputs": [],
   "source": [
    "data_relaxed = select_structures(data,\"relaxed\")"
   ]
  },
  {
   "cell_type": "code",
   "execution_count": 7,
   "id": "12c7584c",
   "metadata": {},
   "outputs": [],
   "source": [
    "from processing.interpolation.Interpolation import *"
   ]
  },
  {
   "cell_type": "code",
   "execution_count": 8,
   "id": "f4f531f1",
   "metadata": {},
   "outputs": [],
   "source": [
    "data_unrelaxed = apply_interpolation(data_unrelaxed,\"dft_e_hull\")"
   ]
  },
  {
   "cell_type": "code",
   "execution_count": 9,
   "id": "c719a77c",
   "metadata": {},
   "outputs": [
    {
     "data": {
      "text/html": [
       "<div>\n",
       "<style scoped>\n",
       "    .dataframe tbody tr th:only-of-type {\n",
       "        vertical-align: middle;\n",
       "    }\n",
       "\n",
       "    .dataframe tbody tr th {\n",
       "        vertical-align: top;\n",
       "    }\n",
       "\n",
       "    .dataframe thead th {\n",
       "        text-align: right;\n",
       "    }\n",
       "</style>\n",
       "<table border=\"1\" class=\"dataframe\">\n",
       "  <thead>\n",
       "    <tr style=\"text-align: right;\">\n",
       "      <th></th>\n",
       "      <th>formula</th>\n",
       "      <th>framework</th>\n",
       "      <th>composition</th>\n",
       "      <th>n_atoms_unrelaxed</th>\n",
       "      <th>n_atoms_opt</th>\n",
       "      <th>unrelaxed_cryst_id</th>\n",
       "      <th>unrelaxed_struct</th>\n",
       "      <th>opt_cryst_id</th>\n",
       "      <th>opt_struct</th>\n",
       "      <th>es_job_id</th>\n",
       "      <th>dft_energy</th>\n",
       "      <th>dft_energy_per_atom</th>\n",
       "      <th>dft_e_hull</th>\n",
       "      <th>structure</th>\n",
       "      <th>dft_e_hull_interp</th>\n",
       "      <th>dft_e_hull_diff</th>\n",
       "    </tr>\n",
       "  </thead>\n",
       "  <tbody>\n",
       "    <tr>\n",
       "      <th>0</th>\n",
       "      <td>Ba1Ca7Fe3Mn5O24</td>\n",
       "      <td>Ba0.125Ca0.875Fe0.375Mn0.625O3</td>\n",
       "      <td>{'sites': {'A': ['Ca', 'Ba'], 'B': ['Mn', 'Fe'...</td>\n",
       "      <td>40</td>\n",
       "      <td>40</td>\n",
       "      <td>222996501</td>\n",
       "      <td>{'@module': 'pymatgen.core.structure', '@class...</td>\n",
       "      <td>252537945</td>\n",
       "      <td>{'@module': 'pymatgen.core.structure', '@class...</td>\n",
       "      <td>72945546</td>\n",
       "      <td>-266.633305</td>\n",
       "      <td>-6.665833</td>\n",
       "      <td>0.122559</td>\n",
       "      <td>[[8.e-06 8.e-06 8.e-06] Ba, [2.000008 2.000008...</td>\n",
       "      <td>0.140324</td>\n",
       "      <td>-0.017766</td>\n",
       "    </tr>\n",
       "    <tr>\n",
       "      <th>1</th>\n",
       "      <td>Ba1Ca7Fe3Mn5O24</td>\n",
       "      <td>Ba0.125Ca0.875Fe0.375Mn0.625O3</td>\n",
       "      <td>{'sites': {'A': ['Ca', 'Ba'], 'B': ['Mn', 'Fe'...</td>\n",
       "      <td>40</td>\n",
       "      <td>40</td>\n",
       "      <td>222996502</td>\n",
       "      <td>{'@module': 'pymatgen.core.structure', '@class...</td>\n",
       "      <td>253437540</td>\n",
       "      <td>{'@module': 'pymatgen.core.structure', '@class...</td>\n",
       "      <td>73304197</td>\n",
       "      <td>-266.521519</td>\n",
       "      <td>-6.663038</td>\n",
       "      <td>0.125353</td>\n",
       "      <td>[[0. 0. 0.] Ba, [2. 2. 2.] Fe, [2. 2. 0.] O, [...</td>\n",
       "      <td>0.140324</td>\n",
       "      <td>-0.014971</td>\n",
       "    </tr>\n",
       "    <tr>\n",
       "      <th>2</th>\n",
       "      <td>Ba1Cr4Fe4O24Pr7</td>\n",
       "      <td>Ba0.125Pr0.875Cr0.500Fe0.500O3</td>\n",
       "      <td>{'sites': {'A': ['Ba', 'Pr'], 'B': ['Cr', 'Fe'...</td>\n",
       "      <td>40</td>\n",
       "      <td>40</td>\n",
       "      <td>201883190</td>\n",
       "      <td>{'@module': 'pymatgen.core.structure', '@class...</td>\n",
       "      <td>203132378</td>\n",
       "      <td>{'@module': 'pymatgen.core.structure', '@class...</td>\n",
       "      <td>61473323</td>\n",
       "      <td>-300.739117</td>\n",
       "      <td>-7.518478</td>\n",
       "      <td>0.189088</td>\n",
       "      <td>[[8.e-06 8.e-06 8.e-06] Ba, [8.000000e-06 8.00...</td>\n",
       "      <td>0.387373</td>\n",
       "      <td>-0.198285</td>\n",
       "    </tr>\n",
       "    <tr>\n",
       "      <th>3</th>\n",
       "      <td>Ba1Cr4Fe4O24Pr7</td>\n",
       "      <td>Ba0.125Pr0.875Cr0.500Fe0.500O3</td>\n",
       "      <td>{'sites': {'A': ['Ba', 'Pr'], 'B': ['Cr', 'Fe'...</td>\n",
       "      <td>40</td>\n",
       "      <td>40</td>\n",
       "      <td>200882398</td>\n",
       "      <td>{'@module': 'pymatgen.core.structure', '@class...</td>\n",
       "      <td>201610028</td>\n",
       "      <td>{'@module': 'pymatgen.core.structure', '@class...</td>\n",
       "      <td>61473401</td>\n",
       "      <td>-302.920491</td>\n",
       "      <td>-7.573012</td>\n",
       "      <td>0.134554</td>\n",
       "      <td>[[8.e-06 8.e-06 8.e-06] Ba, [8.000000e-06 8.00...</td>\n",
       "      <td>0.387373</td>\n",
       "      <td>-0.252819</td>\n",
       "    </tr>\n",
       "    <tr>\n",
       "      <th>4</th>\n",
       "      <td>Ba1Co3Ni5O24Sm7</td>\n",
       "      <td>Ba0.125Sm0.875Co0.375Ni0.625O3</td>\n",
       "      <td>{'sites': {'A': ['Ba', 'Sm'], 'B': ['Co', 'Ni'...</td>\n",
       "      <td>40</td>\n",
       "      <td>40</td>\n",
       "      <td>201883295</td>\n",
       "      <td>{'@module': 'pymatgen.core.structure', '@class...</td>\n",
       "      <td>255717779</td>\n",
       "      <td>{'@module': 'pymatgen.core.structure', '@class...</td>\n",
       "      <td>74141778</td>\n",
       "      <td>-261.814429</td>\n",
       "      <td>-6.545361</td>\n",
       "      <td>0.158405</td>\n",
       "      <td>[[0. 0. 0.] Ba, [0. 0. 4.] Sm, [0.0000000e+00 ...</td>\n",
       "      <td>0.223073</td>\n",
       "      <td>-0.064669</td>\n",
       "    </tr>\n",
       "    <tr>\n",
       "      <th>...</th>\n",
       "      <td>...</td>\n",
       "      <td>...</td>\n",
       "      <td>...</td>\n",
       "      <td>...</td>\n",
       "      <td>...</td>\n",
       "      <td>...</td>\n",
       "      <td>...</td>\n",
       "      <td>...</td>\n",
       "      <td>...</td>\n",
       "      <td>...</td>\n",
       "      <td>...</td>\n",
       "      <td>...</td>\n",
       "      <td>...</td>\n",
       "      <td>...</td>\n",
       "      <td>...</td>\n",
       "      <td>...</td>\n",
       "    </tr>\n",
       "    <tr>\n",
       "      <th>995</th>\n",
       "      <td>Ba8Ga4Nb4O24</td>\n",
       "      <td>BaGa0.500Nb0.500O3</td>\n",
       "      <td>{'sites': {'A': ['Ba'], 'B': ['Ga', 'Nb'], 'X'...</td>\n",
       "      <td>40</td>\n",
       "      <td>40</td>\n",
       "      <td>261447638</td>\n",
       "      <td>{'@module': 'pymatgen.core.structure', '@class...</td>\n",
       "      <td>261595176</td>\n",
       "      <td>{'@module': 'pymatgen.core.structure', '@class...</td>\n",
       "      <td>76518029</td>\n",
       "      <td>-288.738648</td>\n",
       "      <td>-7.218466</td>\n",
       "      <td>0.071669</td>\n",
       "      <td>[[6.000008 2.000008 2.000008] Ba, [8.000000e-0...</td>\n",
       "      <td>0.118783</td>\n",
       "      <td>-0.047114</td>\n",
       "    </tr>\n",
       "    <tr>\n",
       "      <th>996</th>\n",
       "      <td>Ba8Ga4Nb4O24</td>\n",
       "      <td>BaGa0.500Nb0.500O3</td>\n",
       "      <td>{'sites': {'A': ['Ba'], 'B': ['Ga', 'Nb'], 'X'...</td>\n",
       "      <td>40</td>\n",
       "      <td>40</td>\n",
       "      <td>261447639</td>\n",
       "      <td>{'@module': 'pymatgen.core.structure', '@class...</td>\n",
       "      <td>261610387</td>\n",
       "      <td>{'@module': 'pymatgen.core.structure', '@class...</td>\n",
       "      <td>76521316</td>\n",
       "      <td>-288.594702</td>\n",
       "      <td>-7.214868</td>\n",
       "      <td>0.075268</td>\n",
       "      <td>[[6.000008 2.000008 2.000008] Ba, [8.000000e-0...</td>\n",
       "      <td>0.118783</td>\n",
       "      <td>-0.043515</td>\n",
       "    </tr>\n",
       "    <tr>\n",
       "      <th>997</th>\n",
       "      <td>Ba8Ga4Nb4O24</td>\n",
       "      <td>BaGa0.500Nb0.500O3</td>\n",
       "      <td>{'sites': {'A': ['Ba'], 'B': ['Ga', 'Nb'], 'X'...</td>\n",
       "      <td>40</td>\n",
       "      <td>40</td>\n",
       "      <td>261447641</td>\n",
       "      <td>{'@module': 'pymatgen.core.structure', '@class...</td>\n",
       "      <td>261595087</td>\n",
       "      <td>{'@module': 'pymatgen.core.structure', '@class...</td>\n",
       "      <td>76518119</td>\n",
       "      <td>-288.751204</td>\n",
       "      <td>-7.218780</td>\n",
       "      <td>0.071356</td>\n",
       "      <td>[[6.000008 2.000008 6.000008] Ba, [8.000000e-0...</td>\n",
       "      <td>0.118783</td>\n",
       "      <td>-0.047428</td>\n",
       "    </tr>\n",
       "    <tr>\n",
       "      <th>998</th>\n",
       "      <td>Ba8Ga4O24Ta4</td>\n",
       "      <td>BaGa0.500Ta0.500O3</td>\n",
       "      <td>{'sites': {'A': ['Ba'], 'B': ['Ga', 'Ta'], 'X'...</td>\n",
       "      <td>40</td>\n",
       "      <td>40</td>\n",
       "      <td>261447648</td>\n",
       "      <td>{'@module': 'pymatgen.core.structure', '@class...</td>\n",
       "      <td>261838380</td>\n",
       "      <td>{'@module': 'pymatgen.core.structure', '@class...</td>\n",
       "      <td>76546918</td>\n",
       "      <td>-301.049211</td>\n",
       "      <td>-7.526230</td>\n",
       "      <td>0.041065</td>\n",
       "      <td>[[6.000008 6.000008 2.000008] Ba, [8.000000e-0...</td>\n",
       "      <td>0.138295</td>\n",
       "      <td>-0.097229</td>\n",
       "    </tr>\n",
       "    <tr>\n",
       "      <th>999</th>\n",
       "      <td>Ba8Ga4O24Ta4</td>\n",
       "      <td>BaGa0.500Ta0.500O3</td>\n",
       "      <td>{'sites': {'A': ['Ba'], 'B': ['Ga', 'Ta'], 'X'...</td>\n",
       "      <td>40</td>\n",
       "      <td>40</td>\n",
       "      <td>261447647</td>\n",
       "      <td>{'@module': 'pymatgen.core.structure', '@class...</td>\n",
       "      <td>261595117</td>\n",
       "      <td>{'@module': 'pymatgen.core.structure', '@class...</td>\n",
       "      <td>76517934</td>\n",
       "      <td>-300.149791</td>\n",
       "      <td>-7.503745</td>\n",
       "      <td>0.063551</td>\n",
       "      <td>[[6.000008 2.000008 6.000008] Ba, [8.000000e-0...</td>\n",
       "      <td>0.138295</td>\n",
       "      <td>-0.074744</td>\n",
       "    </tr>\n",
       "  </tbody>\n",
       "</table>\n",
       "<p>1000 rows × 16 columns</p>\n",
       "</div>"
      ],
      "text/plain": [
       "             formula                       framework  \\\n",
       "0    Ba1Ca7Fe3Mn5O24  Ba0.125Ca0.875Fe0.375Mn0.625O3   \n",
       "1    Ba1Ca7Fe3Mn5O24  Ba0.125Ca0.875Fe0.375Mn0.625O3   \n",
       "2    Ba1Cr4Fe4O24Pr7  Ba0.125Pr0.875Cr0.500Fe0.500O3   \n",
       "3    Ba1Cr4Fe4O24Pr7  Ba0.125Pr0.875Cr0.500Fe0.500O3   \n",
       "4    Ba1Co3Ni5O24Sm7  Ba0.125Sm0.875Co0.375Ni0.625O3   \n",
       "..               ...                             ...   \n",
       "995     Ba8Ga4Nb4O24              BaGa0.500Nb0.500O3   \n",
       "996     Ba8Ga4Nb4O24              BaGa0.500Nb0.500O3   \n",
       "997     Ba8Ga4Nb4O24              BaGa0.500Nb0.500O3   \n",
       "998     Ba8Ga4O24Ta4              BaGa0.500Ta0.500O3   \n",
       "999     Ba8Ga4O24Ta4              BaGa0.500Ta0.500O3   \n",
       "\n",
       "                                           composition  n_atoms_unrelaxed  \\\n",
       "0    {'sites': {'A': ['Ca', 'Ba'], 'B': ['Mn', 'Fe'...                 40   \n",
       "1    {'sites': {'A': ['Ca', 'Ba'], 'B': ['Mn', 'Fe'...                 40   \n",
       "2    {'sites': {'A': ['Ba', 'Pr'], 'B': ['Cr', 'Fe'...                 40   \n",
       "3    {'sites': {'A': ['Ba', 'Pr'], 'B': ['Cr', 'Fe'...                 40   \n",
       "4    {'sites': {'A': ['Ba', 'Sm'], 'B': ['Co', 'Ni'...                 40   \n",
       "..                                                 ...                ...   \n",
       "995  {'sites': {'A': ['Ba'], 'B': ['Ga', 'Nb'], 'X'...                 40   \n",
       "996  {'sites': {'A': ['Ba'], 'B': ['Ga', 'Nb'], 'X'...                 40   \n",
       "997  {'sites': {'A': ['Ba'], 'B': ['Ga', 'Nb'], 'X'...                 40   \n",
       "998  {'sites': {'A': ['Ba'], 'B': ['Ga', 'Ta'], 'X'...                 40   \n",
       "999  {'sites': {'A': ['Ba'], 'B': ['Ga', 'Ta'], 'X'...                 40   \n",
       "\n",
       "     n_atoms_opt  unrelaxed_cryst_id  \\\n",
       "0             40           222996501   \n",
       "1             40           222996502   \n",
       "2             40           201883190   \n",
       "3             40           200882398   \n",
       "4             40           201883295   \n",
       "..           ...                 ...   \n",
       "995           40           261447638   \n",
       "996           40           261447639   \n",
       "997           40           261447641   \n",
       "998           40           261447648   \n",
       "999           40           261447647   \n",
       "\n",
       "                                      unrelaxed_struct  opt_cryst_id  \\\n",
       "0    {'@module': 'pymatgen.core.structure', '@class...     252537945   \n",
       "1    {'@module': 'pymatgen.core.structure', '@class...     253437540   \n",
       "2    {'@module': 'pymatgen.core.structure', '@class...     203132378   \n",
       "3    {'@module': 'pymatgen.core.structure', '@class...     201610028   \n",
       "4    {'@module': 'pymatgen.core.structure', '@class...     255717779   \n",
       "..                                                 ...           ...   \n",
       "995  {'@module': 'pymatgen.core.structure', '@class...     261595176   \n",
       "996  {'@module': 'pymatgen.core.structure', '@class...     261610387   \n",
       "997  {'@module': 'pymatgen.core.structure', '@class...     261595087   \n",
       "998  {'@module': 'pymatgen.core.structure', '@class...     261838380   \n",
       "999  {'@module': 'pymatgen.core.structure', '@class...     261595117   \n",
       "\n",
       "                                            opt_struct  es_job_id  dft_energy  \\\n",
       "0    {'@module': 'pymatgen.core.structure', '@class...   72945546 -266.633305   \n",
       "1    {'@module': 'pymatgen.core.structure', '@class...   73304197 -266.521519   \n",
       "2    {'@module': 'pymatgen.core.structure', '@class...   61473323 -300.739117   \n",
       "3    {'@module': 'pymatgen.core.structure', '@class...   61473401 -302.920491   \n",
       "4    {'@module': 'pymatgen.core.structure', '@class...   74141778 -261.814429   \n",
       "..                                                 ...        ...         ...   \n",
       "995  {'@module': 'pymatgen.core.structure', '@class...   76518029 -288.738648   \n",
       "996  {'@module': 'pymatgen.core.structure', '@class...   76521316 -288.594702   \n",
       "997  {'@module': 'pymatgen.core.structure', '@class...   76518119 -288.751204   \n",
       "998  {'@module': 'pymatgen.core.structure', '@class...   76546918 -301.049211   \n",
       "999  {'@module': 'pymatgen.core.structure', '@class...   76517934 -300.149791   \n",
       "\n",
       "     dft_energy_per_atom  dft_e_hull  \\\n",
       "0              -6.665833    0.122559   \n",
       "1              -6.663038    0.125353   \n",
       "2              -7.518478    0.189088   \n",
       "3              -7.573012    0.134554   \n",
       "4              -6.545361    0.158405   \n",
       "..                   ...         ...   \n",
       "995            -7.218466    0.071669   \n",
       "996            -7.214868    0.075268   \n",
       "997            -7.218780    0.071356   \n",
       "998            -7.526230    0.041065   \n",
       "999            -7.503745    0.063551   \n",
       "\n",
       "                                             structure  dft_e_hull_interp  \\\n",
       "0    [[8.e-06 8.e-06 8.e-06] Ba, [2.000008 2.000008...           0.140324   \n",
       "1    [[0. 0. 0.] Ba, [2. 2. 2.] Fe, [2. 2. 0.] O, [...           0.140324   \n",
       "2    [[8.e-06 8.e-06 8.e-06] Ba, [8.000000e-06 8.00...           0.387373   \n",
       "3    [[8.e-06 8.e-06 8.e-06] Ba, [8.000000e-06 8.00...           0.387373   \n",
       "4    [[0. 0. 0.] Ba, [0. 0. 4.] Sm, [0.0000000e+00 ...           0.223073   \n",
       "..                                                 ...                ...   \n",
       "995  [[6.000008 2.000008 2.000008] Ba, [8.000000e-0...           0.118783   \n",
       "996  [[6.000008 2.000008 2.000008] Ba, [8.000000e-0...           0.118783   \n",
       "997  [[6.000008 2.000008 6.000008] Ba, [8.000000e-0...           0.118783   \n",
       "998  [[6.000008 6.000008 2.000008] Ba, [8.000000e-0...           0.138295   \n",
       "999  [[6.000008 2.000008 6.000008] Ba, [8.000000e-0...           0.138295   \n",
       "\n",
       "     dft_e_hull_diff  \n",
       "0          -0.017766  \n",
       "1          -0.014971  \n",
       "2          -0.198285  \n",
       "3          -0.252819  \n",
       "4          -0.064669  \n",
       "..               ...  \n",
       "995        -0.047114  \n",
       "996        -0.043515  \n",
       "997        -0.047428  \n",
       "998        -0.097229  \n",
       "999        -0.074744  \n",
       "\n",
       "[1000 rows x 16 columns]"
      ]
     },
     "execution_count": 9,
     "metadata": {},
     "output_type": "execute_result"
    }
   ],
   "source": [
    "data_unrelaxed"
   ]
  },
  {
   "cell_type": "code",
   "execution_count": 10,
   "id": "dd6c9b6f",
   "metadata": {},
   "outputs": [],
   "source": [
    "from processing.dataloader.dataloader import get_dataloader\n",
    "from processing.create_model.create_model import create_model\n",
    "from training.hyperparameters.default import get_default_cgcnn_hyperparameters, get_default_painn_hyperparameters, get_default_e3nn_hyperparameters\n",
    "from training.model_training.trainer import trainer"
   ]
  },
  {
   "cell_type": "code",
   "execution_count": null,
   "id": "43dd2e5c",
   "metadata": {},
   "outputs": [],
   "source": [
    "train_loader = get_dataloader(data_unrelaxed,\"dft_e_hull\",\"CGCNN\",4)\n",
    "model, Normalizer = create_model(\"CGCNN\",train_loader)"
   ]
  },
  {
   "cell_type": "code",
   "execution_count": null,
   "id": "1d09374a",
   "metadata": {},
   "outputs": [],
   "source": [
    "hyperparameters = get_default_cgcnn_hyperparameters()\n",
    "print(hyperparameters)\n",
    "best_model, loss_fn = trainer(model,Normalizer,'CGCNN',train_loader,train_loader,hyperparameters,\"saved_models/CGCNN/Scrap\",0)"
   ]
  },
  {
   "cell_type": "code",
   "execution_count": null,
   "id": "53c526ba",
   "metadata": {},
   "outputs": [],
   "source": [
    "train_loader = get_dataloader(data_unrelaxed,\"dft_e_hull\",\"Painn\",4)\n",
    "model, Normalizer = create_model(\"Painn\",train_loader)"
   ]
  },
  {
   "cell_type": "code",
   "execution_count": 14,
   "id": "f94218cd",
   "metadata": {},
   "outputs": [
    {
     "name": "stdout",
     "output_type": "stream",
     "text": [
      " Time | Epoch | Learning rate | Train loss | Validation loss | MAE_dft_e_hull_diff | GPU Memory (MB)\n"
     ]
    },
    {
     "name": "stderr",
     "output_type": "stream",
     "text": [
      "100%|█████████▉| 249/250 [00:05<00:00, 43.17it/s]\n"
     ]
    },
    {
     "name": "stdout",
     "output_type": "stream",
     "text": [
      "36:15 |     7 |     1.000e-03 |     0.0463 |          0.0576 |              0.0576 |             129\n"
     ]
    },
    {
     "name": "stderr",
     "output_type": "stream",
     "text": [
      "100%|█████████▉| 249/250 [00:05<00:00, 42.87it/s]\n"
     ]
    },
    {
     "name": "stdout",
     "output_type": "stream",
     "text": [
      "36:22 |     8 |     1.000e-03 |     0.0440 |          0.0470 |              0.0470 |             129\n"
     ]
    },
    {
     "name": "stderr",
     "output_type": "stream",
     "text": [
      "100%|█████████▉| 249/250 [00:05<00:00, 43.60it/s]\n"
     ]
    },
    {
     "name": "stdout",
     "output_type": "stream",
     "text": [
      "36:30 |     9 |     1.000e-03 |     0.0427 |          0.0365 |              0.0365 |             129\n"
     ]
    },
    {
     "name": "stderr",
     "output_type": "stream",
     "text": [
      "100%|█████████▉| 249/250 [00:05<00:00, 43.38it/s]\n"
     ]
    },
    {
     "name": "stdout",
     "output_type": "stream",
     "text": [
      "36:37 |    10 |     1.000e-03 |     0.0402 |          0.0397 |              0.0397 |             129\n"
     ]
    },
    {
     "name": "stderr",
     "output_type": "stream",
     "text": [
      "100%|█████████▉| 249/250 [00:05<00:00, 42.70it/s]\n"
     ]
    },
    {
     "name": "stdout",
     "output_type": "stream",
     "text": [
      "36:45 |    11 |     1.000e-03 |     0.0391 |          0.0422 |              0.0422 |             129\n"
     ]
    },
    {
     "name": "stderr",
     "output_type": "stream",
     "text": [
      "100%|█████████▉| 249/250 [00:05<00:00, 43.47it/s]\n"
     ]
    },
    {
     "name": "stdout",
     "output_type": "stream",
     "text": [
      "36:52 |    12 |     1.000e-03 |     0.0375 |          0.0494 |              0.0494 |             129\n"
     ]
    },
    {
     "name": "stderr",
     "output_type": "stream",
     "text": [
      " 88%|████████▊ | 221/250 [00:05<00:00, 42.19it/s]\n"
     ]
    },
    {
     "ename": "KeyboardInterrupt",
     "evalue": "",
     "output_type": "error",
     "traceback": [
      "\u001b[0;31m---------------------------------------------------------------------------\u001b[0m",
      "\u001b[0;31mKeyboardInterrupt\u001b[0m                         Traceback (most recent call last)",
      "Cell \u001b[0;32mIn[14], line 2\u001b[0m\n\u001b[1;32m      1\u001b[0m hyperparameters \u001b[38;5;241m=\u001b[39m get_default_painn_hyperparameters()\n\u001b[0;32m----> 2\u001b[0m best_model, loss_fn \u001b[38;5;241m=\u001b[39m \u001b[43mtrainer\u001b[49m\u001b[43m(\u001b[49m\u001b[43mmodel\u001b[49m\u001b[43m,\u001b[49m\u001b[43mNormalizer\u001b[49m\u001b[43m,\u001b[49m\u001b[38;5;124;43m'\u001b[39;49m\u001b[38;5;124;43mPainn\u001b[39;49m\u001b[38;5;124;43m'\u001b[39;49m\u001b[43m,\u001b[49m\u001b[43mtrain_loader\u001b[49m\u001b[43m,\u001b[49m\u001b[43mtrain_loader\u001b[49m\u001b[43m,\u001b[49m\u001b[43mhyperparameters\u001b[49m\u001b[43m,\u001b[49m\u001b[38;5;124;43m\"\u001b[39;49m\u001b[38;5;124;43msaved_models/Painn/Scrap\u001b[39;49m\u001b[38;5;124;43m\"\u001b[39;49m\u001b[43m,\u001b[49m\u001b[38;5;241;43m0\u001b[39;49m\u001b[43m)\u001b[49m\n",
      "File \u001b[0;32m~/perovskites/ML_Ordering_Github/PerovskiteOrderingGCNNs/training/model_training/trainer.py:18\u001b[0m, in \u001b[0;36mtrainer\u001b[0;34m(model, normalizer, model_type, train_loader, val_loader, hyperparameters, OUTDIR, gpu_num)\u001b[0m\n\u001b[1;32m     15\u001b[0m     loss_fn \u001b[38;5;241m=\u001b[39m torch\u001b[38;5;241m.\u001b[39mnn\u001b[38;5;241m.\u001b[39mL1Loss()\n\u001b[1;32m     17\u001b[0m \u001b[38;5;28;01mif\u001b[39;00m model_type \u001b[38;5;241m==\u001b[39m \u001b[38;5;124m\"\u001b[39m\u001b[38;5;124mPainn\u001b[39m\u001b[38;5;124m\"\u001b[39m:\n\u001b[0;32m---> 18\u001b[0m     best_model \u001b[38;5;241m=\u001b[39m \u001b[43mtrain_painn\u001b[49m\u001b[43m(\u001b[49m\u001b[43mmodel\u001b[49m\u001b[43m,\u001b[49m\u001b[43mtrain_loader\u001b[49m\u001b[43m,\u001b[49m\u001b[43mval_loader\u001b[49m\u001b[43m,\u001b[49m\u001b[43mhyperparameters\u001b[49m\u001b[43m,\u001b[49m\u001b[43mOUTDIR\u001b[49m\u001b[43m,\u001b[49m\u001b[43mgpu_num\u001b[49m\u001b[43m)\u001b[49m\n\u001b[1;32m     19\u001b[0m \u001b[38;5;28;01melse\u001b[39;00m:\n\u001b[1;32m     20\u001b[0m     best_model \u001b[38;5;241m=\u001b[39m train_CGCNN_e3nn(model,normalizer,model_type,loss_fn,train_loader,val_loader,hyperparameters,OUTDIR,gpu_num)\n",
      "File \u001b[0;32m~/perovskites/ML_Ordering_Github/PerovskiteOrderingGCNNs/training/model_training/trainer.py:71\u001b[0m, in \u001b[0;36mtrain_painn\u001b[0;34m(model, train_loader, val_loader, hyperparameters, OUTDIR, gpu_num)\u001b[0m\n\u001b[1;32m     38\u001b[0m train_hooks \u001b[38;5;241m=\u001b[39m [\n\u001b[1;32m     39\u001b[0m     hooks\u001b[38;5;241m.\u001b[39mMaxEpochHook(num_epochs),\n\u001b[1;32m     40\u001b[0m     hooks\u001b[38;5;241m.\u001b[39mCSVHook(\n\u001b[0;32m   (...)\u001b[0m\n\u001b[1;32m     56\u001b[0m         stop_after_min\u001b[38;5;241m=\u001b[39m\u001b[38;5;28;01mTrue\u001b[39;00m)\n\u001b[1;32m     57\u001b[0m ]\n\u001b[1;32m     59\u001b[0m T \u001b[38;5;241m=\u001b[39m Trainer(\n\u001b[1;32m     60\u001b[0m     model_path\u001b[38;5;241m=\u001b[39mOUTDIR, \n\u001b[1;32m     61\u001b[0m     model\u001b[38;5;241m=\u001b[39mmodel, \n\u001b[0;32m   (...)\u001b[0m\n\u001b[1;32m     68\u001b[0m     mini_batches\u001b[38;5;241m=\u001b[39m\u001b[38;5;241m1\u001b[39m\n\u001b[1;32m     69\u001b[0m )\n\u001b[0;32m---> 71\u001b[0m \u001b[43mT\u001b[49m\u001b[38;5;241;43m.\u001b[39;49m\u001b[43mtrain\u001b[49m\u001b[43m(\u001b[49m\u001b[43mdevice\u001b[49m\u001b[38;5;241;43m=\u001b[39;49m\u001b[43mgpu_num\u001b[49m\u001b[43m,\u001b[49m\u001b[43m \u001b[49m\u001b[43mn_epochs\u001b[49m\u001b[38;5;241;43m=\u001b[39;49m\u001b[43mnum_epochs\u001b[49m\u001b[43m)\u001b[49m\n\u001b[1;32m     73\u001b[0m \u001b[38;5;28;01mreturn\u001b[39;00m T\u001b[38;5;241m.\u001b[39mget_best_model()\n",
      "File \u001b[0;32m~/perovskites/ML_Ordering_Github/PerovskiteOrderingGCNNs/models/PerovskiteOrderingGCNNs_painn/nff/train/trainer.py:399\u001b[0m, in \u001b[0;36mTrainer.train\u001b[0;34m(self, device, n_epochs)\u001b[0m\n\u001b[1;32m    396\u001b[0m \u001b[38;5;28;01mfor\u001b[39;00m hook \u001b[38;5;129;01min\u001b[39;00m \u001b[38;5;28mself\u001b[39m\u001b[38;5;241m.\u001b[39mhooks:\n\u001b[1;32m    397\u001b[0m     hook\u001b[38;5;241m.\u001b[39mon_batch_begin(\u001b[38;5;28mself\u001b[39m, batch)\n\u001b[0;32m--> 399\u001b[0m batch, results, mini_loss, _ \u001b[38;5;241m=\u001b[39m \u001b[38;5;28;43mself\u001b[39;49m\u001b[38;5;241;43m.\u001b[39;49m\u001b[43mcall_and_loss\u001b[49m\u001b[43m(\u001b[49m\n\u001b[1;32m    400\u001b[0m \u001b[43m    \u001b[49m\u001b[43mbatch\u001b[49m\u001b[38;5;241;43m=\u001b[39;49m\u001b[43mbatch\u001b[49m\u001b[43m,\u001b[49m\n\u001b[1;32m    401\u001b[0m \u001b[43m    \u001b[49m\u001b[43mdevice\u001b[49m\u001b[38;5;241;43m=\u001b[39;49m\u001b[43mdevice\u001b[49m\u001b[43m,\u001b[49m\n\u001b[1;32m    402\u001b[0m \u001b[43m    \u001b[49m\u001b[43mcalc_loss\u001b[49m\u001b[38;5;241;43m=\u001b[39;49m\u001b[38;5;28;43;01mTrue\u001b[39;49;00m\u001b[43m)\u001b[49m\n\u001b[1;32m    404\u001b[0m \u001b[38;5;28;01mif\u001b[39;00m \u001b[38;5;129;01mnot\u001b[39;00m torch\u001b[38;5;241m.\u001b[39misnan(mini_loss):\n\u001b[1;32m    405\u001b[0m     loss \u001b[38;5;241m+\u001b[39m\u001b[38;5;241m=\u001b[39m mini_loss\u001b[38;5;241m.\u001b[39mcpu()\u001b[38;5;241m.\u001b[39mdetach()\u001b[38;5;241m.\u001b[39mto(device)\n",
      "File \u001b[0;32m~/perovskites/ML_Ordering_Github/PerovskiteOrderingGCNNs/models/PerovskiteOrderingGCNNs_painn/nff/train/trainer.py:340\u001b[0m, in \u001b[0;36mTrainer.call_and_loss\u001b[0;34m(self, batch, device, calc_loss)\u001b[0m\n\u001b[1;32m    338\u001b[0m \u001b[38;5;28;01mif\u001b[39;00m use_device \u001b[38;5;241m!=\u001b[39m device:\n\u001b[1;32m    339\u001b[0m     \u001b[38;5;28mself\u001b[39m\u001b[38;5;241m.\u001b[39mto(use_device)\n\u001b[0;32m--> 340\u001b[0m results \u001b[38;5;241m=\u001b[39m \u001b[38;5;28;43mself\u001b[39;49m\u001b[38;5;241;43m.\u001b[39;49m\u001b[43mcall_model\u001b[49m\u001b[43m(\u001b[49m\u001b[43mbatch\u001b[49m\u001b[43m,\u001b[49m\u001b[43m \u001b[49m\u001b[43mtrain\u001b[49m\u001b[38;5;241;43m=\u001b[39;49m\u001b[38;5;28;43;01mTrue\u001b[39;49;00m\u001b[43m)\u001b[49m\n\u001b[1;32m    341\u001b[0m \u001b[38;5;28;01mif\u001b[39;00m calc_loss:\n\u001b[1;32m    342\u001b[0m     mini_loss \u001b[38;5;241m=\u001b[39m \u001b[38;5;28mself\u001b[39m\u001b[38;5;241m.\u001b[39mget_loss(batch, results)\n",
      "File \u001b[0;32m~/perovskites/ML_Ordering_Github/PerovskiteOrderingGCNNs/models/PerovskiteOrderingGCNNs_painn/nff/train/trainer.py:198\u001b[0m, in \u001b[0;36mTrainer.call_model\u001b[0;34m(self, batch, train)\u001b[0m\n\u001b[1;32m    195\u001b[0m \u001b[38;5;28;01melse\u001b[39;00m:\n\u001b[1;32m    196\u001b[0m     model \u001b[38;5;241m=\u001b[39m \u001b[38;5;28mself\u001b[39m\u001b[38;5;241m.\u001b[39m_model\n\u001b[0;32m--> 198\u001b[0m \u001b[38;5;28;01mreturn\u001b[39;00m \u001b[43mmodel\u001b[49m\u001b[43m(\u001b[49m\u001b[43mbatch\u001b[49m\u001b[43m,\u001b[49m\u001b[43m \u001b[49m\u001b[38;5;241;43m*\u001b[39;49m\u001b[38;5;241;43m*\u001b[39;49m\u001b[38;5;28;43mself\u001b[39;49m\u001b[38;5;241;43m.\u001b[39;49m\u001b[43mmodel_kwargs\u001b[49m\u001b[43m)\u001b[49m\n",
      "File \u001b[0;32m~/miniconda3/envs/Perovskite_ML_Environment/lib/python3.10/site-packages/torch/nn/modules/module.py:1194\u001b[0m, in \u001b[0;36mModule._call_impl\u001b[0;34m(self, *input, **kwargs)\u001b[0m\n\u001b[1;32m   1190\u001b[0m \u001b[38;5;66;03m# If we don't have any hooks, we want to skip the rest of the logic in\u001b[39;00m\n\u001b[1;32m   1191\u001b[0m \u001b[38;5;66;03m# this function, and just call forward.\u001b[39;00m\n\u001b[1;32m   1192\u001b[0m \u001b[38;5;28;01mif\u001b[39;00m \u001b[38;5;129;01mnot\u001b[39;00m (\u001b[38;5;28mself\u001b[39m\u001b[38;5;241m.\u001b[39m_backward_hooks \u001b[38;5;129;01mor\u001b[39;00m \u001b[38;5;28mself\u001b[39m\u001b[38;5;241m.\u001b[39m_forward_hooks \u001b[38;5;129;01mor\u001b[39;00m \u001b[38;5;28mself\u001b[39m\u001b[38;5;241m.\u001b[39m_forward_pre_hooks \u001b[38;5;129;01mor\u001b[39;00m _global_backward_hooks\n\u001b[1;32m   1193\u001b[0m         \u001b[38;5;129;01mor\u001b[39;00m _global_forward_hooks \u001b[38;5;129;01mor\u001b[39;00m _global_forward_pre_hooks):\n\u001b[0;32m-> 1194\u001b[0m     \u001b[38;5;28;01mreturn\u001b[39;00m \u001b[43mforward_call\u001b[49m\u001b[43m(\u001b[49m\u001b[38;5;241;43m*\u001b[39;49m\u001b[38;5;28;43minput\u001b[39;49m\u001b[43m,\u001b[49m\u001b[43m \u001b[49m\u001b[38;5;241;43m*\u001b[39;49m\u001b[38;5;241;43m*\u001b[39;49m\u001b[43mkwargs\u001b[49m\u001b[43m)\u001b[49m\n\u001b[1;32m   1195\u001b[0m \u001b[38;5;66;03m# Do not call functions when jit is used\u001b[39;00m\n\u001b[1;32m   1196\u001b[0m full_backward_hooks, non_full_backward_hooks \u001b[38;5;241m=\u001b[39m [], []\n",
      "File \u001b[0;32m~/perovskites/ML_Ordering_Github/PerovskiteOrderingGCNNs/models/PerovskiteOrderingGCNNs_painn/nff/nn/models/painn.py:290\u001b[0m, in \u001b[0;36mPainn.forward\u001b[0;34m(self, batch, xyz, requires_stress, inference, **kwargs)\u001b[0m\n\u001b[1;32m    276\u001b[0m \u001b[38;5;28;01mdef\u001b[39;00m \u001b[38;5;21mforward\u001b[39m(\u001b[38;5;28mself\u001b[39m,\n\u001b[1;32m    277\u001b[0m             batch,\n\u001b[1;32m    278\u001b[0m             xyz\u001b[38;5;241m=\u001b[39m\u001b[38;5;28;01mNone\u001b[39;00m,\n\u001b[1;32m    279\u001b[0m             requires_stress\u001b[38;5;241m=\u001b[39m\u001b[38;5;28;01mFalse\u001b[39;00m,\n\u001b[1;32m    280\u001b[0m             inference\u001b[38;5;241m=\u001b[39m\u001b[38;5;28;01mFalse\u001b[39;00m,\n\u001b[1;32m    281\u001b[0m             \u001b[38;5;241m*\u001b[39m\u001b[38;5;241m*\u001b[39mkwargs):\n\u001b[1;32m    282\u001b[0m \u001b[38;5;250m    \u001b[39m\u001b[38;5;124;03m\"\"\"\u001b[39;00m\n\u001b[1;32m    283\u001b[0m \u001b[38;5;124;03m    Call the model\u001b[39;00m\n\u001b[1;32m    284\u001b[0m \u001b[38;5;124;03m    Args:\u001b[39;00m\n\u001b[0;32m   (...)\u001b[0m\n\u001b[1;32m    287\u001b[0m \u001b[38;5;124;03m        results (dict): dictionary of predictions\u001b[39;00m\n\u001b[1;32m    288\u001b[0m \u001b[38;5;124;03m    \"\"\"\u001b[39;00m\n\u001b[0;32m--> 290\u001b[0m     results, _ \u001b[38;5;241m=\u001b[39m \u001b[38;5;28;43mself\u001b[39;49m\u001b[38;5;241;43m.\u001b[39;49m\u001b[43mrun\u001b[49m\u001b[43m(\u001b[49m\u001b[43mbatch\u001b[49m\u001b[38;5;241;43m=\u001b[39;49m\u001b[43mbatch\u001b[49m\u001b[43m,\u001b[49m\n\u001b[1;32m    291\u001b[0m \u001b[43m                          \u001b[49m\u001b[43mxyz\u001b[49m\u001b[38;5;241;43m=\u001b[39;49m\u001b[43mxyz\u001b[49m\u001b[43m,\u001b[49m\n\u001b[1;32m    292\u001b[0m \u001b[43m                          \u001b[49m\u001b[43mrequires_stress\u001b[49m\u001b[38;5;241;43m=\u001b[39;49m\u001b[43mrequires_stress\u001b[49m\u001b[43m,\u001b[49m\n\u001b[1;32m    293\u001b[0m \u001b[43m                          \u001b[49m\u001b[43minference\u001b[49m\u001b[38;5;241;43m=\u001b[39;49m\u001b[43minference\u001b[49m\u001b[43m)\u001b[49m\n\u001b[1;32m    295\u001b[0m     \u001b[38;5;28;01mreturn\u001b[39;00m results\n",
      "File \u001b[0;32m~/perovskites/ML_Ordering_Github/PerovskiteOrderingGCNNs/models/PerovskiteOrderingGCNNs_painn/nff/nn/models/painn.py:254\u001b[0m, in \u001b[0;36mPainn.run\u001b[0;34m(self, batch, xyz, requires_stress, inference)\u001b[0m\n\u001b[1;32m    248\u001b[0m \u001b[38;5;28;01mdef\u001b[39;00m \u001b[38;5;21mrun\u001b[39m(\u001b[38;5;28mself\u001b[39m,\n\u001b[1;32m    249\u001b[0m         batch,\n\u001b[1;32m    250\u001b[0m         xyz\u001b[38;5;241m=\u001b[39m\u001b[38;5;28;01mNone\u001b[39;00m,\n\u001b[1;32m    251\u001b[0m         requires_stress\u001b[38;5;241m=\u001b[39m\u001b[38;5;28;01mFalse\u001b[39;00m,\n\u001b[1;32m    252\u001b[0m         inference\u001b[38;5;241m=\u001b[39m\u001b[38;5;28;01mFalse\u001b[39;00m):\n\u001b[0;32m--> 254\u001b[0m     atomwise_out, xyz, r_ij, nbrs \u001b[38;5;241m=\u001b[39m \u001b[38;5;28;43mself\u001b[39;49m\u001b[38;5;241;43m.\u001b[39;49m\u001b[43matomwise\u001b[49m\u001b[43m(\u001b[49m\u001b[43mbatch\u001b[49m\u001b[38;5;241;43m=\u001b[39;49m\u001b[43mbatch\u001b[49m\u001b[43m,\u001b[49m\n\u001b[1;32m    255\u001b[0m \u001b[43m                                                  \u001b[49m\u001b[43mxyz\u001b[49m\u001b[38;5;241;43m=\u001b[39;49m\u001b[43mxyz\u001b[49m\u001b[43m)\u001b[49m\n\u001b[1;32m    257\u001b[0m     \u001b[38;5;28;01mif\u001b[39;00m \u001b[38;5;28mgetattr\u001b[39m(\u001b[38;5;28mself\u001b[39m, \u001b[38;5;124m\"\u001b[39m\u001b[38;5;124mexcl_vol\u001b[39m\u001b[38;5;124m\"\u001b[39m, \u001b[38;5;28;01mNone\u001b[39;00m):\n\u001b[1;32m    258\u001b[0m         \u001b[38;5;66;03m# Excluded Volume interactions\u001b[39;00m\n\u001b[1;32m    259\u001b[0m         r_ex \u001b[38;5;241m=\u001b[39m \u001b[38;5;28mself\u001b[39m\u001b[38;5;241m.\u001b[39mV_ex(r_ij, nbrs, xyz)\n",
      "File \u001b[0;32m~/perovskites/ML_Ordering_Github/PerovskiteOrderingGCNNs/models/PerovskiteOrderingGCNNs_painn/nff/nn/models/painn.py:162\u001b[0m, in \u001b[0;36mPainn.atomwise\u001b[0;34m(self, batch, xyz)\u001b[0m\n\u001b[1;32m    159\u001b[0m s_i \u001b[38;5;241m=\u001b[39m s_i \u001b[38;5;241m+\u001b[39m ds_message\n\u001b[1;32m    160\u001b[0m v_i \u001b[38;5;241m=\u001b[39m v_i \u001b[38;5;241m+\u001b[39m dv_message\n\u001b[0;32m--> 162\u001b[0m ds_update, dv_update \u001b[38;5;241m=\u001b[39m \u001b[43mupdate_block\u001b[49m\u001b[43m(\u001b[49m\u001b[43ms_i\u001b[49m\u001b[38;5;241;43m=\u001b[39;49m\u001b[43ms_i\u001b[49m\u001b[43m,\u001b[49m\n\u001b[1;32m    163\u001b[0m \u001b[43m                                    \u001b[49m\u001b[43mv_i\u001b[49m\u001b[38;5;241;43m=\u001b[39;49m\u001b[43mv_i\u001b[49m\u001b[43m)\u001b[49m\n\u001b[1;32m    165\u001b[0m s_i \u001b[38;5;241m=\u001b[39m s_i \u001b[38;5;241m+\u001b[39m ds_update\n\u001b[1;32m    166\u001b[0m v_i \u001b[38;5;241m=\u001b[39m v_i \u001b[38;5;241m+\u001b[39m dv_update\n",
      "File \u001b[0;32m~/miniconda3/envs/Perovskite_ML_Environment/lib/python3.10/site-packages/torch/nn/modules/module.py:1194\u001b[0m, in \u001b[0;36mModule._call_impl\u001b[0;34m(self, *input, **kwargs)\u001b[0m\n\u001b[1;32m   1190\u001b[0m \u001b[38;5;66;03m# If we don't have any hooks, we want to skip the rest of the logic in\u001b[39;00m\n\u001b[1;32m   1191\u001b[0m \u001b[38;5;66;03m# this function, and just call forward.\u001b[39;00m\n\u001b[1;32m   1192\u001b[0m \u001b[38;5;28;01mif\u001b[39;00m \u001b[38;5;129;01mnot\u001b[39;00m (\u001b[38;5;28mself\u001b[39m\u001b[38;5;241m.\u001b[39m_backward_hooks \u001b[38;5;129;01mor\u001b[39;00m \u001b[38;5;28mself\u001b[39m\u001b[38;5;241m.\u001b[39m_forward_hooks \u001b[38;5;129;01mor\u001b[39;00m \u001b[38;5;28mself\u001b[39m\u001b[38;5;241m.\u001b[39m_forward_pre_hooks \u001b[38;5;129;01mor\u001b[39;00m _global_backward_hooks\n\u001b[1;32m   1193\u001b[0m         \u001b[38;5;129;01mor\u001b[39;00m _global_forward_hooks \u001b[38;5;129;01mor\u001b[39;00m _global_forward_pre_hooks):\n\u001b[0;32m-> 1194\u001b[0m     \u001b[38;5;28;01mreturn\u001b[39;00m \u001b[43mforward_call\u001b[49m\u001b[43m(\u001b[49m\u001b[38;5;241;43m*\u001b[39;49m\u001b[38;5;28;43minput\u001b[39;49m\u001b[43m,\u001b[49m\u001b[43m \u001b[49m\u001b[38;5;241;43m*\u001b[39;49m\u001b[38;5;241;43m*\u001b[39;49m\u001b[43mkwargs\u001b[49m\u001b[43m)\u001b[49m\n\u001b[1;32m   1195\u001b[0m \u001b[38;5;66;03m# Do not call functions when jit is used\u001b[39;00m\n\u001b[1;32m   1196\u001b[0m full_backward_hooks, non_full_backward_hooks \u001b[38;5;241m=\u001b[39m [], []\n",
      "File \u001b[0;32m~/perovskites/ML_Ordering_Github/PerovskiteOrderingGCNNs/models/PerovskiteOrderingGCNNs_painn/nff/nn/modules/painn.py:307\u001b[0m, in \u001b[0;36mUpdateBlock.forward\u001b[0;34m(self, s_i, v_i)\u001b[0m\n\u001b[1;32m    303\u001b[0m v_v \u001b[38;5;241m=\u001b[39m (\u001b[38;5;28mself\u001b[39m\u001b[38;5;241m.\u001b[39mv_mat(v_tranpose)\u001b[38;5;241m.\u001b[39mreshape(\u001b[38;5;241m-\u001b[39m\u001b[38;5;241m1\u001b[39m, \u001b[38;5;241m3\u001b[39m, num_feats)\n\u001b[1;32m    304\u001b[0m        \u001b[38;5;241m.\u001b[39mtranspose(\u001b[38;5;241m1\u001b[39m, \u001b[38;5;241m2\u001b[39m))\n\u001b[1;32m    306\u001b[0m v_v_norm \u001b[38;5;241m=\u001b[39m norm(v_v)\n\u001b[0;32m--> 307\u001b[0m s_stack \u001b[38;5;241m=\u001b[39m \u001b[43mtorch\u001b[49m\u001b[38;5;241;43m.\u001b[39;49m\u001b[43mcat\u001b[49m\u001b[43m(\u001b[49m\u001b[43m[\u001b[49m\u001b[43ms_i\u001b[49m\u001b[43m,\u001b[49m\u001b[43m \u001b[49m\u001b[43mv_v_norm\u001b[49m\u001b[43m]\u001b[49m\u001b[43m,\u001b[49m\u001b[43m \u001b[49m\u001b[43mdim\u001b[49m\u001b[38;5;241;43m=\u001b[39;49m\u001b[38;5;241;43m-\u001b[39;49m\u001b[38;5;241;43m1\u001b[39;49m\u001b[43m)\u001b[49m\n\u001b[1;32m    309\u001b[0m split \u001b[38;5;241m=\u001b[39m (\u001b[38;5;28mself\u001b[39m\u001b[38;5;241m.\u001b[39ms_dense(s_stack)\n\u001b[1;32m    310\u001b[0m          \u001b[38;5;241m.\u001b[39mreshape(s_i\u001b[38;5;241m.\u001b[39mshape[\u001b[38;5;241m0\u001b[39m], \u001b[38;5;241m3\u001b[39m, \u001b[38;5;241m-\u001b[39m\u001b[38;5;241m1\u001b[39m))\n\u001b[1;32m    312\u001b[0m \u001b[38;5;66;03m# delta v update\u001b[39;00m\n",
      "\u001b[0;31mKeyboardInterrupt\u001b[0m: "
     ]
    }
   ],
   "source": [
    "hyperparameters = get_default_painn_hyperparameters()\n",
    "best_model, loss_fn = trainer(model,Normalizer,'Painn',train_loader,train_loader,hyperparameters,\"saved_models/Painn/Scrap\",0)\n"
   ]
  },
  {
   "cell_type": "code",
   "execution_count": 11,
   "id": "354e4fe2",
   "metadata": {},
   "outputs": [
    {
     "name": "stderr",
     "output_type": "stream",
     "text": [
      "100%|██████████| 1000/1000 [00:00<00:00, 3220.86it/s]\n",
      "100%|██████████| 1000/1000 [00:41<00:00, 24.02it/s]\n",
      "/home/jkdamewo/miniconda3/envs/Perovskite_ML_Environment/lib/python3.10/site-packages/torch/jit/_check.py:181: UserWarning: The TorchScript type system doesn't support instance-level annotations on empty non-base types in `__init__`. Instead, either 1) use a type annotation in the class body, or 2) wrap the type in `torch.jit.Attribute`.\n",
      "  warnings.warn(\"The TorchScript type system doesn't support \"\n"
     ]
    }
   ],
   "source": [
    "train_loader = get_dataloader(data_unrelaxed,\"dft_e_hull\",\"e3nn\",4)\n",
    "model, Normalizer = create_model(\"e3nn\",train_loader)"
   ]
  },
  {
   "cell_type": "code",
   "execution_count": null,
   "id": "a8140450",
   "metadata": {},
   "outputs": [
    {
     "name": "stdout",
     "output_type": "stream",
     "text": [
      "{'MaxEpochs': 100, 'log_lr': -3, 'reduceLR_patience': 10, 'len_embedding_feature_vector': 64, 'num_hidden_feature': 128, 'num_hidden_layer': 2, 'multiplicity_irreps': 32, 'num_conv': 3, 'num_radical_basis': 10, 'num_radial_neurons': 100}\n"
     ]
    },
    {
     "name": "stderr",
     "output_type": "stream",
     "text": [
      "100%|██████████| 250/250 [00:14<00:00, 16.84it/s]\n"
     ]
    },
    {
     "name": "stdout",
     "output_type": "stream",
     "text": [
      "   1 ,lr = 0.00100000  train loss = 0.05312245  val loss = 0.05312245  time = 00:00:14\n"
     ]
    },
    {
     "name": "stderr",
     "output_type": "stream",
     "text": [
      "100%|██████████| 250/250 [00:12<00:00, 19.94it/s]\n"
     ]
    },
    {
     "name": "stdout",
     "output_type": "stream",
     "text": [
      "   2 ,lr = 0.00100000  train loss = 0.04595630  val loss = 0.04595630  time = 00:00:12\n"
     ]
    },
    {
     "name": "stderr",
     "output_type": "stream",
     "text": [
      "100%|██████████| 250/250 [00:11<00:00, 22.27it/s]\n"
     ]
    },
    {
     "name": "stdout",
     "output_type": "stream",
     "text": [
      "   3 ,lr = 0.00100000  train loss = 0.04239453  val loss = 0.04239453  time = 00:00:11\n"
     ]
    },
    {
     "name": "stderr",
     "output_type": "stream",
     "text": [
      "100%|██████████| 250/250 [00:11<00:00, 22.43it/s]\n"
     ]
    },
    {
     "name": "stdout",
     "output_type": "stream",
     "text": [
      "   4 ,lr = 0.00100000  train loss = 0.03977596  val loss = 0.03977596  time = 00:00:11\n"
     ]
    },
    {
     "name": "stderr",
     "output_type": "stream",
     "text": [
      "100%|██████████| 250/250 [00:10<00:00, 22.81it/s]\n"
     ]
    },
    {
     "name": "stdout",
     "output_type": "stream",
     "text": [
      "   5 ,lr = 0.00100000  train loss = 0.03478493  val loss = 0.03478493  time = 00:00:10\n"
     ]
    },
    {
     "name": "stderr",
     "output_type": "stream",
     "text": [
      "100%|██████████| 250/250 [00:10<00:00, 22.89it/s]\n"
     ]
    },
    {
     "name": "stdout",
     "output_type": "stream",
     "text": [
      "   6 ,lr = 0.00100000  train loss = 0.03415270  val loss = 0.03415270  time = 00:00:10\n"
     ]
    },
    {
     "name": "stderr",
     "output_type": "stream",
     "text": [
      "100%|██████████| 250/250 [00:11<00:00, 21.66it/s]\n"
     ]
    },
    {
     "name": "stdout",
     "output_type": "stream",
     "text": [
      "   7 ,lr = 0.00100000  train loss = 0.03082368  val loss = 0.03082368  time = 00:00:11\n"
     ]
    },
    {
     "name": "stderr",
     "output_type": "stream",
     "text": [
      "100%|██████████| 250/250 [00:10<00:00, 22.87it/s]\n"
     ]
    },
    {
     "name": "stdout",
     "output_type": "stream",
     "text": [
      "   8 ,lr = 0.00100000  train loss = 0.03194759  val loss = 0.03194759  time = 00:00:10\n"
     ]
    },
    {
     "name": "stderr",
     "output_type": "stream",
     "text": [
      "100%|██████████| 250/250 [00:10<00:00, 22.82it/s]\n"
     ]
    },
    {
     "name": "stdout",
     "output_type": "stream",
     "text": [
      "   9 ,lr = 0.00100000  train loss = 0.03114736  val loss = 0.03114736  time = 00:00:10\n"
     ]
    },
    {
     "name": "stderr",
     "output_type": "stream",
     "text": [
      "100%|██████████| 250/250 [00:11<00:00, 22.60it/s]\n"
     ]
    },
    {
     "name": "stdout",
     "output_type": "stream",
     "text": [
      "  10 ,lr = 0.00100000  train loss = 0.02733486  val loss = 0.02733486  time = 00:00:11\n"
     ]
    },
    {
     "name": "stderr",
     "output_type": "stream",
     "text": [
      "100%|██████████| 250/250 [00:10<00:00, 22.84it/s]\n"
     ]
    },
    {
     "name": "stdout",
     "output_type": "stream",
     "text": [
      "  11 ,lr = 0.00100000  train loss = 0.02694972  val loss = 0.02694972  time = 00:00:10\n"
     ]
    },
    {
     "name": "stderr",
     "output_type": "stream",
     "text": [
      "100%|██████████| 250/250 [00:12<00:00, 20.43it/s]\n"
     ]
    },
    {
     "name": "stdout",
     "output_type": "stream",
     "text": [
      "  12 ,lr = 0.00100000  train loss = 0.02919139  val loss = 0.02919139  time = 00:00:12\n"
     ]
    },
    {
     "name": "stderr",
     "output_type": "stream",
     "text": [
      "100%|██████████| 250/250 [00:11<00:00, 22.69it/s]\n"
     ]
    },
    {
     "name": "stdout",
     "output_type": "stream",
     "text": [
      "  13 ,lr = 0.00100000  train loss = 0.02673823  val loss = 0.02673823  time = 00:00:11\n"
     ]
    },
    {
     "name": "stderr",
     "output_type": "stream",
     "text": [
      "100%|██████████| 250/250 [00:11<00:00, 22.52it/s]\n"
     ]
    },
    {
     "name": "stdout",
     "output_type": "stream",
     "text": [
      "  14 ,lr = 0.00100000  train loss = 0.02555921  val loss = 0.02555921  time = 00:00:11\n"
     ]
    },
    {
     "name": "stderr",
     "output_type": "stream",
     "text": [
      "100%|██████████| 250/250 [00:11<00:00, 21.86it/s]\n"
     ]
    },
    {
     "name": "stdout",
     "output_type": "stream",
     "text": [
      "  15 ,lr = 0.00100000  train loss = 0.02595897  val loss = 0.02595897  time = 00:00:11\n"
     ]
    },
    {
     "name": "stderr",
     "output_type": "stream",
     "text": [
      "100%|██████████| 250/250 [00:12<00:00, 20.11it/s]\n"
     ]
    },
    {
     "name": "stdout",
     "output_type": "stream",
     "text": [
      "  16 ,lr = 0.00100000  train loss = 0.02576773  val loss = 0.02576774  time = 00:00:12\n"
     ]
    },
    {
     "name": "stderr",
     "output_type": "stream",
     "text": [
      "100%|██████████| 250/250 [00:11<00:00, 21.33it/s]\n"
     ]
    },
    {
     "name": "stdout",
     "output_type": "stream",
     "text": [
      "  17 ,lr = 0.00100000  train loss = 0.02302492  val loss = 0.02302492  time = 00:00:11\n"
     ]
    },
    {
     "name": "stderr",
     "output_type": "stream",
     "text": [
      "100%|██████████| 250/250 [00:11<00:00, 21.32it/s]\n"
     ]
    },
    {
     "name": "stdout",
     "output_type": "stream",
     "text": [
      "  18 ,lr = 0.00100000  train loss = 0.02291095  val loss = 0.02291095  time = 00:00:11\n"
     ]
    },
    {
     "name": "stderr",
     "output_type": "stream",
     "text": [
      "100%|██████████| 250/250 [00:11<00:00, 21.26it/s]\n"
     ]
    },
    {
     "name": "stdout",
     "output_type": "stream",
     "text": [
      "  19 ,lr = 0.00100000  train loss = 0.02331522  val loss = 0.02331522  time = 00:00:11\n"
     ]
    },
    {
     "name": "stderr",
     "output_type": "stream",
     "text": [
      "100%|██████████| 250/250 [00:11<00:00, 20.90it/s]\n"
     ]
    },
    {
     "name": "stdout",
     "output_type": "stream",
     "text": [
      "  20 ,lr = 0.00100000  train loss = 0.02229958  val loss = 0.02229958  time = 00:00:11\n"
     ]
    },
    {
     "name": "stderr",
     "output_type": "stream",
     "text": [
      "100%|██████████| 250/250 [00:11<00:00, 22.53it/s]\n"
     ]
    },
    {
     "name": "stdout",
     "output_type": "stream",
     "text": [
      "  21 ,lr = 0.00100000  train loss = 0.02035135  val loss = 0.02035135  time = 00:00:11\n"
     ]
    },
    {
     "name": "stderr",
     "output_type": "stream",
     "text": [
      "100%|██████████| 250/250 [00:10<00:00, 22.82it/s]\n"
     ]
    },
    {
     "name": "stdout",
     "output_type": "stream",
     "text": [
      "  22 ,lr = 0.00100000  train loss = 0.02280619  val loss = 0.02280619  time = 00:00:10\n"
     ]
    },
    {
     "name": "stderr",
     "output_type": "stream",
     "text": [
      "100%|██████████| 250/250 [00:11<00:00, 22.47it/s]\n"
     ]
    },
    {
     "name": "stdout",
     "output_type": "stream",
     "text": [
      "  23 ,lr = 0.00100000  train loss = 0.02055179  val loss = 0.02055179  time = 00:00:11\n"
     ]
    },
    {
     "name": "stderr",
     "output_type": "stream",
     "text": [
      "100%|██████████| 250/250 [00:11<00:00, 21.13it/s]\n"
     ]
    },
    {
     "name": "stdout",
     "output_type": "stream",
     "text": [
      "  24 ,lr = 0.00100000  train loss = 0.02056622  val loss = 0.02056622  time = 00:00:11\n"
     ]
    },
    {
     "name": "stderr",
     "output_type": "stream",
     "text": [
      "100%|██████████| 250/250 [00:11<00:00, 22.06it/s]\n"
     ]
    },
    {
     "name": "stdout",
     "output_type": "stream",
     "text": [
      "  25 ,lr = 0.00100000  train loss = 0.02077113  val loss = 0.02077113  time = 00:00:11\n"
     ]
    },
    {
     "name": "stderr",
     "output_type": "stream",
     "text": [
      "100%|██████████| 250/250 [00:11<00:00, 22.32it/s]\n"
     ]
    },
    {
     "name": "stdout",
     "output_type": "stream",
     "text": [
      "  26 ,lr = 0.00100000  train loss = 0.01843399  val loss = 0.01843399  time = 00:00:11\n"
     ]
    },
    {
     "name": "stderr",
     "output_type": "stream",
     "text": [
      "100%|██████████| 250/250 [00:10<00:00, 22.93it/s]\n"
     ]
    },
    {
     "name": "stdout",
     "output_type": "stream",
     "text": [
      "  27 ,lr = 0.00100000  train loss = 0.01774494  val loss = 0.01774494  time = 00:00:10\n"
     ]
    },
    {
     "name": "stderr",
     "output_type": "stream",
     "text": [
      "100%|██████████| 250/250 [00:11<00:00, 21.04it/s]\n"
     ]
    },
    {
     "name": "stdout",
     "output_type": "stream",
     "text": [
      "  28 ,lr = 0.00100000  train loss = 0.01765801  val loss = 0.01765801  time = 00:00:11\n"
     ]
    },
    {
     "name": "stderr",
     "output_type": "stream",
     "text": [
      "100%|██████████| 250/250 [00:11<00:00, 22.46it/s]\n"
     ]
    },
    {
     "name": "stdout",
     "output_type": "stream",
     "text": [
      "  29 ,lr = 0.00100000  train loss = 0.01760088  val loss = 0.01760088  time = 00:00:11\n"
     ]
    },
    {
     "name": "stderr",
     "output_type": "stream",
     "text": [
      "100%|██████████| 250/250 [00:11<00:00, 21.06it/s]\n"
     ]
    },
    {
     "name": "stdout",
     "output_type": "stream",
     "text": [
      "  30 ,lr = 0.00100000  train loss = 0.01791861  val loss = 0.01791861  time = 00:00:11\n"
     ]
    },
    {
     "name": "stderr",
     "output_type": "stream",
     "text": [
      "100%|██████████| 250/250 [00:10<00:00, 23.15it/s]\n"
     ]
    },
    {
     "name": "stdout",
     "output_type": "stream",
     "text": [
      "  31 ,lr = 0.00100000  train loss = 0.01687846  val loss = 0.01687846  time = 00:00:10\n"
     ]
    },
    {
     "name": "stderr",
     "output_type": "stream",
     "text": [
      "100%|██████████| 250/250 [00:10<00:00, 22.88it/s]\n"
     ]
    },
    {
     "name": "stdout",
     "output_type": "stream",
     "text": [
      "  32 ,lr = 0.00100000  train loss = 0.01682545  val loss = 0.01682545  time = 00:00:10\n"
     ]
    },
    {
     "name": "stderr",
     "output_type": "stream",
     "text": [
      "100%|██████████| 250/250 [00:11<00:00, 21.87it/s]\n"
     ]
    },
    {
     "name": "stdout",
     "output_type": "stream",
     "text": [
      "  33 ,lr = 0.00100000  train loss = 0.01957584  val loss = 0.01957584  time = 00:00:11\n"
     ]
    },
    {
     "name": "stderr",
     "output_type": "stream",
     "text": [
      "100%|██████████| 250/250 [00:14<00:00, 17.58it/s]\n"
     ]
    },
    {
     "name": "stdout",
     "output_type": "stream",
     "text": [
      "  34 ,lr = 0.00100000  train loss = 0.01530640  val loss = 0.01530640  time = 00:00:14\n"
     ]
    },
    {
     "name": "stderr",
     "output_type": "stream",
     "text": [
      "100%|██████████| 250/250 [00:11<00:00, 21.84it/s]\n"
     ]
    },
    {
     "name": "stdout",
     "output_type": "stream",
     "text": [
      "  35 ,lr = 0.00100000  train loss = 0.01693954  val loss = 0.01693954  time = 00:00:11\n"
     ]
    },
    {
     "name": "stderr",
     "output_type": "stream",
     "text": [
      "100%|██████████| 250/250 [00:11<00:00, 21.49it/s]\n"
     ]
    },
    {
     "name": "stdout",
     "output_type": "stream",
     "text": [
      "  36 ,lr = 0.00100000  train loss = 0.01515149  val loss = 0.01515149  time = 00:00:11\n"
     ]
    },
    {
     "name": "stderr",
     "output_type": "stream",
     "text": [
      "100%|██████████| 250/250 [00:11<00:00, 22.39it/s]\n"
     ]
    },
    {
     "name": "stdout",
     "output_type": "stream",
     "text": [
      "  37 ,lr = 0.00100000  train loss = 0.01491684  val loss = 0.01491684  time = 00:00:11\n"
     ]
    },
    {
     "name": "stderr",
     "output_type": "stream",
     "text": [
      "100%|██████████| 250/250 [00:11<00:00, 21.67it/s]\n"
     ]
    },
    {
     "name": "stdout",
     "output_type": "stream",
     "text": [
      "  38 ,lr = 0.00100000  train loss = 0.01459117  val loss = 0.01459117  time = 00:00:11\n"
     ]
    },
    {
     "name": "stderr",
     "output_type": "stream",
     "text": [
      "100%|██████████| 250/250 [00:10<00:00, 23.09it/s]\n"
     ]
    },
    {
     "name": "stdout",
     "output_type": "stream",
     "text": [
      "  39 ,lr = 0.00100000  train loss = 0.01465585  val loss = 0.01465585  time = 00:00:10\n"
     ]
    },
    {
     "name": "stderr",
     "output_type": "stream",
     "text": [
      "100%|██████████| 250/250 [00:10<00:00, 22.95it/s]\n"
     ]
    },
    {
     "name": "stdout",
     "output_type": "stream",
     "text": [
      "  40 ,lr = 0.00100000  train loss = 0.01460094  val loss = 0.01460094  time = 00:00:10\n"
     ]
    },
    {
     "name": "stderr",
     "output_type": "stream",
     "text": [
      "100%|██████████| 250/250 [00:10<00:00, 22.89it/s]\n"
     ]
    },
    {
     "name": "stdout",
     "output_type": "stream",
     "text": [
      "  41 ,lr = 0.00100000  train loss = 0.01381661  val loss = 0.01381661  time = 00:00:10\n"
     ]
    },
    {
     "name": "stderr",
     "output_type": "stream",
     "text": [
      "100%|██████████| 250/250 [00:10<00:00, 23.24it/s]\n"
     ]
    },
    {
     "name": "stdout",
     "output_type": "stream",
     "text": [
      "  42 ,lr = 0.00100000  train loss = 0.01360036  val loss = 0.01360036  time = 00:00:10\n"
     ]
    },
    {
     "name": "stderr",
     "output_type": "stream",
     "text": [
      "100%|██████████| 250/250 [00:11<00:00, 22.27it/s]\n"
     ]
    },
    {
     "name": "stdout",
     "output_type": "stream",
     "text": [
      "  43 ,lr = 0.00100000  train loss = 0.01263953  val loss = 0.01263953  time = 00:00:11\n"
     ]
    },
    {
     "name": "stderr",
     "output_type": "stream",
     "text": [
      "100%|██████████| 250/250 [00:10<00:00, 22.93it/s]\n"
     ]
    },
    {
     "name": "stdout",
     "output_type": "stream",
     "text": [
      "  44 ,lr = 0.00100000  train loss = 0.01464740  val loss = 0.01464740  time = 00:00:10\n"
     ]
    },
    {
     "name": "stderr",
     "output_type": "stream",
     "text": [
      "100%|██████████| 250/250 [00:11<00:00, 21.58it/s]\n"
     ]
    },
    {
     "name": "stdout",
     "output_type": "stream",
     "text": [
      "  45 ,lr = 0.00100000  train loss = 0.01288881  val loss = 0.01288881  time = 00:00:11\n"
     ]
    },
    {
     "name": "stderr",
     "output_type": "stream",
     "text": [
      "100%|██████████| 250/250 [00:11<00:00, 22.31it/s]\n"
     ]
    },
    {
     "name": "stdout",
     "output_type": "stream",
     "text": [
      "  46 ,lr = 0.00100000  train loss = 0.01239348  val loss = 0.01239348  time = 00:00:11\n"
     ]
    },
    {
     "name": "stderr",
     "output_type": "stream",
     "text": [
      "100%|██████████| 250/250 [00:11<00:00, 21.92it/s]\n"
     ]
    },
    {
     "name": "stdout",
     "output_type": "stream",
     "text": [
      "  47 ,lr = 0.00100000  train loss = 0.01328407  val loss = 0.01328407  time = 00:00:11\n"
     ]
    },
    {
     "name": "stderr",
     "output_type": "stream",
     "text": [
      "100%|██████████| 250/250 [00:11<00:00, 21.65it/s]\n"
     ]
    },
    {
     "name": "stdout",
     "output_type": "stream",
     "text": [
      "  48 ,lr = 0.00100000  train loss = 0.01219463  val loss = 0.01219463  time = 00:00:11\n"
     ]
    },
    {
     "name": "stderr",
     "output_type": "stream",
     "text": [
      "100%|██████████| 250/250 [00:10<00:00, 23.04it/s]\n"
     ]
    },
    {
     "name": "stdout",
     "output_type": "stream",
     "text": [
      "  49 ,lr = 0.00100000  train loss = 0.01242766  val loss = 0.01242766  time = 00:00:10\n"
     ]
    },
    {
     "name": "stderr",
     "output_type": "stream",
     "text": [
      "100%|██████████| 250/250 [00:10<00:00, 23.18it/s]\n"
     ]
    },
    {
     "name": "stdout",
     "output_type": "stream",
     "text": [
      "  50 ,lr = 0.00100000  train loss = 0.01144643  val loss = 0.01144643  time = 00:00:10\n"
     ]
    },
    {
     "name": "stderr",
     "output_type": "stream",
     "text": [
      "100%|██████████| 250/250 [00:10<00:00, 23.12it/s]\n"
     ]
    },
    {
     "name": "stdout",
     "output_type": "stream",
     "text": [
      "  51 ,lr = 0.00100000  train loss = 0.01184893  val loss = 0.01184893  time = 00:00:10\n"
     ]
    },
    {
     "name": "stderr",
     "output_type": "stream",
     "text": [
      "100%|██████████| 250/250 [00:10<00:00, 22.93it/s]\n"
     ]
    },
    {
     "name": "stdout",
     "output_type": "stream",
     "text": [
      "  52 ,lr = 0.00100000  train loss = 0.01287302  val loss = 0.01287302  time = 00:00:10\n"
     ]
    },
    {
     "name": "stderr",
     "output_type": "stream",
     "text": [
      "100%|██████████| 250/250 [00:10<00:00, 23.22it/s]\n"
     ]
    },
    {
     "name": "stdout",
     "output_type": "stream",
     "text": [
      "  53 ,lr = 0.00100000  train loss = 0.01160419  val loss = 0.01160419  time = 00:00:10\n"
     ]
    },
    {
     "name": "stderr",
     "output_type": "stream",
     "text": [
      "100%|██████████| 250/250 [00:11<00:00, 21.88it/s]\n"
     ]
    },
    {
     "name": "stdout",
     "output_type": "stream",
     "text": [
      "  54 ,lr = 0.00100000  train loss = 0.01055571  val loss = 0.01055571  time = 00:00:11\n"
     ]
    },
    {
     "name": "stderr",
     "output_type": "stream",
     "text": [
      "100%|██████████| 250/250 [00:11<00:00, 21.34it/s]\n"
     ]
    },
    {
     "name": "stdout",
     "output_type": "stream",
     "text": [
      "  55 ,lr = 0.00100000  train loss = 0.01067069  val loss = 0.01067069  time = 00:00:11\n"
     ]
    },
    {
     "name": "stderr",
     "output_type": "stream",
     "text": [
      "100%|██████████| 250/250 [00:10<00:00, 22.88it/s]\n"
     ]
    },
    {
     "name": "stdout",
     "output_type": "stream",
     "text": [
      "  56 ,lr = 0.00100000  train loss = 0.01122733  val loss = 0.01122733  time = 00:00:10\n"
     ]
    },
    {
     "name": "stderr",
     "output_type": "stream",
     "text": [
      "100%|██████████| 250/250 [00:11<00:00, 22.72it/s]\n"
     ]
    },
    {
     "name": "stdout",
     "output_type": "stream",
     "text": [
      "  57 ,lr = 0.00100000  train loss = 0.01032261  val loss = 0.01032261  time = 00:00:11\n"
     ]
    },
    {
     "name": "stderr",
     "output_type": "stream",
     "text": [
      "100%|██████████| 250/250 [00:11<00:00, 21.10it/s]\n"
     ]
    },
    {
     "name": "stdout",
     "output_type": "stream",
     "text": [
      "  58 ,lr = 0.00100000  train loss = 0.01006187  val loss = 0.01006187  time = 00:00:11\n"
     ]
    },
    {
     "name": "stderr",
     "output_type": "stream",
     "text": [
      "100%|██████████| 250/250 [00:11<00:00, 21.09it/s]\n"
     ]
    },
    {
     "name": "stdout",
     "output_type": "stream",
     "text": [
      "  59 ,lr = 0.00100000  train loss = 0.01050195  val loss = 0.01050195  time = 00:00:11\n"
     ]
    },
    {
     "name": "stderr",
     "output_type": "stream",
     "text": [
      "100%|██████████| 250/250 [00:11<00:00, 22.70it/s]\n"
     ]
    },
    {
     "name": "stdout",
     "output_type": "stream",
     "text": [
      "  60 ,lr = 0.00100000  train loss = 0.01062222  val loss = 0.01062222  time = 00:00:11\n"
     ]
    },
    {
     "name": "stderr",
     "output_type": "stream",
     "text": [
      "100%|██████████| 250/250 [00:10<00:00, 23.21it/s]\n"
     ]
    },
    {
     "name": "stdout",
     "output_type": "stream",
     "text": [
      "  61 ,lr = 0.00100000  train loss = 0.01127542  val loss = 0.01127542  time = 00:00:10\n"
     ]
    },
    {
     "name": "stderr",
     "output_type": "stream",
     "text": [
      "100%|██████████| 250/250 [00:10<00:00, 23.08it/s]\n"
     ]
    },
    {
     "name": "stdout",
     "output_type": "stream",
     "text": [
      "  62 ,lr = 0.00100000  train loss = 0.01014749  val loss = 0.01014749  time = 00:00:10\n"
     ]
    },
    {
     "name": "stderr",
     "output_type": "stream",
     "text": [
      "100%|██████████| 250/250 [00:10<00:00, 23.70it/s]\n"
     ]
    },
    {
     "name": "stdout",
     "output_type": "stream",
     "text": [
      "  63 ,lr = 0.00100000  train loss = 0.01048843  val loss = 0.01048843  time = 00:00:10\n"
     ]
    },
    {
     "name": "stderr",
     "output_type": "stream",
     "text": [
      "100%|██████████| 250/250 [00:10<00:00, 23.25it/s]\n"
     ]
    },
    {
     "name": "stdout",
     "output_type": "stream",
     "text": [
      "  64 ,lr = 0.00100000  train loss = 0.01153683  val loss = 0.01153683  time = 00:00:10\n"
     ]
    },
    {
     "name": "stderr",
     "output_type": "stream",
     "text": [
      "100%|██████████| 250/250 [00:10<00:00, 22.99it/s]\n"
     ]
    },
    {
     "name": "stdout",
     "output_type": "stream",
     "text": [
      "  65 ,lr = 0.00100000  train loss = 0.01016094  val loss = 0.01016094  time = 00:00:10\n"
     ]
    },
    {
     "name": "stderr",
     "output_type": "stream",
     "text": [
      "100%|██████████| 250/250 [00:10<00:00, 22.82it/s]\n"
     ]
    },
    {
     "name": "stdout",
     "output_type": "stream",
     "text": [
      "  66 ,lr = 0.00100000  train loss = 0.00906724  val loss = 0.00906724  time = 00:00:10\n"
     ]
    },
    {
     "name": "stderr",
     "output_type": "stream",
     "text": [
      "100%|██████████| 250/250 [00:11<00:00, 22.71it/s]\n"
     ]
    },
    {
     "name": "stdout",
     "output_type": "stream",
     "text": [
      "  67 ,lr = 0.00100000  train loss = 0.00879688  val loss = 0.00879688  time = 00:00:11\n"
     ]
    },
    {
     "name": "stderr",
     "output_type": "stream",
     "text": [
      "100%|██████████| 250/250 [00:11<00:00, 22.73it/s]\n"
     ]
    },
    {
     "name": "stdout",
     "output_type": "stream",
     "text": [
      "  68 ,lr = 0.00100000  train loss = 0.00877875  val loss = 0.00877875  time = 00:00:11\n"
     ]
    },
    {
     "name": "stderr",
     "output_type": "stream",
     "text": [
      "100%|██████████| 250/250 [00:10<00:00, 23.09it/s]\n"
     ]
    },
    {
     "name": "stdout",
     "output_type": "stream",
     "text": [
      "  69 ,lr = 0.00100000  train loss = 0.00864092  val loss = 0.00864092  time = 00:00:10\n"
     ]
    },
    {
     "name": "stderr",
     "output_type": "stream",
     "text": [
      "100%|██████████| 250/250 [00:11<00:00, 22.60it/s]\n"
     ]
    },
    {
     "name": "stdout",
     "output_type": "stream",
     "text": [
      "  70 ,lr = 0.00100000  train loss = 0.01035088  val loss = 0.01035088  time = 00:00:11\n"
     ]
    },
    {
     "name": "stderr",
     "output_type": "stream",
     "text": [
      "100%|██████████| 250/250 [00:10<00:00, 22.99it/s]\n"
     ]
    },
    {
     "name": "stdout",
     "output_type": "stream",
     "text": [
      "  71 ,lr = 0.00100000  train loss = 0.01059745  val loss = 0.01059745  time = 00:00:10\n"
     ]
    },
    {
     "name": "stderr",
     "output_type": "stream",
     "text": [
      "100%|██████████| 250/250 [00:11<00:00, 22.34it/s]\n"
     ]
    },
    {
     "name": "stdout",
     "output_type": "stream",
     "text": [
      "  72 ,lr = 0.00100000  train loss = 0.00811643  val loss = 0.00811643  time = 00:00:11\n"
     ]
    },
    {
     "name": "stderr",
     "output_type": "stream",
     "text": [
      "100%|██████████| 250/250 [00:10<00:00, 22.77it/s]\n"
     ]
    },
    {
     "name": "stdout",
     "output_type": "stream",
     "text": [
      "  73 ,lr = 0.00100000  train loss = 0.00893021  val loss = 0.00893021  time = 00:00:10\n"
     ]
    },
    {
     "name": "stderr",
     "output_type": "stream",
     "text": [
      "100%|██████████| 250/250 [00:10<00:00, 23.28it/s]\n"
     ]
    },
    {
     "name": "stdout",
     "output_type": "stream",
     "text": [
      "  74 ,lr = 0.00100000  train loss = 0.00836218  val loss = 0.00836218  time = 00:00:10\n"
     ]
    },
    {
     "name": "stderr",
     "output_type": "stream",
     "text": [
      "100%|██████████| 250/250 [00:11<00:00, 21.94it/s]\n"
     ]
    },
    {
     "name": "stdout",
     "output_type": "stream",
     "text": [
      "  75 ,lr = 0.00100000  train loss = 0.00965966  val loss = 0.00965966  time = 00:00:11\n"
     ]
    },
    {
     "name": "stderr",
     "output_type": "stream",
     "text": [
      "100%|██████████| 250/250 [00:10<00:00, 23.15it/s]\n"
     ]
    },
    {
     "name": "stdout",
     "output_type": "stream",
     "text": [
      "  76 ,lr = 0.00100000  train loss = 0.00862099  val loss = 0.00862100  time = 00:00:10\n"
     ]
    },
    {
     "name": "stderr",
     "output_type": "stream",
     "text": [
      "100%|██████████| 250/250 [00:11<00:00, 22.29it/s]\n"
     ]
    },
    {
     "name": "stdout",
     "output_type": "stream",
     "text": [
      "  77 ,lr = 0.00100000  train loss = 0.00828812  val loss = 0.00828812  time = 00:00:11\n"
     ]
    },
    {
     "name": "stderr",
     "output_type": "stream",
     "text": [
      "100%|██████████| 250/250 [00:11<00:00, 22.59it/s]\n"
     ]
    },
    {
     "name": "stdout",
     "output_type": "stream",
     "text": [
      "  78 ,lr = 0.00100000  train loss = 0.00774218  val loss = 0.00774218  time = 00:00:11\n"
     ]
    },
    {
     "name": "stderr",
     "output_type": "stream",
     "text": [
      "100%|██████████| 250/250 [00:11<00:00, 21.99it/s]\n"
     ]
    },
    {
     "name": "stdout",
     "output_type": "stream",
     "text": [
      "  79 ,lr = 0.00100000  train loss = 0.00871712  val loss = 0.00871712  time = 00:00:11\n"
     ]
    },
    {
     "name": "stderr",
     "output_type": "stream",
     "text": [
      "100%|██████████| 250/250 [00:10<00:00, 22.84it/s]\n"
     ]
    },
    {
     "name": "stdout",
     "output_type": "stream",
     "text": [
      "  80 ,lr = 0.00100000  train loss = 0.00899128  val loss = 0.00899128  time = 00:00:10\n"
     ]
    },
    {
     "name": "stderr",
     "output_type": "stream",
     "text": [
      "100%|██████████| 250/250 [00:10<00:00, 23.54it/s]\n"
     ]
    },
    {
     "name": "stdout",
     "output_type": "stream",
     "text": [
      "  81 ,lr = 0.00100000  train loss = 0.00801214  val loss = 0.00801214  time = 00:00:10\n"
     ]
    },
    {
     "name": "stderr",
     "output_type": "stream",
     "text": [
      "100%|██████████| 250/250 [00:11<00:00, 22.14it/s]\n"
     ]
    },
    {
     "name": "stdout",
     "output_type": "stream",
     "text": [
      "  82 ,lr = 0.00100000  train loss = 0.00889356  val loss = 0.00889356  time = 00:00:11\n"
     ]
    },
    {
     "name": "stderr",
     "output_type": "stream",
     "text": [
      "100%|██████████| 250/250 [00:11<00:00, 22.18it/s]\n"
     ]
    },
    {
     "name": "stdout",
     "output_type": "stream",
     "text": [
      "  83 ,lr = 0.00100000  train loss = 0.00741535  val loss = 0.00741535  time = 00:00:11\n"
     ]
    },
    {
     "name": "stderr",
     "output_type": "stream",
     "text": [
      "100%|██████████| 250/250 [00:11<00:00, 22.33it/s]\n"
     ]
    },
    {
     "name": "stdout",
     "output_type": "stream",
     "text": [
      "  84 ,lr = 0.00100000  train loss = 0.00890179  val loss = 0.00890179  time = 00:00:11\n"
     ]
    },
    {
     "name": "stderr",
     "output_type": "stream",
     "text": [
      "100%|██████████| 250/250 [00:10<00:00, 23.41it/s]\n"
     ]
    },
    {
     "name": "stdout",
     "output_type": "stream",
     "text": [
      "  85 ,lr = 0.00100000  train loss = 0.00826617  val loss = 0.00826617  time = 00:00:10\n"
     ]
    },
    {
     "name": "stderr",
     "output_type": "stream",
     "text": [
      "100%|██████████| 250/250 [00:10<00:00, 22.83it/s]\n"
     ]
    },
    {
     "name": "stdout",
     "output_type": "stream",
     "text": [
      "  86 ,lr = 0.00100000  train loss = 0.00791317  val loss = 0.00791317  time = 00:00:10\n"
     ]
    },
    {
     "name": "stderr",
     "output_type": "stream",
     "text": [
      "100%|██████████| 250/250 [00:10<00:00, 23.33it/s]\n"
     ]
    },
    {
     "name": "stdout",
     "output_type": "stream",
     "text": [
      "  87 ,lr = 0.00100000  train loss = 0.00905598  val loss = 0.00905598  time = 00:00:10\n"
     ]
    },
    {
     "name": "stderr",
     "output_type": "stream",
     "text": [
      "100%|██████████| 250/250 [00:10<00:00, 23.12it/s]\n"
     ]
    },
    {
     "name": "stdout",
     "output_type": "stream",
     "text": [
      "  88 ,lr = 0.00100000  train loss = 0.00864631  val loss = 0.00864631  time = 00:00:10\n"
     ]
    },
    {
     "name": "stderr",
     "output_type": "stream",
     "text": [
      "100%|██████████| 250/250 [00:10<00:00, 23.16it/s]\n"
     ]
    },
    {
     "name": "stdout",
     "output_type": "stream",
     "text": [
      "  89 ,lr = 0.00100000  train loss = 0.00968523  val loss = 0.00968523  time = 00:00:10\n"
     ]
    },
    {
     "name": "stderr",
     "output_type": "stream",
     "text": [
      "100%|██████████| 250/250 [00:11<00:00, 22.47it/s]\n"
     ]
    },
    {
     "name": "stdout",
     "output_type": "stream",
     "text": [
      "  90 ,lr = 0.00100000  train loss = 0.00749483  val loss = 0.00749483  time = 00:00:11\n"
     ]
    },
    {
     "name": "stderr",
     "output_type": "stream",
     "text": [
      "100%|██████████| 250/250 [00:10<00:00, 23.20it/s]\n"
     ]
    },
    {
     "name": "stdout",
     "output_type": "stream",
     "text": [
      "  91 ,lr = 0.00100000  train loss = 0.00720658  val loss = 0.00720658  time = 00:00:10\n"
     ]
    },
    {
     "name": "stderr",
     "output_type": "stream",
     "text": [
      "100%|██████████| 250/250 [00:11<00:00, 22.67it/s]\n"
     ]
    },
    {
     "name": "stdout",
     "output_type": "stream",
     "text": [
      "  92 ,lr = 0.00100000  train loss = 0.00685824  val loss = 0.00685824  time = 00:00:11\n"
     ]
    },
    {
     "name": "stderr",
     "output_type": "stream",
     "text": [
      "100%|██████████| 250/250 [00:10<00:00, 23.39it/s]\n"
     ]
    },
    {
     "name": "stdout",
     "output_type": "stream",
     "text": [
      "  93 ,lr = 0.00100000  train loss = 0.00780894  val loss = 0.00780894  time = 00:00:10\n"
     ]
    },
    {
     "name": "stderr",
     "output_type": "stream",
     "text": [
      "100%|██████████| 250/250 [00:10<00:00, 23.05it/s]\n"
     ]
    },
    {
     "name": "stdout",
     "output_type": "stream",
     "text": [
      "  94 ,lr = 0.00100000  train loss = 0.00866732  val loss = 0.00866733  time = 00:00:10\n"
     ]
    },
    {
     "name": "stderr",
     "output_type": "stream",
     "text": [
      "100%|██████████| 250/250 [00:10<00:00, 22.85it/s]\n"
     ]
    },
    {
     "name": "stdout",
     "output_type": "stream",
     "text": [
      "  95 ,lr = 0.00100000  train loss = 0.00769795  val loss = 0.00769795  time = 00:00:10\n"
     ]
    },
    {
     "name": "stderr",
     "output_type": "stream",
     "text": [
      "100%|██████████| 250/250 [00:10<00:00, 22.87it/s]\n"
     ]
    },
    {
     "name": "stdout",
     "output_type": "stream",
     "text": [
      "  96 ,lr = 0.00100000  train loss = 0.00800953  val loss = 0.00800953  time = 00:00:10\n"
     ]
    },
    {
     "name": "stderr",
     "output_type": "stream",
     "text": [
      "100%|██████████| 250/250 [00:10<00:00, 22.96it/s]\n"
     ]
    },
    {
     "name": "stdout",
     "output_type": "stream",
     "text": [
      "  97 ,lr = 0.00100000  train loss = 0.00745240  val loss = 0.00745240  time = 00:00:10\n"
     ]
    },
    {
     "name": "stderr",
     "output_type": "stream",
     "text": [
      "100%|██████████| 250/250 [00:10<00:00, 22.95it/s]\n"
     ]
    },
    {
     "name": "stdout",
     "output_type": "stream",
     "text": [
      "  98 ,lr = 0.00100000  train loss = 0.00693857  val loss = 0.00693857  time = 00:00:10\n"
     ]
    },
    {
     "name": "stderr",
     "output_type": "stream",
     "text": [
      "100%|██████████| 250/250 [00:11<00:00, 22.65it/s]\n"
     ]
    },
    {
     "name": "stdout",
     "output_type": "stream",
     "text": [
      "  99 ,lr = 0.00100000  train loss = 0.00853742  val loss = 0.00853742  time = 00:00:11\n"
     ]
    },
    {
     "name": "stderr",
     "output_type": "stream",
     "text": [
      " 87%|████████▋ | 218/250 [00:09<00:01, 23.80it/s]"
     ]
    }
   ],
   "source": [
    "hyperparameters = get_default_e3nn_hyperparameters()\n",
    "print(hyperparameters)\n",
    "best_model, loss_fn = trainer(model,Normalizer,'e3nn',train_loader,train_loader,hyperparameters,\"saved_models/e3nn/Scrap\",0)"
   ]
  },
  {
   "cell_type": "code",
   "execution_count": null,
   "id": "300725c6",
   "metadata": {},
   "outputs": [
    {
     "name": "stderr",
     "output_type": "stream",
     "text": [
      "100%|██████████| 1000/1000 [00:00<00:00, 3916.26it/s]\n"
     ]
    }
   ],
   "source": [
    "train_loader = get_dataloader(data_unrelaxed,\"dft_e_hull\",\"e3nn_contrastive\",4)\n",
    "model, Normalizer = create_model(\"e3nn_contrastive\",train_loader)"
   ]
  },
  {
   "cell_type": "code",
   "execution_count": 14,
   "id": "defa8607",
   "metadata": {},
   "outputs": [
    {
     "name": "stdout",
     "output_type": "stream",
     "text": [
      "{'MaxEpochs': 100, 'log_lr': -3, 'reduceLR_patience': 10, 'len_embedding_feature_vector': 64, 'num_hidden_feature': 128, 'num_hidden_layer': 2, 'multiplicity_irreps': 32, 'num_conv': 3, 'num_radical_basis': 10, 'num_radial_neurons': 100}\n"
     ]
    },
    {
     "name": "stderr",
     "output_type": "stream",
     "text": [
      "100%|██████████| 62/62 [00:04<00:00, 12.62it/s]\n"
     ]
    },
    {
     "name": "stdout",
     "output_type": "stream",
     "text": [
      "   1 ,lr = 0.00100000  train loss = 0.09026144  train direct = 0.05659820  train contrastive = 0.03534625  val loss = 0.08763504  val direct = 0.05659820  val contrastive = 0.03534625  time = 00:00:04\n"
     ]
    },
    {
     "name": "stderr",
     "output_type": "stream",
     "text": [
      "100%|██████████| 62/62 [00:03<00:00, 18.06it/s]\n"
     ]
    },
    {
     "name": "stdout",
     "output_type": "stream",
     "text": [
      "   2 ,lr = 0.00100000  train loss = 0.09127145  train direct = 0.05656624  train contrastive = 0.03675716  val loss = 0.08866601  val direct = 0.05656624  val contrastive = 0.03534626  time = 00:00:03\n"
     ]
    },
    {
     "name": "stderr",
     "output_type": "stream",
     "text": [
      "100%|██████████| 62/62 [00:03<00:00, 18.03it/s]\n"
     ]
    },
    {
     "name": "stdout",
     "output_type": "stream",
     "text": [
      "   3 ,lr = 0.00100000  train loss = 0.08506016  train direct = 0.05242038  train contrastive = 0.03531514  val loss = 0.08724790  val direct = 0.05242038  val contrastive = 0.03769035  time = 00:00:03\n"
     ]
    },
    {
     "name": "stderr",
     "output_type": "stream",
     "text": [
      "100%|██████████| 62/62 [00:03<00:00, 17.71it/s]\n"
     ]
    },
    {
     "name": "stdout",
     "output_type": "stream",
     "text": [
      "   4 ,lr = 0.00100000  train loss = 0.08635270  train direct = 0.05088500  train contrastive = 0.03514690  val loss = 0.08501197  val direct = 0.05088500  val contrastive = 0.03631871  time = 00:00:03\n"
     ]
    },
    {
     "name": "stderr",
     "output_type": "stream",
     "text": [
      "100%|██████████| 62/62 [00:03<00:00, 18.34it/s]\n"
     ]
    },
    {
     "name": "stdout",
     "output_type": "stream",
     "text": [
      "   5 ,lr = 0.00100000  train loss = 0.07836424  train direct = 0.04526405  train contrastive = 0.03480202  val loss = 0.07738869  val direct = 0.04526405  val contrastive = 0.03563215  time = 00:00:03\n"
     ]
    },
    {
     "name": "stderr",
     "output_type": "stream",
     "text": [
      "100%|██████████| 62/62 [00:03<00:00, 17.58it/s]\n"
     ]
    },
    {
     "name": "stdout",
     "output_type": "stream",
     "text": [
      "   6 ,lr = 0.00100000  train loss = 0.07393267  train direct = 0.03914799  train contrastive = 0.03488430  val loss = 0.07314638  val direct = 0.03914799  val contrastive = 0.03544678  time = 00:00:03\n"
     ]
    },
    {
     "name": "stderr",
     "output_type": "stream",
     "text": [
      "100%|██████████| 62/62 [00:03<00:00, 18.11it/s]\n"
     ]
    },
    {
     "name": "stdout",
     "output_type": "stream",
     "text": [
      "   7 ,lr = 0.00100000  train loss = 0.07925214  train direct = 0.04400936  train contrastive = 0.03472424  val loss = 0.07467882  val direct = 0.04400936  val contrastive = 0.03490202  time = 00:00:03\n"
     ]
    },
    {
     "name": "stderr",
     "output_type": "stream",
     "text": [
      "100%|██████████| 62/62 [00:03<00:00, 17.90it/s]\n"
     ]
    },
    {
     "name": "stdout",
     "output_type": "stream",
     "text": [
      "   8 ,lr = 0.00100000  train loss = 0.06858858  train direct = 0.03731303  train contrastive = 0.03454731  val loss = 0.07184255  val direct = 0.03731303  val contrastive = 0.03633932  time = 00:00:03\n"
     ]
    },
    {
     "name": "stderr",
     "output_type": "stream",
     "text": [
      "100%|██████████| 62/62 [00:03<00:00, 17.99it/s]\n"
     ]
    },
    {
     "name": "stdout",
     "output_type": "stream",
     "text": [
      "   9 ,lr = 0.00100000  train loss = 0.07254445  train direct = 0.03960142  train contrastive = 0.03445044  val loss = 0.07406075  val direct = 0.03960143  val contrastive = 0.03497452  time = 00:00:03\n"
     ]
    },
    {
     "name": "stderr",
     "output_type": "stream",
     "text": [
      "100%|██████████| 62/62 [00:03<00:00, 18.18it/s]\n"
     ]
    },
    {
     "name": "stdout",
     "output_type": "stream",
     "text": [
      "  10 ,lr = 0.00100000  train loss = 0.06656640  train direct = 0.03368330  train contrastive = 0.03424335  val loss = 0.06572930  val direct = 0.03368330  val contrastive = 0.03462471  time = 00:00:03\n"
     ]
    },
    {
     "name": "stderr",
     "output_type": "stream",
     "text": [
      "100%|██████████| 62/62 [00:03<00:00, 18.40it/s]\n"
     ]
    },
    {
     "name": "stdout",
     "output_type": "stream",
     "text": [
      "  11 ,lr = 0.00100000  train loss = 0.06602746  train direct = 0.03400278  train contrastive = 0.03320388  val loss = 0.06621247  val direct = 0.03400278  val contrastive = 0.03320388  time = 00:00:03\n"
     ]
    },
    {
     "name": "stderr",
     "output_type": "stream",
     "text": [
      "100%|██████████| 62/62 [00:03<00:00, 17.83it/s]\n"
     ]
    },
    {
     "name": "stdout",
     "output_type": "stream",
     "text": [
      "  12 ,lr = 0.00100000  train loss = 0.06294535  train direct = 0.03186482  train contrastive = 0.03145257  val loss = 0.06189865  val direct = 0.03186482  val contrastive = 0.03151985  time = 00:00:03\n"
     ]
    },
    {
     "name": "stderr",
     "output_type": "stream",
     "text": [
      "100%|██████████| 62/62 [00:03<00:00, 18.29it/s]\n"
     ]
    },
    {
     "name": "stdout",
     "output_type": "stream",
     "text": [
      "  13 ,lr = 0.00100000  train loss = 0.06149955  train direct = 0.03074538  train contrastive = 0.03099633  val loss = 0.06038741  val direct = 0.03074538  val contrastive = 0.03050100  time = 00:00:03\n"
     ]
    },
    {
     "name": "stderr",
     "output_type": "stream",
     "text": [
      "100%|██████████| 62/62 [00:03<00:00, 18.20it/s]\n"
     ]
    },
    {
     "name": "stdout",
     "output_type": "stream",
     "text": [
      "  14 ,lr = 0.00100000  train loss = 0.06452083  train direct = 0.03232441  train contrastive = 0.03216091  val loss = 0.06134958  val direct = 0.03232441  val contrastive = 0.03101698  time = 00:00:03\n"
     ]
    },
    {
     "name": "stderr",
     "output_type": "stream",
     "text": [
      "100%|██████████| 62/62 [00:03<00:00, 18.06it/s]\n"
     ]
    },
    {
     "name": "stdout",
     "output_type": "stream",
     "text": [
      "  15 ,lr = 0.00100000  train loss = 0.05853675  train direct = 0.02945917  train contrastive = 0.03052497  val loss = 0.06062591  val direct = 0.02945917  val contrastive = 0.03052497  time = 00:00:03\n"
     ]
    },
    {
     "name": "stderr",
     "output_type": "stream",
     "text": [
      "100%|██████████| 62/62 [00:03<00:00, 18.02it/s]\n"
     ]
    },
    {
     "name": "stdout",
     "output_type": "stream",
     "text": [
      "  16 ,lr = 0.00100000  train loss = 0.06136692  train direct = 0.03124665  train contrastive = 0.03183500  val loss = 0.05996547  val direct = 0.03124665  val contrastive = 0.03258396  time = 00:00:03\n"
     ]
    },
    {
     "name": "stderr",
     "output_type": "stream",
     "text": [
      "100%|██████████| 62/62 [00:03<00:00, 18.34it/s]\n"
     ]
    },
    {
     "name": "stdout",
     "output_type": "stream",
     "text": [
      "  17 ,lr = 0.00100000  train loss = 0.05739381  train direct = 0.02879442  train contrastive = 0.03001685  val loss = 0.05712369  val direct = 0.02879442  val contrastive = 0.03001685  time = 00:00:03\n"
     ]
    },
    {
     "name": "stderr",
     "output_type": "stream",
     "text": [
      "100%|██████████| 62/62 [00:03<00:00, 17.99it/s]\n"
     ]
    },
    {
     "name": "stdout",
     "output_type": "stream",
     "text": [
      "  18 ,lr = 0.00100000  train loss = 0.05972051  train direct = 0.03103612  train contrastive = 0.03060677  val loss = 0.05812422  val direct = 0.03103612  val contrastive = 0.03035615  time = 00:00:03\n"
     ]
    },
    {
     "name": "stderr",
     "output_type": "stream",
     "text": [
      "100%|██████████| 62/62 [00:03<00:00, 17.87it/s]\n"
     ]
    },
    {
     "name": "stdout",
     "output_type": "stream",
     "text": [
      "  19 ,lr = 0.00100000  train loss = 0.05692686  train direct = 0.02793924  train contrastive = 0.02989511  val loss = 0.05556416  val direct = 0.02793924  val contrastive = 0.03038057  time = 00:00:03\n"
     ]
    },
    {
     "name": "stderr",
     "output_type": "stream",
     "text": [
      "100%|██████████| 62/62 [00:03<00:00, 17.76it/s]\n"
     ]
    },
    {
     "name": "stdout",
     "output_type": "stream",
     "text": [
      "  20 ,lr = 0.00100000  train loss = 0.06522234  train direct = 0.03784765  train contrastive = 0.02960516  val loss = 0.06735428  val direct = 0.03784765  val contrastive = 0.02960516  time = 00:00:03\n"
     ]
    },
    {
     "name": "stderr",
     "output_type": "stream",
     "text": [
      "100%|██████████| 62/62 [00:03<00:00, 18.10it/s]\n"
     ]
    },
    {
     "name": "stdout",
     "output_type": "stream",
     "text": [
      "  21 ,lr = 0.00100000  train loss = 0.05779717  train direct = 0.02876810  train contrastive = 0.02886300  val loss = 0.05575138  val direct = 0.02876809  val contrastive = 0.02886300  time = 00:00:03\n"
     ]
    },
    {
     "name": "stderr",
     "output_type": "stream",
     "text": [
      "100%|██████████| 62/62 [00:03<00:00, 17.86it/s]\n"
     ]
    },
    {
     "name": "stdout",
     "output_type": "stream",
     "text": [
      "  22 ,lr = 0.00100000  train loss = 0.05563067  train direct = 0.02981467  train contrastive = 0.02841362  val loss = 0.05757313  val direct = 0.02981467  val contrastive = 0.02984584  time = 00:00:03\n"
     ]
    },
    {
     "name": "stderr",
     "output_type": "stream",
     "text": [
      "100%|██████████| 62/62 [00:03<00:00, 17.46it/s]\n"
     ]
    },
    {
     "name": "stdout",
     "output_type": "stream",
     "text": [
      "  23 ,lr = 0.00100000  train loss = 0.05353707  train direct = 0.02653435  train contrastive = 0.02818953  val loss = 0.05326599  val direct = 0.02653435  val contrastive = 0.02902193  time = 00:00:03\n"
     ]
    },
    {
     "name": "stderr",
     "output_type": "stream",
     "text": [
      "100%|██████████| 62/62 [00:03<00:00, 17.91it/s]\n"
     ]
    },
    {
     "name": "stdout",
     "output_type": "stream",
     "text": [
      "  24 ,lr = 0.00100000  train loss = 0.05388240  train direct = 0.02670976  train contrastive = 0.02874950  val loss = 0.05291121  val direct = 0.02670976  val contrastive = 0.02789049  time = 00:00:03\n"
     ]
    },
    {
     "name": "stderr",
     "output_type": "stream",
     "text": [
      "100%|██████████| 62/62 [00:03<00:00, 17.93it/s]\n"
     ]
    },
    {
     "name": "stdout",
     "output_type": "stream",
     "text": [
      "  25 ,lr = 0.00100000  train loss = 0.05307778  train direct = 0.02551152  train contrastive = 0.02735556  val loss = 0.05144436  val direct = 0.02551152  val contrastive = 0.02685493  time = 00:00:03\n"
     ]
    },
    {
     "name": "stderr",
     "output_type": "stream",
     "text": [
      "100%|██████████| 62/62 [00:03<00:00, 17.74it/s]\n"
     ]
    },
    {
     "name": "stdout",
     "output_type": "stream",
     "text": [
      "  26 ,lr = 0.00100000  train loss = 0.05881991  train direct = 0.03289059  train contrastive = 0.02745308  val loss = 0.05861455  val direct = 0.03289059  val contrastive = 0.02745308  time = 00:00:03\n"
     ]
    },
    {
     "name": "stderr",
     "output_type": "stream",
     "text": [
      "100%|██████████| 62/62 [00:03<00:00, 17.10it/s]\n"
     ]
    },
    {
     "name": "stdout",
     "output_type": "stream",
     "text": [
      "  27 ,lr = 0.00100000  train loss = 0.05070858  train direct = 0.02460743  train contrastive = 0.02820453  val loss = 0.05192656  val direct = 0.02460743  val contrastive = 0.02708778  time = 00:00:03\n"
     ]
    },
    {
     "name": "stderr",
     "output_type": "stream",
     "text": [
      "100%|██████████| 62/62 [00:03<00:00, 18.22it/s]\n"
     ]
    },
    {
     "name": "stdout",
     "output_type": "stream",
     "text": [
      "  28 ,lr = 0.00100000  train loss = 0.05152171  train direct = 0.02627238  train contrastive = 0.02620312  val loss = 0.05278026  val direct = 0.02627238  val contrastive = 0.02659574  time = 00:00:03\n"
     ]
    },
    {
     "name": "stderr",
     "output_type": "stream",
     "text": [
      "100%|██████████| 62/62 [00:03<00:00, 17.67it/s]\n"
     ]
    },
    {
     "name": "stdout",
     "output_type": "stream",
     "text": [
      "  29 ,lr = 0.00100000  train loss = 0.05224598  train direct = 0.02583907  train contrastive = 0.02616240  val loss = 0.05124813  val direct = 0.02583907  val contrastive = 0.02665175  time = 00:00:03\n"
     ]
    },
    {
     "name": "stderr",
     "output_type": "stream",
     "text": [
      "100%|██████████| 62/62 [00:03<00:00, 17.76it/s]\n"
     ]
    },
    {
     "name": "stdout",
     "output_type": "stream",
     "text": [
      "  30 ,lr = 0.00100000  train loss = 0.04839584  train direct = 0.02332435  train contrastive = 0.02510357  val loss = 0.04793783  val direct = 0.02332435  val contrastive = 0.02611143  time = 00:00:03\n"
     ]
    },
    {
     "name": "stderr",
     "output_type": "stream",
     "text": [
      "100%|██████████| 62/62 [00:03<00:00, 17.64it/s]\n"
     ]
    },
    {
     "name": "stdout",
     "output_type": "stream",
     "text": [
      "  31 ,lr = 0.00100000  train loss = 0.04881163  train direct = 0.02368847  train contrastive = 0.02588225  val loss = 0.04791367  val direct = 0.02368847  val contrastive = 0.02659673  time = 00:00:03\n"
     ]
    },
    {
     "name": "stderr",
     "output_type": "stream",
     "text": [
      "100%|██████████| 62/62 [00:03<00:00, 17.26it/s]\n"
     ]
    },
    {
     "name": "stdout",
     "output_type": "stream",
     "text": [
      "  32 ,lr = 0.00100000  train loss = 0.04710205  train direct = 0.02352048  train contrastive = 0.02526870  val loss = 0.04892407  val direct = 0.02352048  val contrastive = 0.02543477  time = 00:00:03\n"
     ]
    },
    {
     "name": "stderr",
     "output_type": "stream",
     "text": [
      "100%|██████████| 62/62 [00:03<00:00, 17.84it/s]\n"
     ]
    },
    {
     "name": "stdout",
     "output_type": "stream",
     "text": [
      "  33 ,lr = 0.00100000  train loss = 0.04603781  train direct = 0.02352851  train contrastive = 0.02485462  val loss = 0.04722364  val direct = 0.02352851  val contrastive = 0.02405339  time = 00:00:03\n"
     ]
    },
    {
     "name": "stderr",
     "output_type": "stream",
     "text": [
      "100%|██████████| 62/62 [00:03<00:00, 17.77it/s]\n"
     ]
    },
    {
     "name": "stdout",
     "output_type": "stream",
     "text": [
      "  34 ,lr = 0.00100000  train loss = 0.04636633  train direct = 0.02389140  train contrastive = 0.02389409  val loss = 0.04705333  val direct = 0.02389140  val contrastive = 0.02400628  time = 00:00:03\n"
     ]
    },
    {
     "name": "stderr",
     "output_type": "stream",
     "text": [
      "100%|██████████| 62/62 [00:03<00:00, 17.37it/s]\n"
     ]
    },
    {
     "name": "stdout",
     "output_type": "stream",
     "text": [
      "  35 ,lr = 0.00100000  train loss = 0.04927918  train direct = 0.02707322  train contrastive = 0.02235031  val loss = 0.04908683  val direct = 0.02707322  val contrastive = 0.02239354  time = 00:00:03\n"
     ]
    },
    {
     "name": "stderr",
     "output_type": "stream",
     "text": [
      "100%|██████████| 62/62 [00:03<00:00, 17.58it/s]\n"
     ]
    },
    {
     "name": "stdout",
     "output_type": "stream",
     "text": [
      "  36 ,lr = 0.00100000  train loss = 0.04490591  train direct = 0.02209281  train contrastive = 0.02426805  val loss = 0.04549256  val direct = 0.02209281  val contrastive = 0.02426806  time = 00:00:03\n"
     ]
    },
    {
     "name": "stderr",
     "output_type": "stream",
     "text": [
      "100%|██████████| 62/62 [00:03<00:00, 17.96it/s]\n"
     ]
    },
    {
     "name": "stdout",
     "output_type": "stream",
     "text": [
      "  37 ,lr = 0.00100000  train loss = 0.04310349  train direct = 0.02203073  train contrastive = 0.02176015  val loss = 0.04321958  val direct = 0.02203073  val contrastive = 0.02176015  time = 00:00:03\n"
     ]
    },
    {
     "name": "stderr",
     "output_type": "stream",
     "text": [
      "100%|██████████| 62/62 [00:03<00:00, 17.59it/s]\n"
     ]
    },
    {
     "name": "stdout",
     "output_type": "stream",
     "text": [
      "  38 ,lr = 0.00100000  train loss = 0.05170946  train direct = 0.02905267  train contrastive = 0.02275597  val loss = 0.05119473  val direct = 0.02905267  val contrastive = 0.02335180  time = 00:00:03\n"
     ]
    },
    {
     "name": "stderr",
     "output_type": "stream",
     "text": [
      "100%|██████████| 62/62 [00:03<00:00, 17.49it/s]\n"
     ]
    },
    {
     "name": "stdout",
     "output_type": "stream",
     "text": [
      "  39 ,lr = 0.00100000  train loss = 0.04700298  train direct = 0.02307436  train contrastive = 0.02326328  val loss = 0.04598551  val direct = 0.02307436  val contrastive = 0.02395553  time = 00:00:03\n"
     ]
    },
    {
     "name": "stderr",
     "output_type": "stream",
     "text": [
      "100%|██████████| 62/62 [00:03<00:00, 17.48it/s]\n"
     ]
    },
    {
     "name": "stdout",
     "output_type": "stream",
     "text": [
      "  40 ,lr = 0.00100000  train loss = 0.04531264  train direct = 0.02250237  train contrastive = 0.02245382  val loss = 0.04325670  val direct = 0.02250237  val contrastive = 0.02233897  time = 00:00:03\n"
     ]
    },
    {
     "name": "stderr",
     "output_type": "stream",
     "text": [
      "100%|██████████| 62/62 [00:03<00:00, 17.83it/s]\n"
     ]
    },
    {
     "name": "stdout",
     "output_type": "stream",
     "text": [
      "  41 ,lr = 0.00100000  train loss = 0.04123405  train direct = 0.02141644  train contrastive = 0.01990891  val loss = 0.03991974  val direct = 0.02141644  val contrastive = 0.01990891  time = 00:00:03\n"
     ]
    },
    {
     "name": "stderr",
     "output_type": "stream",
     "text": [
      "100%|██████████| 62/62 [00:03<00:00, 17.74it/s]\n"
     ]
    },
    {
     "name": "stdout",
     "output_type": "stream",
     "text": [
      "  42 ,lr = 0.00100000  train loss = 0.04773647  train direct = 0.02718618  train contrastive = 0.02071855  val loss = 0.04762371  val direct = 0.02718618  val contrastive = 0.02106579  time = 00:00:03\n"
     ]
    },
    {
     "name": "stderr",
     "output_type": "stream",
     "text": [
      "100%|██████████| 62/62 [00:03<00:00, 17.80it/s]\n"
     ]
    },
    {
     "name": "stdout",
     "output_type": "stream",
     "text": [
      "  43 ,lr = 0.00100000  train loss = 0.04309815  train direct = 0.02170908  train contrastive = 0.02135733  val loss = 0.04218837  val direct = 0.02170908  val contrastive = 0.02411243  time = 00:00:03\n"
     ]
    },
    {
     "name": "stderr",
     "output_type": "stream",
     "text": [
      "100%|██████████| 62/62 [00:03<00:00, 17.82it/s]\n"
     ]
    },
    {
     "name": "stdout",
     "output_type": "stream",
     "text": [
      "  44 ,lr = 0.00100000  train loss = 0.04895119  train direct = 0.01854244  train contrastive = 0.01918834  val loss = 0.03627689  val direct = 0.01854244  val contrastive = 0.01918834  time = 00:00:03\n"
     ]
    },
    {
     "name": "stderr",
     "output_type": "stream",
     "text": [
      "100%|██████████| 62/62 [00:03<00:00, 17.92it/s]\n"
     ]
    },
    {
     "name": "stdout",
     "output_type": "stream",
     "text": [
      "  45 ,lr = 0.00100000  train loss = 0.04190807  train direct = 0.02124281  train contrastive = 0.02069498  val loss = 0.04054897  val direct = 0.02124281  val contrastive = 0.02000709  time = 00:00:03\n"
     ]
    },
    {
     "name": "stderr",
     "output_type": "stream",
     "text": [
      "100%|██████████| 62/62 [00:03<00:00, 17.99it/s]\n"
     ]
    },
    {
     "name": "stdout",
     "output_type": "stream",
     "text": [
      "  46 ,lr = 0.00100000  train loss = 0.03693576  train direct = 0.01881722  train contrastive = 0.01806418  val loss = 0.03731377  val direct = 0.01881722  val contrastive = 0.01806418  time = 00:00:03\n"
     ]
    },
    {
     "name": "stderr",
     "output_type": "stream",
     "text": [
      "100%|██████████| 62/62 [00:03<00:00, 17.71it/s]\n"
     ]
    },
    {
     "name": "stdout",
     "output_type": "stream",
     "text": [
      "  47 ,lr = 0.00100000  train loss = 0.03707963  train direct = 0.01857189  train contrastive = 0.01849870  val loss = 0.03724302  val direct = 0.01857189  val contrastive = 0.01849871  time = 00:00:03\n"
     ]
    },
    {
     "name": "stderr",
     "output_type": "stream",
     "text": [
      "100%|██████████| 62/62 [00:03<00:00, 17.61it/s]\n"
     ]
    },
    {
     "name": "stdout",
     "output_type": "stream",
     "text": [
      "  48 ,lr = 0.00100000  train loss = 0.03774751  train direct = 0.01910083  train contrastive = 0.01933263  val loss = 0.03781064  val direct = 0.01910083  val contrastive = 0.01889636  time = 00:00:03\n"
     ]
    },
    {
     "name": "stderr",
     "output_type": "stream",
     "text": [
      "100%|██████████| 62/62 [00:03<00:00, 17.49it/s]\n"
     ]
    },
    {
     "name": "stdout",
     "output_type": "stream",
     "text": [
      "  49 ,lr = 0.00100000  train loss = 0.03553705  train direct = 0.01780085  train contrastive = 0.01879642  val loss = 0.03775730  val direct = 0.01780085  val contrastive = 0.01870499  time = 00:00:03\n"
     ]
    },
    {
     "name": "stderr",
     "output_type": "stream",
     "text": [
      "100%|██████████| 62/62 [00:03<00:00, 17.43it/s]\n"
     ]
    },
    {
     "name": "stdout",
     "output_type": "stream",
     "text": [
      "  50 ,lr = 0.00100000  train loss = 0.03499047  train direct = 0.01758087  train contrastive = 0.01814972  val loss = 0.03519261  val direct = 0.01758087  val contrastive = 0.01814972  time = 00:00:03\n"
     ]
    },
    {
     "name": "stderr",
     "output_type": "stream",
     "text": [
      "100%|██████████| 62/62 [00:03<00:00, 17.84it/s]\n"
     ]
    },
    {
     "name": "stdout",
     "output_type": "stream",
     "text": [
      "  51 ,lr = 0.00100000  train loss = 0.03500371  train direct = 0.01808123  train contrastive = 0.01697325  val loss = 0.03514380  val direct = 0.01808123  val contrastive = 0.01661732  time = 00:00:03\n"
     ]
    },
    {
     "name": "stderr",
     "output_type": "stream",
     "text": [
      "100%|██████████| 62/62 [00:03<00:00, 17.86it/s]\n"
     ]
    },
    {
     "name": "stdout",
     "output_type": "stream",
     "text": [
      "  52 ,lr = 0.00100000  train loss = 0.03236419  train direct = 0.01601164  train contrastive = 0.01790491  val loss = 0.03425948  val direct = 0.01601164  val contrastive = 0.01765519  time = 00:00:03\n"
     ]
    },
    {
     "name": "stderr",
     "output_type": "stream",
     "text": [
      "100%|██████████| 62/62 [00:03<00:00, 16.86it/s]\n"
     ]
    },
    {
     "name": "stdout",
     "output_type": "stream",
     "text": [
      "  53 ,lr = 0.00100000  train loss = 0.03605345  train direct = 0.01815787  train contrastive = 0.01746323  val loss = 0.03541620  val direct = 0.01815787  val contrastive = 0.01772835  time = 00:00:03\n"
     ]
    },
    {
     "name": "stderr",
     "output_type": "stream",
     "text": [
      "100%|██████████| 62/62 [00:03<00:00, 17.58it/s]\n"
     ]
    },
    {
     "name": "stdout",
     "output_type": "stream",
     "text": [
      "  54 ,lr = 0.00100000  train loss = 0.03578360  train direct = 0.01803841  train contrastive = 0.01733595  val loss = 0.03567647  val direct = 0.01803841  val contrastive = 0.01724513  time = 00:00:03\n"
     ]
    },
    {
     "name": "stderr",
     "output_type": "stream",
     "text": [
      "100%|██████████| 62/62 [00:03<00:00, 17.73it/s]\n"
     ]
    },
    {
     "name": "stdout",
     "output_type": "stream",
     "text": [
      "  55 ,lr = 0.00100000  train loss = 0.03365440  train direct = 0.01625256  train contrastive = 0.01682256  val loss = 0.03494371  val direct = 0.01625256  val contrastive = 0.01679389  time = 00:00:03\n"
     ]
    },
    {
     "name": "stderr",
     "output_type": "stream",
     "text": [
      "100%|██████████| 62/62 [00:03<00:00, 18.14it/s]\n"
     ]
    },
    {
     "name": "stdout",
     "output_type": "stream",
     "text": [
      "  56 ,lr = 0.00100000  train loss = 0.03635048  train direct = 0.01809223  train contrastive = 0.01829795  val loss = 0.03695791  val direct = 0.01809223  val contrastive = 0.01810673  time = 00:00:03\n"
     ]
    },
    {
     "name": "stderr",
     "output_type": "stream",
     "text": [
      "100%|██████████| 62/62 [00:03<00:00, 17.95it/s]\n"
     ]
    },
    {
     "name": "stdout",
     "output_type": "stream",
     "text": [
      "  57 ,lr = 0.00100000  train loss = 0.03651226  train direct = 0.01896023  train contrastive = 0.01702764  val loss = 0.03629648  val direct = 0.01896023  val contrastive = 0.01695364  time = 00:00:03\n"
     ]
    },
    {
     "name": "stderr",
     "output_type": "stream",
     "text": [
      "100%|██████████| 62/62 [00:03<00:00, 17.70it/s]\n"
     ]
    },
    {
     "name": "stdout",
     "output_type": "stream",
     "text": [
      "  58 ,lr = 0.00100000  train loss = 0.03204653  train direct = 0.01594655  train contrastive = 0.01620053  val loss = 0.03120082  val direct = 0.01594655  val contrastive = 0.01572923  time = 00:00:03\n"
     ]
    },
    {
     "name": "stderr",
     "output_type": "stream",
     "text": [
      "100%|██████████| 62/62 [00:03<00:00, 17.80it/s]\n"
     ]
    },
    {
     "name": "stdout",
     "output_type": "stream",
     "text": [
      "  59 ,lr = 0.00100000  train loss = 0.03207073  train direct = 0.01619329  train contrastive = 0.01620696  val loss = 0.03209402  val direct = 0.01619329  val contrastive = 0.01656899  time = 00:00:03\n"
     ]
    },
    {
     "name": "stderr",
     "output_type": "stream",
     "text": [
      "100%|██████████| 62/62 [00:03<00:00, 17.84it/s]\n"
     ]
    },
    {
     "name": "stdout",
     "output_type": "stream",
     "text": [
      "  60 ,lr = 0.00100000  train loss = 0.03217477  train direct = 0.01684917  train contrastive = 0.01612734  val loss = 0.03233499  val direct = 0.01684917  val contrastive = 0.01566916  time = 00:00:03\n"
     ]
    },
    {
     "name": "stderr",
     "output_type": "stream",
     "text": [
      "100%|██████████| 62/62 [00:03<00:00, 17.91it/s]\n"
     ]
    },
    {
     "name": "stdout",
     "output_type": "stream",
     "text": [
      "  61 ,lr = 0.00100000  train loss = 0.03534244  train direct = 0.01861275  train contrastive = 0.01693129  val loss = 0.03618957  val direct = 0.01861275  val contrastive = 0.01668632  time = 00:00:03\n"
     ]
    },
    {
     "name": "stderr",
     "output_type": "stream",
     "text": [
      "100%|██████████| 62/62 [00:03<00:00, 18.09it/s]\n"
     ]
    },
    {
     "name": "stdout",
     "output_type": "stream",
     "text": [
      "  62 ,lr = 0.00100000  train loss = 0.03026943  train direct = 0.01498024  train contrastive = 0.01491267  val loss = 0.03109085  val direct = 0.01498024  val contrastive = 0.01490830  time = 00:00:03\n"
     ]
    },
    {
     "name": "stderr",
     "output_type": "stream",
     "text": [
      "100%|██████████| 62/62 [00:03<00:00, 17.21it/s]\n"
     ]
    },
    {
     "name": "stdout",
     "output_type": "stream",
     "text": [
      "  63 ,lr = 0.00100000  train loss = 0.03077342  train direct = 0.01625817  train contrastive = 0.01478806  val loss = 0.03148397  val direct = 0.01625817  val contrastive = 0.01478806  time = 00:00:03\n"
     ]
    },
    {
     "name": "stderr",
     "output_type": "stream",
     "text": [
      "100%|██████████| 62/62 [00:03<00:00, 17.30it/s]\n"
     ]
    },
    {
     "name": "stdout",
     "output_type": "stream",
     "text": [
      "  64 ,lr = 0.00100000  train loss = 0.02970970  train direct = 0.01444864  train contrastive = 0.01419276  val loss = 0.02935327  val direct = 0.01444864  val contrastive = 0.01436835  time = 00:00:03\n"
     ]
    },
    {
     "name": "stderr",
     "output_type": "stream",
     "text": [
      "100%|██████████| 62/62 [00:03<00:00, 17.73it/s]\n"
     ]
    },
    {
     "name": "stdout",
     "output_type": "stream",
     "text": [
      "  65 ,lr = 0.00100000  train loss = 0.02966982  train direct = 0.01545383  train contrastive = 0.01425474  val loss = 0.03048860  val direct = 0.01545383  val contrastive = 0.01443439  time = 00:00:03\n"
     ]
    },
    {
     "name": "stderr",
     "output_type": "stream",
     "text": [
      "100%|██████████| 62/62 [00:03<00:00, 17.37it/s]\n"
     ]
    },
    {
     "name": "stdout",
     "output_type": "stream",
     "text": [
      "  66 ,lr = 0.00100000  train loss = 0.02787325  train direct = 0.01385223  train contrastive = 0.01443772  val loss = 0.02819859  val direct = 0.01385223  val contrastive = 0.01415719  time = 00:00:03\n"
     ]
    },
    {
     "name": "stderr",
     "output_type": "stream",
     "text": [
      "100%|██████████| 62/62 [00:03<00:00, 17.63it/s]\n"
     ]
    },
    {
     "name": "stdout",
     "output_type": "stream",
     "text": [
      "  67 ,lr = 0.00100000  train loss = 0.02721411  train direct = 0.01449616  train contrastive = 0.01362447  val loss = 0.02986837  val direct = 0.01449616  val contrastive = 0.01362447  time = 00:00:03\n"
     ]
    },
    {
     "name": "stderr",
     "output_type": "stream",
     "text": [
      "100%|██████████| 62/62 [00:03<00:00, 17.00it/s]\n"
     ]
    },
    {
     "name": "stdout",
     "output_type": "stream",
     "text": [
      "  68 ,lr = 0.00100000  train loss = 0.02682300  train direct = 0.01371786  train contrastive = 0.01336320  val loss = 0.02746409  val direct = 0.01371786  val contrastive = 0.01343595  time = 00:00:03\n"
     ]
    },
    {
     "name": "stderr",
     "output_type": "stream",
     "text": [
      "100%|██████████| 62/62 [00:03<00:00, 17.54it/s]\n"
     ]
    },
    {
     "name": "stdout",
     "output_type": "stream",
     "text": [
      "  69 ,lr = 0.00100000  train loss = 0.02785071  train direct = 0.01403585  train contrastive = 0.01367763  val loss = 0.02759717  val direct = 0.01403585  val contrastive = 0.01311854  time = 00:00:03\n"
     ]
    },
    {
     "name": "stderr",
     "output_type": "stream",
     "text": [
      "100%|██████████| 62/62 [00:03<00:00, 17.75it/s]\n"
     ]
    },
    {
     "name": "stdout",
     "output_type": "stream",
     "text": [
      "  70 ,lr = 0.00100000  train loss = 0.02663725  train direct = 0.01306764  train contrastive = 0.01374071  val loss = 0.02694893  val direct = 0.01306764  val contrastive = 0.01362734  time = 00:00:03\n"
     ]
    },
    {
     "name": "stderr",
     "output_type": "stream",
     "text": [
      "100%|██████████| 62/62 [00:03<00:00, 17.61it/s]\n"
     ]
    },
    {
     "name": "stdout",
     "output_type": "stream",
     "text": [
      "  71 ,lr = 0.00100000  train loss = 0.02691397  train direct = 0.01317114  train contrastive = 0.01403882  val loss = 0.02745685  val direct = 0.01317114  val contrastive = 0.01366386  time = 00:00:03\n"
     ]
    },
    {
     "name": "stderr",
     "output_type": "stream",
     "text": [
      "100%|██████████| 62/62 [00:03<00:00, 17.55it/s]\n"
     ]
    },
    {
     "name": "stdout",
     "output_type": "stream",
     "text": [
      "  72 ,lr = 0.00100000  train loss = 0.02772260  train direct = 0.01454521  train contrastive = 0.01381036  val loss = 0.02993113  val direct = 0.01454521  val contrastive = 0.01381036  time = 00:00:03\n"
     ]
    },
    {
     "name": "stderr",
     "output_type": "stream",
     "text": [
      "100%|██████████| 62/62 [00:03<00:00, 17.45it/s]\n"
     ]
    },
    {
     "name": "stdout",
     "output_type": "stream",
     "text": [
      "  73 ,lr = 0.00100000  train loss = 0.03071514  train direct = 0.01675394  train contrastive = 0.01290449  val loss = 0.02952549  val direct = 0.01675394  val contrastive = 0.01308511  time = 00:00:03\n"
     ]
    },
    {
     "name": "stderr",
     "output_type": "stream",
     "text": [
      "100%|██████████| 62/62 [00:03<00:00, 17.54it/s]\n"
     ]
    },
    {
     "name": "stdout",
     "output_type": "stream",
     "text": [
      "  74 ,lr = 0.00100000  train loss = 0.02861798  train direct = 0.01452438  train contrastive = 0.01330368  val loss = 0.02731248  val direct = 0.01452438  val contrastive = 0.01330368  time = 00:00:03\n"
     ]
    },
    {
     "name": "stderr",
     "output_type": "stream",
     "text": [
      "100%|██████████| 62/62 [00:03<00:00, 17.42it/s]\n"
     ]
    },
    {
     "name": "stdout",
     "output_type": "stream",
     "text": [
      "  75 ,lr = 0.00100000  train loss = 0.02689872  train direct = 0.01342017  train contrastive = 0.01330646  val loss = 0.02696646  val direct = 0.01342017  val contrastive = 0.01329028  time = 00:00:03\n"
     ]
    },
    {
     "name": "stderr",
     "output_type": "stream",
     "text": [
      "100%|██████████| 62/62 [00:03<00:00, 17.29it/s]\n"
     ]
    },
    {
     "name": "stdout",
     "output_type": "stream",
     "text": [
      "  76 ,lr = 0.00100000  train loss = 0.02806125  train direct = 0.01467919  train contrastive = 0.01328063  val loss = 0.02862329  val direct = 0.01467919  val contrastive = 0.01301930  time = 00:00:03\n"
     ]
    },
    {
     "name": "stderr",
     "output_type": "stream",
     "text": [
      "100%|██████████| 62/62 [00:03<00:00, 17.88it/s]\n"
     ]
    },
    {
     "name": "stdout",
     "output_type": "stream",
     "text": [
      "  77 ,lr = 0.00100000  train loss = 0.02849493  train direct = 0.01538732  train contrastive = 0.01303613  val loss = 0.02900368  val direct = 0.01538732  val contrastive = 0.01322772  time = 00:00:03\n"
     ]
    },
    {
     "name": "stderr",
     "output_type": "stream",
     "text": [
      "100%|██████████| 62/62 [00:03<00:00, 17.87it/s]\n"
     ]
    },
    {
     "name": "stdout",
     "output_type": "stream",
     "text": [
      "  78 ,lr = 0.00100000  train loss = 0.02559040  train direct = 0.01271621  train contrastive = 0.01191987  val loss = 0.02491253  val direct = 0.01271621  val contrastive = 0.01225143  time = 00:00:03\n"
     ]
    },
    {
     "name": "stderr",
     "output_type": "stream",
     "text": [
      "100%|██████████| 62/62 [00:03<00:00, 17.12it/s]\n"
     ]
    },
    {
     "name": "stdout",
     "output_type": "stream",
     "text": [
      "  79 ,lr = 0.00100000  train loss = 0.02623565  train direct = 0.01453693  train contrastive = 0.01144378  val loss = 0.02705388  val direct = 0.01453693  val contrastive = 0.01166512  time = 00:00:03\n"
     ]
    },
    {
     "name": "stderr",
     "output_type": "stream",
     "text": [
      "100%|██████████| 62/62 [00:03<00:00, 17.75it/s]\n"
     ]
    },
    {
     "name": "stdout",
     "output_type": "stream",
     "text": [
      "  80 ,lr = 0.00100000  train loss = 0.02573135  train direct = 0.01271361  train contrastive = 0.01314471  val loss = 0.02503810  val direct = 0.01271361  val contrastive = 0.01284587  time = 00:00:03\n"
     ]
    },
    {
     "name": "stderr",
     "output_type": "stream",
     "text": [
      "100%|██████████| 62/62 [00:03<00:00, 17.42it/s]\n"
     ]
    },
    {
     "name": "stdout",
     "output_type": "stream",
     "text": [
      "  81 ,lr = 0.00100000  train loss = 0.02435998  train direct = 0.01175198  train contrastive = 0.01222227  val loss = 0.02501545  val direct = 0.01175198  val contrastive = 0.01241027  time = 00:00:03\n"
     ]
    },
    {
     "name": "stderr",
     "output_type": "stream",
     "text": [
      "100%|██████████| 62/62 [00:03<00:00, 16.09it/s]\n"
     ]
    },
    {
     "name": "stdout",
     "output_type": "stream",
     "text": [
      "  82 ,lr = 0.00100000  train loss = 0.02636930  train direct = 0.01312233  train contrastive = 0.01297422  val loss = 0.02680024  val direct = 0.01312233  val contrastive = 0.01308102  time = 00:00:03\n"
     ]
    },
    {
     "name": "stderr",
     "output_type": "stream",
     "text": [
      "100%|██████████| 62/62 [00:03<00:00, 17.22it/s]\n"
     ]
    },
    {
     "name": "stdout",
     "output_type": "stream",
     "text": [
      "  83 ,lr = 0.00100000  train loss = 0.02732427  train direct = 0.01440449  train contrastive = 0.01296101  val loss = 0.02662612  val direct = 0.01440449  val contrastive = 0.01286289  time = 00:00:03\n"
     ]
    },
    {
     "name": "stderr",
     "output_type": "stream",
     "text": [
      "100%|██████████| 62/62 [00:03<00:00, 17.69it/s]\n"
     ]
    },
    {
     "name": "stdout",
     "output_type": "stream",
     "text": [
      "  84 ,lr = 0.00100000  train loss = 0.02356750  train direct = 0.01143655  train contrastive = 0.01145151  val loss = 0.02324435  val direct = 0.01143655  val contrastive = 0.01164482  time = 00:00:03\n"
     ]
    },
    {
     "name": "stderr",
     "output_type": "stream",
     "text": [
      "100%|██████████| 62/62 [00:03<00:00, 17.58it/s]\n"
     ]
    },
    {
     "name": "stdout",
     "output_type": "stream",
     "text": [
      "  85 ,lr = 0.00100000  train loss = 0.02297209  train direct = 0.01114111  train contrastive = 0.01142883  val loss = 0.02280388  val direct = 0.01114111  val contrastive = 0.01178861  time = 00:00:03\n"
     ]
    },
    {
     "name": "stderr",
     "output_type": "stream",
     "text": [
      "100%|██████████| 62/62 [00:03<00:00, 16.96it/s]\n"
     ]
    },
    {
     "name": "stdout",
     "output_type": "stream",
     "text": [
      "  86 ,lr = 0.00100000  train loss = 0.02288446  train direct = 0.01190312  train contrastive = 0.01165638  val loss = 0.02237365  val direct = 0.01190312  val contrastive = 0.01096887  time = 00:00:03\n"
     ]
    },
    {
     "name": "stderr",
     "output_type": "stream",
     "text": [
      "100%|██████████| 62/62 [00:03<00:00, 16.53it/s]\n"
     ]
    },
    {
     "name": "stdout",
     "output_type": "stream",
     "text": [
      "  87 ,lr = 0.00100000  train loss = 0.02235708  train direct = 0.01112004  train contrastive = 0.01129339  val loss = 0.02435746  val direct = 0.01112004  val contrastive = 0.01135831  time = 00:00:03\n"
     ]
    },
    {
     "name": "stderr",
     "output_type": "stream",
     "text": [
      "100%|██████████| 62/62 [00:03<00:00, 17.88it/s]\n"
     ]
    },
    {
     "name": "stdout",
     "output_type": "stream",
     "text": [
      "  88 ,lr = 0.00100000  train loss = 0.02089045  train direct = 0.01058395  train contrastive = 0.01027300  val loss = 0.02074124  val direct = 0.01058395  val contrastive = 0.01029772  time = 00:00:03\n"
     ]
    },
    {
     "name": "stderr",
     "output_type": "stream",
     "text": [
      "100%|██████████| 62/62 [00:03<00:00, 17.75it/s]\n"
     ]
    },
    {
     "name": "stdout",
     "output_type": "stream",
     "text": [
      "  89 ,lr = 0.00100000  train loss = 0.02233069  train direct = 0.01169320  train contrastive = 0.01058634  val loss = 0.02164934  val direct = 0.01169320  val contrastive = 0.01058634  time = 00:00:03\n"
     ]
    },
    {
     "name": "stderr",
     "output_type": "stream",
     "text": [
      "100%|██████████| 62/62 [00:03<00:00, 16.75it/s]\n"
     ]
    },
    {
     "name": "stdout",
     "output_type": "stream",
     "text": [
      "  90 ,lr = 0.00100000  train loss = 0.02273879  train direct = 0.01157835  train contrastive = 0.01031060  val loss = 0.02285625  val direct = 0.01157835  val contrastive = 0.01056431  time = 00:00:03\n"
     ]
    },
    {
     "name": "stderr",
     "output_type": "stream",
     "text": [
      "100%|██████████| 62/62 [00:03<00:00, 17.87it/s]\n"
     ]
    },
    {
     "name": "stdout",
     "output_type": "stream",
     "text": [
      "  91 ,lr = 0.00100000  train loss = 0.02229334  train direct = 0.01078850  train contrastive = 0.01085257  val loss = 0.02192794  val direct = 0.01078850  val contrastive = 0.01094873  time = 00:00:03\n"
     ]
    },
    {
     "name": "stderr",
     "output_type": "stream",
     "text": [
      "100%|██████████| 62/62 [00:03<00:00, 18.04it/s]\n"
     ]
    },
    {
     "name": "stdout",
     "output_type": "stream",
     "text": [
      "  92 ,lr = 0.00100000  train loss = 0.02509564  train direct = 0.01164074  train contrastive = 0.01180484  val loss = 0.02290134  val direct = 0.01164074  val contrastive = 0.01221538  time = 00:00:03\n"
     ]
    },
    {
     "name": "stderr",
     "output_type": "stream",
     "text": [
      "100%|██████████| 62/62 [00:03<00:00, 17.87it/s]\n"
     ]
    },
    {
     "name": "stdout",
     "output_type": "stream",
     "text": [
      "  93 ,lr = 0.00100000  train loss = 0.02275401  train direct = 0.01198283  train contrastive = 0.01032171  val loss = 0.02191754  val direct = 0.01198283  val contrastive = 0.01036356  time = 00:00:03\n"
     ]
    },
    {
     "name": "stderr",
     "output_type": "stream",
     "text": [
      "100%|██████████| 62/62 [00:03<00:00, 17.55it/s]\n"
     ]
    },
    {
     "name": "stdout",
     "output_type": "stream",
     "text": [
      "  94 ,lr = 0.00100000  train loss = 0.01909599  train direct = 0.00926674  train contrastive = 0.00989645  val loss = 0.01934439  val direct = 0.00926674  val contrastive = 0.00989645  time = 00:00:03\n"
     ]
    },
    {
     "name": "stderr",
     "output_type": "stream",
     "text": [
      "100%|██████████| 62/62 [00:03<00:00, 17.55it/s]\n"
     ]
    },
    {
     "name": "stdout",
     "output_type": "stream",
     "text": [
      "  95 ,lr = 0.00100000  train loss = 0.02229898  train direct = 0.01183174  train contrastive = 0.01047167  val loss = 0.02217898  val direct = 0.01183174  val contrastive = 0.01031336  time = 00:00:03\n"
     ]
    },
    {
     "name": "stderr",
     "output_type": "stream",
     "text": [
      "100%|██████████| 62/62 [00:03<00:00, 18.22it/s]\n"
     ]
    },
    {
     "name": "stdout",
     "output_type": "stream",
     "text": [
      "  96 ,lr = 0.00100000  train loss = 0.01935677  train direct = 0.00996107  train contrastive = 0.00963977  val loss = 0.01924725  val direct = 0.00996107  val contrastive = 0.00963977  time = 00:00:03\n"
     ]
    },
    {
     "name": "stderr",
     "output_type": "stream",
     "text": [
      "100%|██████████| 62/62 [00:03<00:00, 18.18it/s]\n"
     ]
    },
    {
     "name": "stdout",
     "output_type": "stream",
     "text": [
      "  97 ,lr = 0.00100000  train loss = 0.02140566  train direct = 0.01098167  train contrastive = 0.01005159  val loss = 0.02073940  val direct = 0.01098167  val contrastive = 0.01012351  time = 00:00:03\n"
     ]
    },
    {
     "name": "stderr",
     "output_type": "stream",
     "text": [
      "100%|██████████| 62/62 [00:03<00:00, 17.72it/s]\n"
     ]
    },
    {
     "name": "stdout",
     "output_type": "stream",
     "text": [
      "  98 ,lr = 0.00100000  train loss = 0.02139585  train direct = 0.01094809  train contrastive = 0.01027169  val loss = 0.02083792  val direct = 0.01094809  val contrastive = 0.01028169  time = 00:00:03\n"
     ]
    },
    {
     "name": "stderr",
     "output_type": "stream",
     "text": [
      "100%|██████████| 62/62 [00:03<00:00, 17.72it/s]\n"
     ]
    },
    {
     "name": "stdout",
     "output_type": "stream",
     "text": [
      "  99 ,lr = 0.00100000  train loss = 0.02003007  train direct = 0.00990791  train contrastive = 0.00952186  val loss = 0.01971262  val direct = 0.00990791  val contrastive = 0.00981011  time = 00:00:03\n"
     ]
    },
    {
     "name": "stderr",
     "output_type": "stream",
     "text": [
      "100%|██████████| 62/62 [00:03<00:00, 18.34it/s]\n"
     ]
    },
    {
     "name": "stdout",
     "output_type": "stream",
     "text": [
      " 100 ,lr = 0.00100000  train loss = 0.02261519  train direct = 0.01169635  train contrastive = 0.01065002  val loss = 0.02213538  val direct = 0.01169635  val contrastive = 0.01023707  time = 00:00:03\n"
     ]
    }
   ],
   "source": [
    "hyperparameters = get_default_e3nn_hyperparameters()\n",
    "print(hyperparameters)\n",
    "best_model, loss_fn = trainer(model,Normalizer,'e3nn_contrastive',train_loader,train_loader,hyperparameters,\"saved_models/e3nn_contrastive/Scrap\",0)"
   ]
  },
  {
   "cell_type": "code",
   "execution_count": 30,
   "id": "690da6a1",
   "metadata": {},
   "outputs": [
    {
     "name": "stderr",
     "output_type": "stream",
     "text": [
      "100%|██████████| 62/62 [00:00<00:00, 489.00it/s]"
     ]
    },
    {
     "name": "stdout",
     "output_type": "stream",
     "text": [
      "DataCompBatch(x=[880, 92], edge_index=[2, 44880], pos=[880, 3], lattice=[22, 3, 3], symbol=[22], comp=[22], z=[880, 92], edge_shift=[44880, 3], edge_vec=[44880, 3], edge_len=[22], target=[22, 1], idx=[22, 1], batch=[880], ptr=[23])\n",
      "['La4Mn8O24Sr4', 'La4Mn8O24Sr4', 'La4Mn8O24Sr4', 'La4Mn8O24Sr4', 'La4Mn8O24Sr4', 'Mg5Mn4O24Sr3Ta4', 'Mg5Mn4O24Sr3Ta4', 'Mg5Mn4O24Sr3Ta4', 'Mg5Mn4O24Sr3Ta4', 'Mg5Mn4O24Sr3Ta4', 'Mg5Mn4O24Sr3Ta4', 'Co4Mn4O24Pr8', 'Co4Mn4O24Pr8', 'Co4Mn4O24Pr8', 'Co4Mn4O24Pr8', 'Co4Mn4O24Pr8', 'Co4Fe4La2O24Sr6', 'Co4Fe4La2O24Sr6', 'Co4Fe4La2O24Sr6', 'Co4Fe4La2O24Sr6', 'Co4Fe4La2O24Sr6', 'Co4Fe4La2O24Sr6']\n"
     ]
    },
    {
     "name": "stderr",
     "output_type": "stream",
     "text": [
      "\n"
     ]
    }
   ],
   "source": [
    "#### Looking at contrastive dataloader\n",
    "from tqdm import tqdm\n",
    "\n",
    "batch_num = 7\n",
    "\n",
    "for j, d in tqdm(enumerate(train_loader), total=len(train_loader)):\n",
    "    \n",
    "    if j == 4:\n",
    "        \n",
    "        print(d)\n",
    "        print(d.comp)\n"
   ]
  },
  {
   "cell_type": "code",
   "execution_count": null,
   "id": "b3ec1288",
   "metadata": {},
   "outputs": [],
   "source": []
  }
 ],
 "metadata": {
  "kernelspec": {
   "display_name": "Perovskite ML",
   "language": "python",
   "name": "perovskite_ml_environment"
  },
  "language_info": {
   "codemirror_mode": {
    "name": "ipython",
    "version": 3
   },
   "file_extension": ".py",
   "mimetype": "text/x-python",
   "name": "python",
   "nbconvert_exporter": "python",
   "pygments_lexer": "ipython3",
   "version": "3.10.11"
  }
 },
 "nbformat": 4,
 "nbformat_minor": 5
}
