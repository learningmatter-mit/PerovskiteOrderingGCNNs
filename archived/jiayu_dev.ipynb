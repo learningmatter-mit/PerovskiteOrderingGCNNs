{
 "cells": [
  {
   "cell_type": "code",
   "execution_count": 1,
   "metadata": {},
   "outputs": [
    {
     "name": "stderr",
     "output_type": "stream",
     "text": [
      "/home/jypeng/miniconda3/envs/Perovskite_ML_Environment/lib/python3.10/site-packages/tqdm/auto.py:21: TqdmWarning: IProgress not found. Please update jupyter and ipywidgets. See https://ipywidgets.readthedocs.io/en/stable/user_install.html\n",
      "  from .autonotebook import tqdm as notebook_tqdm\n"
     ]
    }
   ],
   "source": [
    "import pandas as pd\n",
    "from processing.utils import filter_data_by_properties, select_structures\n",
    "from processing.interpolation.Interpolation import apply_interpolation\n",
    "from processing.dataloader.dataloader import get_dataloader\n",
    "from processing.create_model.create_model import create_model\n",
    "from training.hyperparameters.default import get_default_cgcnn_hyperparameters, get_default_painn_hyperparameters, get_default_e3nn_hyperparameters\n",
    "from training.model_training.trainer import trainer"
   ]
  },
  {
   "cell_type": "code",
   "execution_count": 2,
   "metadata": {},
   "outputs": [],
   "source": [
    "perovskite_datasets = {}\n",
    "\n",
    "# dataset_names = ['training_set', 'validation_set', 'test_set', 'holdout_set_B_sites', 'holdout_set_series']\n",
    "dataset_names = ['training_set', 'validation_set']\n",
    "\n",
    "for dataset_name in dataset_names:\n",
    "    perovskite_datasets[dataset_name] = pd.read_json('./data/' + dataset_name + '.json')"
   ]
  },
  {
   "cell_type": "code",
   "execution_count": 3,
   "metadata": {},
   "outputs": [],
   "source": [
    "property = 'dft_e_hull'"
   ]
  },
  {
   "cell_type": "code",
   "execution_count": 4,
   "metadata": {},
   "outputs": [],
   "source": [
    "train_data = filter_data_by_properties(perovskite_datasets['training_set'][:100], property)\n",
    "val_data = filter_data_by_properties(perovskite_datasets['validation_set'][:100], property)\n",
    "\n",
    "train_data_unrelaxed = select_structures(train_data, 'unrelaxed')\n",
    "val_data_unrelaxed = select_structures(val_data, 'unrelaxed')\n",
    "\n",
    "train_data_unrelaxed = apply_interpolation(train_data_unrelaxed, property)\n",
    "val_data_unrelaxed = apply_interpolation(val_data_unrelaxed, property)"
   ]
  },
  {
   "cell_type": "code",
   "execution_count": 5,
   "metadata": {},
   "outputs": [],
   "source": [
    "gpu_num = 0\n",
    "model_type = 'e3nn_contrastive'\n",
    "OUTDIR = 'saved_models/' + model_type + '/Scrap2'"
   ]
  },
  {
   "cell_type": "code",
   "execution_count": 6,
   "metadata": {},
   "outputs": [
    {
     "name": "stderr",
     "output_type": "stream",
     "text": [
      "100%|██████████| 100/100 [00:00<00:00, 1562.61it/s]\n",
      "100%|██████████| 100/100 [00:00<00:00, 2379.46it/s]\n"
     ]
    }
   ],
   "source": [
    "train_loader = get_dataloader(train_data_unrelaxed, prop=\"dft_e_hull\", model_type=model_type, batch_size=10, interpolation=True)\n",
    "val_loader = get_dataloader(val_data_unrelaxed, prop=\"dft_e_hull\", model_type=model_type, batch_size=10, interpolation=True)"
   ]
  },
  {
   "cell_type": "code",
   "execution_count": 7,
   "metadata": {},
   "outputs": [
    {
     "name": "stdout",
     "output_type": "stream",
     "text": [
      "{'MaxEpochs': 100, 'log_lr': -3, 'reduceLR_patience': 10, 'len_embedding_feature_vector': 64, 'num_hidden_feature': 128, 'num_hidden_layer': 1, 'multiplicity_irreps': 32, 'num_conv': 1, 'num_radical_basis': 10, 'num_radial_neurons': 10}\n"
     ]
    },
    {
     "name": "stderr",
     "output_type": "stream",
     "text": [
      "/home/jypeng/miniconda3/envs/Perovskite_ML_Environment/lib/python3.10/site-packages/torch/jit/_check.py:181: UserWarning: The TorchScript type system doesn't support instance-level annotations on empty non-base types in `__init__`. Instead, either 1) use a type annotation in the class body, or 2) wrap the type in `torch.jit.Attribute`.\n",
      "  warnings.warn(\"The TorchScript type system doesn't support \"\n"
     ]
    }
   ],
   "source": [
    "hyperparameters = get_default_e3nn_hyperparameters()\n",
    "hyperparameters['num_hidden_layer'] = 1\n",
    "hyperparameters['num_conv'] = 1\n",
    "hyperparameters['num_radial_neurons'] = 10\n",
    "print(hyperparameters)\n",
    "\n",
    "model, Normalizer = create_model(model_type, train_loader, hyperparameters=hyperparameters, prop=property)"
   ]
  },
  {
   "cell_type": "code",
   "execution_count": null,
   "metadata": {},
   "outputs": [],
   "source": []
  },
  {
   "cell_type": "code",
   "execution_count": null,
   "metadata": {},
   "outputs": [],
   "source": []
  },
  {
   "cell_type": "code",
   "execution_count": null,
   "metadata": {},
   "outputs": [],
   "source": []
  },
  {
   "cell_type": "code",
   "execution_count": null,
   "metadata": {},
   "outputs": [],
   "source": []
  },
  {
   "cell_type": "code",
   "execution_count": null,
   "metadata": {},
   "outputs": [],
   "source": []
  },
  {
   "cell_type": "code",
   "execution_count": null,
   "metadata": {},
   "outputs": [],
   "source": []
  },
  {
   "cell_type": "code",
   "execution_count": null,
   "metadata": {},
   "outputs": [],
   "source": []
  },
  {
   "cell_type": "code",
   "execution_count": null,
   "metadata": {},
   "outputs": [],
   "source": []
  }
 ],
 "metadata": {
  "kernelspec": {
   "display_name": "Perovskite_ML_Environment",
   "language": "python",
   "name": "python3"
  },
  "language_info": {
   "codemirror_mode": {
    "name": "ipython",
    "version": 3
   },
   "file_extension": ".py",
   "mimetype": "text/x-python",
   "name": "python",
   "nbconvert_exporter": "python",
   "pygments_lexer": "ipython3",
   "version": "3.10.11"
  },
  "orig_nbformat": 4
 },
 "nbformat": 4,
 "nbformat_minor": 2
}
